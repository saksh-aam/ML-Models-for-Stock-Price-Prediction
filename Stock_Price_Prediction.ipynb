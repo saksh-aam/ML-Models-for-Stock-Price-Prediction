{
  "cells": [
    {
      "cell_type": "markdown",
      "metadata": {
        "id": "view-in-github",
        "colab_type": "text"
      },
      "source": [
        "<a href=\"https://colab.research.google.com/github/saksh-aam/ML-Models-for-Stock-Price-Prediction/blob/main/Stock_Price_Prediction.ipynb\" target=\"_parent\"><img src=\"https://colab.research.google.com/assets/colab-badge.svg\" alt=\"Open In Colab\"/></a>"
      ]
    },
    {
      "cell_type": "code",
      "execution_count": 2,
      "metadata": {
        "colab": {
          "base_uri": "https://localhost:8080/",
          "height": 424
        },
        "id": "BUlIupgb-DQP",
        "outputId": "b3dbe32b-d914-487a-e36c-b48b6bdd7786"
      },
      "outputs": [
        {
          "output_type": "execute_result",
          "data": {
            "text/plain": [
              "            Date          Open          High           Low         Close  \\\n",
              "0     2007-09-17   4518.450195   4549.049805   4482.850098   4494.649902   \n",
              "1     2007-09-18   4494.100098   4551.799805   4481.549805   4546.200195   \n",
              "2     2007-09-19   4550.250000   4739.000000   4550.250000   4732.350098   \n",
              "3     2007-09-20   4734.850098   4760.850098   4721.149902   4747.549805   \n",
              "4     2007-09-21   4752.950195   4855.700195   4733.700195   4837.549805   \n",
              "...          ...           ...           ...           ...           ...   \n",
              "3698  2022-09-08  17748.150391  17807.650391  17691.949219  17798.750000   \n",
              "3699  2022-09-09  17923.349609  17925.949219  17786.000000  17833.349609   \n",
              "3700  2022-09-12  17890.849609  17980.550781  17889.150391  17936.349609   \n",
              "3701  2022-09-13  18044.449219  18088.300781  18015.449219  18070.050781   \n",
              "3702  2022-09-14  17771.150391  18091.550781  17771.150391  18003.750000   \n",
              "\n",
              "         Adj Close    Volume  \n",
              "0      4494.649902       0.0  \n",
              "1      4546.200195       0.0  \n",
              "2      4732.350098       0.0  \n",
              "3      4747.549805       0.0  \n",
              "4      4837.549805       0.0  \n",
              "...            ...       ...  \n",
              "3698  17798.750000  279800.0  \n",
              "3699  17833.349609  270300.0  \n",
              "3700  17936.349609  228200.0  \n",
              "3701  18070.050781  259900.0  \n",
              "3702  18003.750000       0.0  \n",
              "\n",
              "[3703 rows x 7 columns]"
            ],
            "text/html": [
              "\n",
              "  <div id=\"df-483653d3-e7a4-4fa5-9198-9b6213b57423\">\n",
              "    <div class=\"colab-df-container\">\n",
              "      <div>\n",
              "<style scoped>\n",
              "    .dataframe tbody tr th:only-of-type {\n",
              "        vertical-align: middle;\n",
              "    }\n",
              "\n",
              "    .dataframe tbody tr th {\n",
              "        vertical-align: top;\n",
              "    }\n",
              "\n",
              "    .dataframe thead th {\n",
              "        text-align: right;\n",
              "    }\n",
              "</style>\n",
              "<table border=\"1\" class=\"dataframe\">\n",
              "  <thead>\n",
              "    <tr style=\"text-align: right;\">\n",
              "      <th></th>\n",
              "      <th>Date</th>\n",
              "      <th>Open</th>\n",
              "      <th>High</th>\n",
              "      <th>Low</th>\n",
              "      <th>Close</th>\n",
              "      <th>Adj Close</th>\n",
              "      <th>Volume</th>\n",
              "    </tr>\n",
              "  </thead>\n",
              "  <tbody>\n",
              "    <tr>\n",
              "      <th>0</th>\n",
              "      <td>2007-09-17</td>\n",
              "      <td>4518.450195</td>\n",
              "      <td>4549.049805</td>\n",
              "      <td>4482.850098</td>\n",
              "      <td>4494.649902</td>\n",
              "      <td>4494.649902</td>\n",
              "      <td>0.0</td>\n",
              "    </tr>\n",
              "    <tr>\n",
              "      <th>1</th>\n",
              "      <td>2007-09-18</td>\n",
              "      <td>4494.100098</td>\n",
              "      <td>4551.799805</td>\n",
              "      <td>4481.549805</td>\n",
              "      <td>4546.200195</td>\n",
              "      <td>4546.200195</td>\n",
              "      <td>0.0</td>\n",
              "    </tr>\n",
              "    <tr>\n",
              "      <th>2</th>\n",
              "      <td>2007-09-19</td>\n",
              "      <td>4550.250000</td>\n",
              "      <td>4739.000000</td>\n",
              "      <td>4550.250000</td>\n",
              "      <td>4732.350098</td>\n",
              "      <td>4732.350098</td>\n",
              "      <td>0.0</td>\n",
              "    </tr>\n",
              "    <tr>\n",
              "      <th>3</th>\n",
              "      <td>2007-09-20</td>\n",
              "      <td>4734.850098</td>\n",
              "      <td>4760.850098</td>\n",
              "      <td>4721.149902</td>\n",
              "      <td>4747.549805</td>\n",
              "      <td>4747.549805</td>\n",
              "      <td>0.0</td>\n",
              "    </tr>\n",
              "    <tr>\n",
              "      <th>4</th>\n",
              "      <td>2007-09-21</td>\n",
              "      <td>4752.950195</td>\n",
              "      <td>4855.700195</td>\n",
              "      <td>4733.700195</td>\n",
              "      <td>4837.549805</td>\n",
              "      <td>4837.549805</td>\n",
              "      <td>0.0</td>\n",
              "    </tr>\n",
              "    <tr>\n",
              "      <th>...</th>\n",
              "      <td>...</td>\n",
              "      <td>...</td>\n",
              "      <td>...</td>\n",
              "      <td>...</td>\n",
              "      <td>...</td>\n",
              "      <td>...</td>\n",
              "      <td>...</td>\n",
              "    </tr>\n",
              "    <tr>\n",
              "      <th>3698</th>\n",
              "      <td>2022-09-08</td>\n",
              "      <td>17748.150391</td>\n",
              "      <td>17807.650391</td>\n",
              "      <td>17691.949219</td>\n",
              "      <td>17798.750000</td>\n",
              "      <td>17798.750000</td>\n",
              "      <td>279800.0</td>\n",
              "    </tr>\n",
              "    <tr>\n",
              "      <th>3699</th>\n",
              "      <td>2022-09-09</td>\n",
              "      <td>17923.349609</td>\n",
              "      <td>17925.949219</td>\n",
              "      <td>17786.000000</td>\n",
              "      <td>17833.349609</td>\n",
              "      <td>17833.349609</td>\n",
              "      <td>270300.0</td>\n",
              "    </tr>\n",
              "    <tr>\n",
              "      <th>3700</th>\n",
              "      <td>2022-09-12</td>\n",
              "      <td>17890.849609</td>\n",
              "      <td>17980.550781</td>\n",
              "      <td>17889.150391</td>\n",
              "      <td>17936.349609</td>\n",
              "      <td>17936.349609</td>\n",
              "      <td>228200.0</td>\n",
              "    </tr>\n",
              "    <tr>\n",
              "      <th>3701</th>\n",
              "      <td>2022-09-13</td>\n",
              "      <td>18044.449219</td>\n",
              "      <td>18088.300781</td>\n",
              "      <td>18015.449219</td>\n",
              "      <td>18070.050781</td>\n",
              "      <td>18070.050781</td>\n",
              "      <td>259900.0</td>\n",
              "    </tr>\n",
              "    <tr>\n",
              "      <th>3702</th>\n",
              "      <td>2022-09-14</td>\n",
              "      <td>17771.150391</td>\n",
              "      <td>18091.550781</td>\n",
              "      <td>17771.150391</td>\n",
              "      <td>18003.750000</td>\n",
              "      <td>18003.750000</td>\n",
              "      <td>0.0</td>\n",
              "    </tr>\n",
              "  </tbody>\n",
              "</table>\n",
              "<p>3703 rows × 7 columns</p>\n",
              "</div>\n",
              "      <button class=\"colab-df-convert\" onclick=\"convertToInteractive('df-483653d3-e7a4-4fa5-9198-9b6213b57423')\"\n",
              "              title=\"Convert this dataframe to an interactive table.\"\n",
              "              style=\"display:none;\">\n",
              "        \n",
              "  <svg xmlns=\"http://www.w3.org/2000/svg\" height=\"24px\"viewBox=\"0 0 24 24\"\n",
              "       width=\"24px\">\n",
              "    <path d=\"M0 0h24v24H0V0z\" fill=\"none\"/>\n",
              "    <path d=\"M18.56 5.44l.94 2.06.94-2.06 2.06-.94-2.06-.94-.94-2.06-.94 2.06-2.06.94zm-11 1L8.5 8.5l.94-2.06 2.06-.94-2.06-.94L8.5 2.5l-.94 2.06-2.06.94zm10 10l.94 2.06.94-2.06 2.06-.94-2.06-.94-.94-2.06-.94 2.06-2.06.94z\"/><path d=\"M17.41 7.96l-1.37-1.37c-.4-.4-.92-.59-1.43-.59-.52 0-1.04.2-1.43.59L10.3 9.45l-7.72 7.72c-.78.78-.78 2.05 0 2.83L4 21.41c.39.39.9.59 1.41.59.51 0 1.02-.2 1.41-.59l7.78-7.78 2.81-2.81c.8-.78.8-2.07 0-2.86zM5.41 20L4 18.59l7.72-7.72 1.47 1.35L5.41 20z\"/>\n",
              "  </svg>\n",
              "      </button>\n",
              "      \n",
              "  <style>\n",
              "    .colab-df-container {\n",
              "      display:flex;\n",
              "      flex-wrap:wrap;\n",
              "      gap: 12px;\n",
              "    }\n",
              "\n",
              "    .colab-df-convert {\n",
              "      background-color: #E8F0FE;\n",
              "      border: none;\n",
              "      border-radius: 50%;\n",
              "      cursor: pointer;\n",
              "      display: none;\n",
              "      fill: #1967D2;\n",
              "      height: 32px;\n",
              "      padding: 0 0 0 0;\n",
              "      width: 32px;\n",
              "    }\n",
              "\n",
              "    .colab-df-convert:hover {\n",
              "      background-color: #E2EBFA;\n",
              "      box-shadow: 0px 1px 2px rgba(60, 64, 67, 0.3), 0px 1px 3px 1px rgba(60, 64, 67, 0.15);\n",
              "      fill: #174EA6;\n",
              "    }\n",
              "\n",
              "    [theme=dark] .colab-df-convert {\n",
              "      background-color: #3B4455;\n",
              "      fill: #D2E3FC;\n",
              "    }\n",
              "\n",
              "    [theme=dark] .colab-df-convert:hover {\n",
              "      background-color: #434B5C;\n",
              "      box-shadow: 0px 1px 3px 1px rgba(0, 0, 0, 0.15);\n",
              "      filter: drop-shadow(0px 1px 2px rgba(0, 0, 0, 0.3));\n",
              "      fill: #FFFFFF;\n",
              "    }\n",
              "  </style>\n",
              "\n",
              "      <script>\n",
              "        const buttonEl =\n",
              "          document.querySelector('#df-483653d3-e7a4-4fa5-9198-9b6213b57423 button.colab-df-convert');\n",
              "        buttonEl.style.display =\n",
              "          google.colab.kernel.accessAllowed ? 'block' : 'none';\n",
              "\n",
              "        async function convertToInteractive(key) {\n",
              "          const element = document.querySelector('#df-483653d3-e7a4-4fa5-9198-9b6213b57423');\n",
              "          const dataTable =\n",
              "            await google.colab.kernel.invokeFunction('convertToInteractive',\n",
              "                                                     [key], {});\n",
              "          if (!dataTable) return;\n",
              "\n",
              "          const docLinkHtml = 'Like what you see? Visit the ' +\n",
              "            '<a target=\"_blank\" href=https://colab.research.google.com/notebooks/data_table.ipynb>data table notebook</a>'\n",
              "            + ' to learn more about interactive tables.';\n",
              "          element.innerHTML = '';\n",
              "          dataTable['output_type'] = 'display_data';\n",
              "          await google.colab.output.renderOutput(dataTable, element);\n",
              "          const docLink = document.createElement('div');\n",
              "          docLink.innerHTML = docLinkHtml;\n",
              "          element.appendChild(docLink);\n",
              "        }\n",
              "      </script>\n",
              "    </div>\n",
              "  </div>\n",
              "  "
            ]
          },
          "metadata": {},
          "execution_count": 2
        }
      ],
      "source": [
        "import pandas as pd\n",
        "\n",
        "df = pd.read_csv('/content/Nifty50.csv')\n",
        "\n",
        "df"
      ]
    },
    {
      "cell_type": "code",
      "execution_count": 3,
      "metadata": {
        "colab": {
          "base_uri": "https://localhost:8080/",
          "height": 424
        },
        "id": "UssjNuN5_50i",
        "outputId": "f963eeff-ef14-4ce6-a3f7-ba03eddfc2f8"
      },
      "outputs": [
        {
          "output_type": "execute_result",
          "data": {
            "text/plain": [
              "            Date         Close\n",
              "0     2007-09-17   4494.649902\n",
              "1     2007-09-18   4546.200195\n",
              "2     2007-09-19   4732.350098\n",
              "3     2007-09-20   4747.549805\n",
              "4     2007-09-21   4837.549805\n",
              "...          ...           ...\n",
              "3698  2022-09-08  17798.750000\n",
              "3699  2022-09-09  17833.349609\n",
              "3700  2022-09-12  17936.349609\n",
              "3701  2022-09-13  18070.050781\n",
              "3702  2022-09-14  18003.750000\n",
              "\n",
              "[3703 rows x 2 columns]"
            ],
            "text/html": [
              "\n",
              "  <div id=\"df-6d5f7d0d-edcd-423d-9aa2-22cf1e82cb6f\">\n",
              "    <div class=\"colab-df-container\">\n",
              "      <div>\n",
              "<style scoped>\n",
              "    .dataframe tbody tr th:only-of-type {\n",
              "        vertical-align: middle;\n",
              "    }\n",
              "\n",
              "    .dataframe tbody tr th {\n",
              "        vertical-align: top;\n",
              "    }\n",
              "\n",
              "    .dataframe thead th {\n",
              "        text-align: right;\n",
              "    }\n",
              "</style>\n",
              "<table border=\"1\" class=\"dataframe\">\n",
              "  <thead>\n",
              "    <tr style=\"text-align: right;\">\n",
              "      <th></th>\n",
              "      <th>Date</th>\n",
              "      <th>Close</th>\n",
              "    </tr>\n",
              "  </thead>\n",
              "  <tbody>\n",
              "    <tr>\n",
              "      <th>0</th>\n",
              "      <td>2007-09-17</td>\n",
              "      <td>4494.649902</td>\n",
              "    </tr>\n",
              "    <tr>\n",
              "      <th>1</th>\n",
              "      <td>2007-09-18</td>\n",
              "      <td>4546.200195</td>\n",
              "    </tr>\n",
              "    <tr>\n",
              "      <th>2</th>\n",
              "      <td>2007-09-19</td>\n",
              "      <td>4732.350098</td>\n",
              "    </tr>\n",
              "    <tr>\n",
              "      <th>3</th>\n",
              "      <td>2007-09-20</td>\n",
              "      <td>4747.549805</td>\n",
              "    </tr>\n",
              "    <tr>\n",
              "      <th>4</th>\n",
              "      <td>2007-09-21</td>\n",
              "      <td>4837.549805</td>\n",
              "    </tr>\n",
              "    <tr>\n",
              "      <th>...</th>\n",
              "      <td>...</td>\n",
              "      <td>...</td>\n",
              "    </tr>\n",
              "    <tr>\n",
              "      <th>3698</th>\n",
              "      <td>2022-09-08</td>\n",
              "      <td>17798.750000</td>\n",
              "    </tr>\n",
              "    <tr>\n",
              "      <th>3699</th>\n",
              "      <td>2022-09-09</td>\n",
              "      <td>17833.349609</td>\n",
              "    </tr>\n",
              "    <tr>\n",
              "      <th>3700</th>\n",
              "      <td>2022-09-12</td>\n",
              "      <td>17936.349609</td>\n",
              "    </tr>\n",
              "    <tr>\n",
              "      <th>3701</th>\n",
              "      <td>2022-09-13</td>\n",
              "      <td>18070.050781</td>\n",
              "    </tr>\n",
              "    <tr>\n",
              "      <th>3702</th>\n",
              "      <td>2022-09-14</td>\n",
              "      <td>18003.750000</td>\n",
              "    </tr>\n",
              "  </tbody>\n",
              "</table>\n",
              "<p>3703 rows × 2 columns</p>\n",
              "</div>\n",
              "      <button class=\"colab-df-convert\" onclick=\"convertToInteractive('df-6d5f7d0d-edcd-423d-9aa2-22cf1e82cb6f')\"\n",
              "              title=\"Convert this dataframe to an interactive table.\"\n",
              "              style=\"display:none;\">\n",
              "        \n",
              "  <svg xmlns=\"http://www.w3.org/2000/svg\" height=\"24px\"viewBox=\"0 0 24 24\"\n",
              "       width=\"24px\">\n",
              "    <path d=\"M0 0h24v24H0V0z\" fill=\"none\"/>\n",
              "    <path d=\"M18.56 5.44l.94 2.06.94-2.06 2.06-.94-2.06-.94-.94-2.06-.94 2.06-2.06.94zm-11 1L8.5 8.5l.94-2.06 2.06-.94-2.06-.94L8.5 2.5l-.94 2.06-2.06.94zm10 10l.94 2.06.94-2.06 2.06-.94-2.06-.94-.94-2.06-.94 2.06-2.06.94z\"/><path d=\"M17.41 7.96l-1.37-1.37c-.4-.4-.92-.59-1.43-.59-.52 0-1.04.2-1.43.59L10.3 9.45l-7.72 7.72c-.78.78-.78 2.05 0 2.83L4 21.41c.39.39.9.59 1.41.59.51 0 1.02-.2 1.41-.59l7.78-7.78 2.81-2.81c.8-.78.8-2.07 0-2.86zM5.41 20L4 18.59l7.72-7.72 1.47 1.35L5.41 20z\"/>\n",
              "  </svg>\n",
              "      </button>\n",
              "      \n",
              "  <style>\n",
              "    .colab-df-container {\n",
              "      display:flex;\n",
              "      flex-wrap:wrap;\n",
              "      gap: 12px;\n",
              "    }\n",
              "\n",
              "    .colab-df-convert {\n",
              "      background-color: #E8F0FE;\n",
              "      border: none;\n",
              "      border-radius: 50%;\n",
              "      cursor: pointer;\n",
              "      display: none;\n",
              "      fill: #1967D2;\n",
              "      height: 32px;\n",
              "      padding: 0 0 0 0;\n",
              "      width: 32px;\n",
              "    }\n",
              "\n",
              "    .colab-df-convert:hover {\n",
              "      background-color: #E2EBFA;\n",
              "      box-shadow: 0px 1px 2px rgba(60, 64, 67, 0.3), 0px 1px 3px 1px rgba(60, 64, 67, 0.15);\n",
              "      fill: #174EA6;\n",
              "    }\n",
              "\n",
              "    [theme=dark] .colab-df-convert {\n",
              "      background-color: #3B4455;\n",
              "      fill: #D2E3FC;\n",
              "    }\n",
              "\n",
              "    [theme=dark] .colab-df-convert:hover {\n",
              "      background-color: #434B5C;\n",
              "      box-shadow: 0px 1px 3px 1px rgba(0, 0, 0, 0.15);\n",
              "      filter: drop-shadow(0px 1px 2px rgba(0, 0, 0, 0.3));\n",
              "      fill: #FFFFFF;\n",
              "    }\n",
              "  </style>\n",
              "\n",
              "      <script>\n",
              "        const buttonEl =\n",
              "          document.querySelector('#df-6d5f7d0d-edcd-423d-9aa2-22cf1e82cb6f button.colab-df-convert');\n",
              "        buttonEl.style.display =\n",
              "          google.colab.kernel.accessAllowed ? 'block' : 'none';\n",
              "\n",
              "        async function convertToInteractive(key) {\n",
              "          const element = document.querySelector('#df-6d5f7d0d-edcd-423d-9aa2-22cf1e82cb6f');\n",
              "          const dataTable =\n",
              "            await google.colab.kernel.invokeFunction('convertToInteractive',\n",
              "                                                     [key], {});\n",
              "          if (!dataTable) return;\n",
              "\n",
              "          const docLinkHtml = 'Like what you see? Visit the ' +\n",
              "            '<a target=\"_blank\" href=https://colab.research.google.com/notebooks/data_table.ipynb>data table notebook</a>'\n",
              "            + ' to learn more about interactive tables.';\n",
              "          element.innerHTML = '';\n",
              "          dataTable['output_type'] = 'display_data';\n",
              "          await google.colab.output.renderOutput(dataTable, element);\n",
              "          const docLink = document.createElement('div');\n",
              "          docLink.innerHTML = docLinkHtml;\n",
              "          element.appendChild(docLink);\n",
              "        }\n",
              "      </script>\n",
              "    </div>\n",
              "  </div>\n",
              "  "
            ]
          },
          "metadata": {},
          "execution_count": 3
        }
      ],
      "source": [
        "df = df[['Date', 'Close']]\n",
        "\n",
        "df"
      ]
    },
    {
      "cell_type": "code",
      "execution_count": 4,
      "metadata": {
        "colab": {
          "base_uri": "https://localhost:8080/"
        },
        "id": "O9Ru-lENABck",
        "outputId": "f7268e0f-d30a-4f9e-e894-1cb29a056f01"
      },
      "outputs": [
        {
          "output_type": "execute_result",
          "data": {
            "text/plain": [
              "datetime.datetime(1986, 3, 19, 0, 0)"
            ]
          },
          "metadata": {},
          "execution_count": 4
        }
      ],
      "source": [
        "import datetime\n",
        "\n",
        "def str_to_datetime(s):\n",
        "  split = s.split('-')\n",
        "  year, month, day = int(split[0]), int(split[1]), int(split[2])\n",
        "  return datetime.datetime(year=year, month=month, day=day)\n",
        "\n",
        "datetime_object = str_to_datetime('1986-03-19')\n",
        "datetime_object"
      ]
    },
    {
      "cell_type": "code",
      "execution_count": 5,
      "metadata": {
        "colab": {
          "base_uri": "https://localhost:8080/"
        },
        "id": "pYiIgJz4AE1P",
        "outputId": "525912a8-bc2a-4552-cd82-1c635552d53d"
      },
      "outputs": [
        {
          "output_type": "stream",
          "name": "stderr",
          "text": [
            "/usr/local/lib/python3.7/dist-packages/ipykernel_launcher.py:1: SettingWithCopyWarning: \n",
            "A value is trying to be set on a copy of a slice from a DataFrame.\n",
            "Try using .loc[row_indexer,col_indexer] = value instead\n",
            "\n",
            "See the caveats in the documentation: https://pandas.pydata.org/pandas-docs/stable/user_guide/indexing.html#returning-a-view-versus-a-copy\n",
            "  \"\"\"Entry point for launching an IPython kernel.\n"
          ]
        },
        {
          "output_type": "execute_result",
          "data": {
            "text/plain": [
              "0      2007-09-17\n",
              "1      2007-09-18\n",
              "2      2007-09-19\n",
              "3      2007-09-20\n",
              "4      2007-09-21\n",
              "          ...    \n",
              "3698   2022-09-08\n",
              "3699   2022-09-09\n",
              "3700   2022-09-12\n",
              "3701   2022-09-13\n",
              "3702   2022-09-14\n",
              "Name: Date, Length: 3703, dtype: datetime64[ns]"
            ]
          },
          "metadata": {},
          "execution_count": 5
        }
      ],
      "source": [
        "df['Date'] = df['Date'].apply(str_to_datetime)\n",
        "df['Date']"
      ]
    },
    {
      "cell_type": "code",
      "execution_count": 6,
      "metadata": {
        "colab": {
          "base_uri": "https://localhost:8080/",
          "height": 455
        },
        "id": "F9H-MlARAIDT",
        "outputId": "fa56e3c1-fa1f-4084-dfd1-cf979e5feff0"
      },
      "outputs": [
        {
          "output_type": "execute_result",
          "data": {
            "text/plain": [
              "                   Close\n",
              "Date                    \n",
              "2007-09-17   4494.649902\n",
              "2007-09-18   4546.200195\n",
              "2007-09-19   4732.350098\n",
              "2007-09-20   4747.549805\n",
              "2007-09-21   4837.549805\n",
              "...                  ...\n",
              "2022-09-08  17798.750000\n",
              "2022-09-09  17833.349609\n",
              "2022-09-12  17936.349609\n",
              "2022-09-13  18070.050781\n",
              "2022-09-14  18003.750000\n",
              "\n",
              "[3703 rows x 1 columns]"
            ],
            "text/html": [
              "\n",
              "  <div id=\"df-6a17656c-7f0e-4448-9e59-ba48083296ce\">\n",
              "    <div class=\"colab-df-container\">\n",
              "      <div>\n",
              "<style scoped>\n",
              "    .dataframe tbody tr th:only-of-type {\n",
              "        vertical-align: middle;\n",
              "    }\n",
              "\n",
              "    .dataframe tbody tr th {\n",
              "        vertical-align: top;\n",
              "    }\n",
              "\n",
              "    .dataframe thead th {\n",
              "        text-align: right;\n",
              "    }\n",
              "</style>\n",
              "<table border=\"1\" class=\"dataframe\">\n",
              "  <thead>\n",
              "    <tr style=\"text-align: right;\">\n",
              "      <th></th>\n",
              "      <th>Close</th>\n",
              "    </tr>\n",
              "    <tr>\n",
              "      <th>Date</th>\n",
              "      <th></th>\n",
              "    </tr>\n",
              "  </thead>\n",
              "  <tbody>\n",
              "    <tr>\n",
              "      <th>2007-09-17</th>\n",
              "      <td>4494.649902</td>\n",
              "    </tr>\n",
              "    <tr>\n",
              "      <th>2007-09-18</th>\n",
              "      <td>4546.200195</td>\n",
              "    </tr>\n",
              "    <tr>\n",
              "      <th>2007-09-19</th>\n",
              "      <td>4732.350098</td>\n",
              "    </tr>\n",
              "    <tr>\n",
              "      <th>2007-09-20</th>\n",
              "      <td>4747.549805</td>\n",
              "    </tr>\n",
              "    <tr>\n",
              "      <th>2007-09-21</th>\n",
              "      <td>4837.549805</td>\n",
              "    </tr>\n",
              "    <tr>\n",
              "      <th>...</th>\n",
              "      <td>...</td>\n",
              "    </tr>\n",
              "    <tr>\n",
              "      <th>2022-09-08</th>\n",
              "      <td>17798.750000</td>\n",
              "    </tr>\n",
              "    <tr>\n",
              "      <th>2022-09-09</th>\n",
              "      <td>17833.349609</td>\n",
              "    </tr>\n",
              "    <tr>\n",
              "      <th>2022-09-12</th>\n",
              "      <td>17936.349609</td>\n",
              "    </tr>\n",
              "    <tr>\n",
              "      <th>2022-09-13</th>\n",
              "      <td>18070.050781</td>\n",
              "    </tr>\n",
              "    <tr>\n",
              "      <th>2022-09-14</th>\n",
              "      <td>18003.750000</td>\n",
              "    </tr>\n",
              "  </tbody>\n",
              "</table>\n",
              "<p>3703 rows × 1 columns</p>\n",
              "</div>\n",
              "      <button class=\"colab-df-convert\" onclick=\"convertToInteractive('df-6a17656c-7f0e-4448-9e59-ba48083296ce')\"\n",
              "              title=\"Convert this dataframe to an interactive table.\"\n",
              "              style=\"display:none;\">\n",
              "        \n",
              "  <svg xmlns=\"http://www.w3.org/2000/svg\" height=\"24px\"viewBox=\"0 0 24 24\"\n",
              "       width=\"24px\">\n",
              "    <path d=\"M0 0h24v24H0V0z\" fill=\"none\"/>\n",
              "    <path d=\"M18.56 5.44l.94 2.06.94-2.06 2.06-.94-2.06-.94-.94-2.06-.94 2.06-2.06.94zm-11 1L8.5 8.5l.94-2.06 2.06-.94-2.06-.94L8.5 2.5l-.94 2.06-2.06.94zm10 10l.94 2.06.94-2.06 2.06-.94-2.06-.94-.94-2.06-.94 2.06-2.06.94z\"/><path d=\"M17.41 7.96l-1.37-1.37c-.4-.4-.92-.59-1.43-.59-.52 0-1.04.2-1.43.59L10.3 9.45l-7.72 7.72c-.78.78-.78 2.05 0 2.83L4 21.41c.39.39.9.59 1.41.59.51 0 1.02-.2 1.41-.59l7.78-7.78 2.81-2.81c.8-.78.8-2.07 0-2.86zM5.41 20L4 18.59l7.72-7.72 1.47 1.35L5.41 20z\"/>\n",
              "  </svg>\n",
              "      </button>\n",
              "      \n",
              "  <style>\n",
              "    .colab-df-container {\n",
              "      display:flex;\n",
              "      flex-wrap:wrap;\n",
              "      gap: 12px;\n",
              "    }\n",
              "\n",
              "    .colab-df-convert {\n",
              "      background-color: #E8F0FE;\n",
              "      border: none;\n",
              "      border-radius: 50%;\n",
              "      cursor: pointer;\n",
              "      display: none;\n",
              "      fill: #1967D2;\n",
              "      height: 32px;\n",
              "      padding: 0 0 0 0;\n",
              "      width: 32px;\n",
              "    }\n",
              "\n",
              "    .colab-df-convert:hover {\n",
              "      background-color: #E2EBFA;\n",
              "      box-shadow: 0px 1px 2px rgba(60, 64, 67, 0.3), 0px 1px 3px 1px rgba(60, 64, 67, 0.15);\n",
              "      fill: #174EA6;\n",
              "    }\n",
              "\n",
              "    [theme=dark] .colab-df-convert {\n",
              "      background-color: #3B4455;\n",
              "      fill: #D2E3FC;\n",
              "    }\n",
              "\n",
              "    [theme=dark] .colab-df-convert:hover {\n",
              "      background-color: #434B5C;\n",
              "      box-shadow: 0px 1px 3px 1px rgba(0, 0, 0, 0.15);\n",
              "      filter: drop-shadow(0px 1px 2px rgba(0, 0, 0, 0.3));\n",
              "      fill: #FFFFFF;\n",
              "    }\n",
              "  </style>\n",
              "\n",
              "      <script>\n",
              "        const buttonEl =\n",
              "          document.querySelector('#df-6a17656c-7f0e-4448-9e59-ba48083296ce button.colab-df-convert');\n",
              "        buttonEl.style.display =\n",
              "          google.colab.kernel.accessAllowed ? 'block' : 'none';\n",
              "\n",
              "        async function convertToInteractive(key) {\n",
              "          const element = document.querySelector('#df-6a17656c-7f0e-4448-9e59-ba48083296ce');\n",
              "          const dataTable =\n",
              "            await google.colab.kernel.invokeFunction('convertToInteractive',\n",
              "                                                     [key], {});\n",
              "          if (!dataTable) return;\n",
              "\n",
              "          const docLinkHtml = 'Like what you see? Visit the ' +\n",
              "            '<a target=\"_blank\" href=https://colab.research.google.com/notebooks/data_table.ipynb>data table notebook</a>'\n",
              "            + ' to learn more about interactive tables.';\n",
              "          element.innerHTML = '';\n",
              "          dataTable['output_type'] = 'display_data';\n",
              "          await google.colab.output.renderOutput(dataTable, element);\n",
              "          const docLink = document.createElement('div');\n",
              "          docLink.innerHTML = docLinkHtml;\n",
              "          element.appendChild(docLink);\n",
              "        }\n",
              "      </script>\n",
              "    </div>\n",
              "  </div>\n",
              "  "
            ]
          },
          "metadata": {},
          "execution_count": 6
        }
      ],
      "source": [
        "df.index = df.pop('Date')\n",
        "df"
      ]
    },
    {
      "cell_type": "code",
      "execution_count": 7,
      "metadata": {
        "colab": {
          "base_uri": "https://localhost:8080/"
        },
        "id": "bRbG_WLHBAIr",
        "outputId": "20e1b21c-63f2-4a62-9134-417b5025a2de"
      },
      "outputs": [
        {
          "output_type": "stream",
          "name": "stderr",
          "text": [
            "/usr/local/lib/python3.7/dist-packages/pandas/core/frame.py:3678: SettingWithCopyWarning: \n",
            "A value is trying to be set on a copy of a slice from a DataFrame.\n",
            "Try using .loc[row_indexer,col_indexer] = value instead\n",
            "\n",
            "See the caveats in the documentation: https://pandas.pydata.org/pandas-docs/stable/user_guide/indexing.html#returning-a-view-versus-a-copy\n",
            "  self[col] = igetitem(value, i)\n"
          ]
        }
      ],
      "source": [
        "from sklearn.preprocessing import MinMaxScaler\n",
        "scaler=MinMaxScaler(feature_range=(0,1))\n",
        "df[['Close']]=scaler.fit_transform(df[['Close']])"
      ]
    },
    {
      "cell_type": "code",
      "execution_count": 8,
      "metadata": {
        "colab": {
          "base_uri": "https://localhost:8080/",
          "height": 282
        },
        "id": "u2lv9tqnALYR",
        "outputId": "916e0fb9-342e-4e12-b7e8-8615bc97fce6"
      },
      "outputs": [
        {
          "output_type": "execute_result",
          "data": {
            "text/plain": [
              "[<matplotlib.lines.Line2D at 0x7fedfe570710>]"
            ]
          },
          "metadata": {},
          "execution_count": 8
        },
        {
          "output_type": "display_data",
          "data": {
            "text/plain": [
              "<Figure size 432x288 with 1 Axes>"
            ],
            "image/png": "[encoded data removed]"
          },
          "metadata": {
            "needs_background": "light"
          }
        }
      ],
      "source": [
        "import matplotlib.pyplot as plt\n",
        "\n",
        "plt.plot(df.index, df['Close'])"
      ]
    },
    {
      "cell_type": "code",
      "execution_count": 9,
      "metadata": {
        "colab": {
          "base_uri": "https://localhost:8080/",
          "height": 424
        },
        "id": "zL4F5y4kAN8j",
        "outputId": "84f5e457-c5ad-4264-bcca-6def894a227b"
      },
      "outputs": [
        {
          "output_type": "execute_result",
          "data": {
            "text/plain": [
              "    Target Date  Target-3  Target-2  Target-1    Target\n",
              "0    2021-03-25  0.765518  0.770430  0.753796  0.739724\n",
              "1    2021-03-26  0.770430  0.753796  0.739724  0.751157\n",
              "2    2021-03-30  0.753796  0.739724  0.751157  0.772332\n",
              "3    2021-03-31  0.739724  0.751157  0.772332  0.762654\n",
              "4    2021-04-01  0.751157  0.772332  0.762654  0.773727\n",
              "..          ...       ...       ...       ...       ...\n",
              "241  2022-03-16  0.884246  0.899344  0.886287  0.905866\n",
              "242  2022-03-17  0.899344  0.886287  0.905866  0.925405\n",
              "243  2022-03-21  0.886287  0.905866  0.925405  0.914783\n",
              "244  2022-03-22  0.905866  0.925405  0.914783  0.927189\n",
              "245  2022-03-23  0.925405  0.914783  0.927189  0.922810\n",
              "\n",
              "[246 rows x 5 columns]"
            ],
            "text/html": [
              "\n",
              "  <div id=\"df-4e9776af-bed4-470f-b152-410e66682b36\">\n",
              "    <div class=\"colab-df-container\">\n",
              "      <div>\n",
              "<style scoped>\n",
              "    .dataframe tbody tr th:only-of-type {\n",
              "        vertical-align: middle;\n",
              "    }\n",
              "\n",
              "    .dataframe tbody tr th {\n",
              "        vertical-align: top;\n",
              "    }\n",
              "\n",
              "    .dataframe thead th {\n",
              "        text-align: right;\n",
              "    }\n",
              "</style>\n",
              "<table border=\"1\" class=\"dataframe\">\n",
              "  <thead>\n",
              "    <tr style=\"text-align: right;\">\n",
              "      <th></th>\n",
              "      <th>Target Date</th>\n",
              "      <th>Target-3</th>\n",
              "      <th>Target-2</th>\n",
              "      <th>Target-1</th>\n",
              "      <th>Target</th>\n",
              "    </tr>\n",
              "  </thead>\n",
              "  <tbody>\n",
              "    <tr>\n",
              "      <th>0</th>\n",
              "      <td>2021-03-25</td>\n",
              "      <td>0.765518</td>\n",
              "      <td>0.770430</td>\n",
              "      <td>0.753796</td>\n",
              "      <td>0.739724</td>\n",
              "    </tr>\n",
              "    <tr>\n",
              "      <th>1</th>\n",
              "      <td>2021-03-26</td>\n",
              "      <td>0.770430</td>\n",
              "      <td>0.753796</td>\n",
              "      <td>0.739724</td>\n",
              "      <td>0.751157</td>\n",
              "    </tr>\n",
              "    <tr>\n",
              "      <th>2</th>\n",
              "      <td>2021-03-30</td>\n",
              "      <td>0.753796</td>\n",
              "      <td>0.739724</td>\n",
              "      <td>0.751157</td>\n",
              "      <td>0.772332</td>\n",
              "    </tr>\n",
              "    <tr>\n",
              "      <th>3</th>\n",
              "      <td>2021-03-31</td>\n",
              "      <td>0.739724</td>\n",
              "      <td>0.751157</td>\n",
              "      <td>0.772332</td>\n",
              "      <td>0.762654</td>\n",
              "    </tr>\n",
              "    <tr>\n",
              "      <th>4</th>\n",
              "      <td>2021-04-01</td>\n",
              "      <td>0.751157</td>\n",
              "      <td>0.772332</td>\n",
              "      <td>0.762654</td>\n",
              "      <td>0.773727</td>\n",
              "    </tr>\n",
              "    <tr>\n",
              "      <th>...</th>\n",
              "      <td>...</td>\n",
              "      <td>...</td>\n",
              "      <td>...</td>\n",
              "      <td>...</td>\n",
              "      <td>...</td>\n",
              "    </tr>\n",
              "    <tr>\n",
              "      <th>241</th>\n",
              "      <td>2022-03-16</td>\n",
              "      <td>0.884246</td>\n",
              "      <td>0.899344</td>\n",
              "      <td>0.886287</td>\n",
              "      <td>0.905866</td>\n",
              "    </tr>\n",
              "    <tr>\n",
              "      <th>242</th>\n",
              "      <td>2022-03-17</td>\n",
              "      <td>0.899344</td>\n",
              "      <td>0.886287</td>\n",
              "      <td>0.905866</td>\n",
              "      <td>0.925405</td>\n",
              "    </tr>\n",
              "    <tr>\n",
              "      <th>243</th>\n",
              "      <td>2022-03-21</td>\n",
              "      <td>0.886287</td>\n",
              "      <td>0.905866</td>\n",
              "      <td>0.925405</td>\n",
              "      <td>0.914783</td>\n",
              "    </tr>\n",
              "    <tr>\n",
              "      <th>244</th>\n",
              "      <td>2022-03-22</td>\n",
              "      <td>0.905866</td>\n",
              "      <td>0.925405</td>\n",
              "      <td>0.914783</td>\n",
              "      <td>0.927189</td>\n",
              "    </tr>\n",
              "    <tr>\n",
              "      <th>245</th>\n",
              "      <td>2022-03-23</td>\n",
              "      <td>0.925405</td>\n",
              "      <td>0.914783</td>\n",
              "      <td>0.927189</td>\n",
              "      <td>0.922810</td>\n",
              "    </tr>\n",
              "  </tbody>\n",
              "</table>\n",
              "<p>246 rows × 5 columns</p>\n",
              "</div>\n",
              "      <button class=\"colab-df-convert\" onclick=\"convertToInteractive('df-4e9776af-bed4-470f-b152-410e66682b36')\"\n",
              "              title=\"Convert this dataframe to an interactive table.\"\n",
              "              style=\"display:none;\">\n",
              "        \n",
              "  <svg xmlns=\"http://www.w3.org/2000/svg\" height=\"24px\"viewBox=\"0 0 24 24\"\n",
              "       width=\"24px\">\n",
              "    <path d=\"M0 0h24v24H0V0z\" fill=\"none\"/>\n",
              "    <path d=\"M18.56 5.44l.94 2.06.94-2.06 2.06-.94-2.06-.94-.94-2.06-.94 2.06-2.06.94zm-11 1L8.5 8.5l.94-2.06 2.06-.94-2.06-.94L8.5 2.5l-.94 2.06-2.06.94zm10 10l.94 2.06.94-2.06 2.06-.94-2.06-.94-.94-2.06-.94 2.06-2.06.94z\"/><path d=\"M17.41 7.96l-1.37-1.37c-.4-.4-.92-.59-1.43-.59-.52 0-1.04.2-1.43.59L10.3 9.45l-7.72 7.72c-.78.78-.78 2.05 0 2.83L4 21.41c.39.39.9.59 1.41.59.51 0 1.02-.2 1.41-.59l7.78-7.78 2.81-2.81c.8-.78.8-2.07 0-2.86zM5.41 20L4 18.59l7.72-7.72 1.47 1.35L5.41 20z\"/>\n",
              "  </svg>\n",
              "      </button>\n",
              "      \n",
              "  <style>\n",
              "    .colab-df-container {\n",
              "      display:flex;\n",
              "      flex-wrap:wrap;\n",
              "      gap: 12px;\n",
              "    }\n",
              "\n",
              "    .colab-df-convert {\n",
              "      background-color: #E8F0FE;\n",
              "      border: none;\n",
              "      border-radius: 50%;\n",
              "      cursor: pointer;\n",
              "      display: none;\n",
              "      fill: #1967D2;\n",
              "      height: 32px;\n",
              "      padding: 0 0 0 0;\n",
              "      width: 32px;\n",
              "    }\n",
              "\n",
              "    .colab-df-convert:hover {\n",
              "      background-color: #E2EBFA;\n",
              "      box-shadow: 0px 1px 2px rgba(60, 64, 67, 0.3), 0px 1px 3px 1px rgba(60, 64, 67, 0.15);\n",
              "      fill: #174EA6;\n",
              "    }\n",
              "\n",
              "    [theme=dark] .colab-df-convert {\n",
              "      background-color: #3B4455;\n",
              "      fill: #D2E3FC;\n",
              "    }\n",
              "\n",
              "    [theme=dark] .colab-df-convert:hover {\n",
              "      background-color: #434B5C;\n",
              "      box-shadow: 0px 1px 3px 1px rgba(0, 0, 0, 0.15);\n",
              "      filter: drop-shadow(0px 1px 2px rgba(0, 0, 0, 0.3));\n",
              "      fill: #FFFFFF;\n",
              "    }\n",
              "  </style>\n",
              "\n",
              "      <script>\n",
              "        const buttonEl =\n",
              "          document.querySelector('#df-4e9776af-bed4-470f-b152-410e66682b36 button.colab-df-convert');\n",
              "        buttonEl.style.display =\n",
              "          google.colab.kernel.accessAllowed ? 'block' : 'none';\n",
              "\n",
              "        async function convertToInteractive(key) {\n",
              "          const element = document.querySelector('#df-4e9776af-bed4-470f-b152-410e66682b36');\n",
              "          const dataTable =\n",
              "            await google.colab.kernel.invokeFunction('convertToInteractive',\n",
              "                                                     [key], {});\n",
              "          if (!dataTable) return;\n",
              "\n",
              "          const docLinkHtml = 'Like what you see? Visit the ' +\n",
              "            '<a target=\"_blank\" href=https://colab.research.google.com/notebooks/data_table.ipynb>data table notebook</a>'\n",
              "            + ' to learn more about interactive tables.';\n",
              "          element.innerHTML = '';\n",
              "          dataTable['output_type'] = 'display_data';\n",
              "          await google.colab.output.renderOutput(dataTable, element);\n",
              "          const docLink = document.createElement('div');\n",
              "          docLink.innerHTML = docLinkHtml;\n",
              "          element.appendChild(docLink);\n",
              "        }\n",
              "      </script>\n",
              "    </div>\n",
              "  </div>\n",
              "  "
            ]
          },
          "metadata": {},
          "execution_count": 9
        }
      ],
      "source": [
        "import numpy as np\n",
        "\n",
        "def df_to_windowed_df(dataframe, first_date_str, last_date_str, n=3):\n",
        "  first_date = str_to_datetime(first_date_str)\n",
        "  last_date  = str_to_datetime(last_date_str)\n",
        "\n",
        "  target_date = first_date\n",
        "  \n",
        "  dates = []\n",
        "  X, Y = [], []\n",
        "\n",
        "  last_time = False\n",
        "  while True:\n",
        "    df_subset = dataframe.loc[:target_date].tail(n+1)\n",
        "    \n",
        "    if len(df_subset) != n+1:\n",
        "      print(f'Error: Window of size {n} is too large for date {target_date}')\n",
        "      return\n",
        "\n",
        "    values = df_subset['Close'].to_numpy()\n",
        "    x, y = values[:-1], values[-1]\n",
        "\n",
        "    dates.append(target_date)\n",
        "    X.append(x)\n",
        "    Y.append(y)\n",
        "\n",
        "    next_week = dataframe.loc[target_date:target_date+datetime.timedelta(days=7)]\n",
        "    next_datetime_str = str(next_week.head(2).tail(1).index.values[0])\n",
        "    next_date_str = next_datetime_str.split('T')[0]\n",
        "    year_month_day = next_date_str.split('-')\n",
        "    year, month, day = year_month_day\n",
        "    next_date = datetime.datetime(day=int(day), month=int(month), year=int(year))\n",
        "    \n",
        "    if last_time:\n",
        "      break\n",
        "    \n",
        "    target_date = next_date\n",
        "\n",
        "    if target_date == last_date:\n",
        "      last_time = True\n",
        "    \n",
        "  ret_df = pd.DataFrame({})\n",
        "  ret_df['Target Date'] = dates\n",
        "  \n",
        "  X = np.array(X)\n",
        "  for i in range(0, n):\n",
        "    X[:, i]\n",
        "    ret_df[f'Target-{n-i}'] = X[:, i]\n",
        "  \n",
        "  ret_df['Target'] = Y\n",
        "\n",
        "  return ret_df\n",
        "\n",
        "# Start day second time around: '2021-03-25'\n",
        "windowed_df = df_to_windowed_df(df, \n",
        "                                '2021-03-25', \n",
        "                                '2022-03-23', \n",
        "                                n=3)\n",
        "windowed_df"
      ]
    },
    {
      "cell_type": "code",
      "execution_count": 10,
      "metadata": {
        "colab": {
          "base_uri": "https://localhost:8080/"
        },
        "id": "5z4nxbmSAR5Q",
        "outputId": "6272ddc5-8711-41a6-f552-afc70e8565dd"
      },
      "outputs": [
        {
          "output_type": "execute_result",
          "data": {
            "text/plain": [
              "((246,), (246, 3, 1), (246,))"
            ]
          },
          "metadata": {},
          "execution_count": 10
        }
      ],
      "source": [
        "def windowed_df_to_date_X_y(windowed_dataframe):\n",
        "  df_as_np = windowed_dataframe.to_numpy()\n",
        "\n",
        "  dates = df_as_np[:, 0]\n",
        "\n",
        "  middle_matrix = df_as_np[:, 1:-1]\n",
        "  X = middle_matrix.reshape((len(dates), middle_matrix.shape[1], 1))\n",
        "\n",
        "  Y = df_as_np[:, -1]\n",
        "\n",
        "  return dates, X.astype(np.float32), Y.astype(np.float32)\n",
        "\n",
        "dates, X, y = windowed_df_to_date_X_y(windowed_df)\n",
        "\n",
        "dates.shape, X.shape, y.shape"
      ]
    },
    {
      "cell_type": "code",
      "execution_count": 11,
      "metadata": {
        "colab": {
          "base_uri": "https://localhost:8080/",
          "height": 313
        },
        "id": "nO5mlcrTAUsE",
        "outputId": "4826311b-b5a7-4545-af09-748a6ad12625"
      },
      "outputs": [
        {
          "output_type": "execute_result",
          "data": {
            "text/plain": [
              "<matplotlib.legend.Legend at 0x7fedfe039610>"
            ]
          },
          "metadata": {},
          "execution_count": 11
        },
        {
          "output_type": "display_data",
          "data": {
            "text/plain": [
              "<Figure size 432x288 with 1 Axes>"
            ],
            "image/png": "[encoded data removed]"
          },
          "metadata": {
            "needs_background": "light"
          }
        }
      ],
      "source": [
        "q_80 = int(len(dates) * .8)\n",
        "q_90 = int(len(dates) * .9)\n",
        "\n",
        "dates_train, X_train, y_train = dates[:q_80], X[:q_80], y[:q_80]\n",
        "\n",
        "dates_val, X_val, y_val = dates[q_80:q_90], X[q_80:q_90], y[q_80:q_90]\n",
        "dates_test, X_test, y_test = dates[q_90:], X[q_90:], y[q_90:]\n",
        "\n",
        "plt.plot(dates_train, y_train)\n",
        "plt.plot(dates_val, y_val)\n",
        "plt.plot(dates_test, y_test)\n",
        "plt.xticks(rotation=60)\n",
        "plt.legend(['Train', 'Validation', 'Test'])"
      ]
    },
    {
      "cell_type": "markdown",
      "source": [
        "# **Model with LSTM Layer**"
      ],
      "metadata": {
        "id": "p41T8OWD8Z1J"
      }
    },
    {
      "cell_type": "code",
      "execution_count": 12,
      "metadata": {
        "colab": {
          "base_uri": "https://localhost:8080/"
        },
        "id": "w1doNu8eAXpP",
        "outputId": "823014ca-a8ec-46d4-b787-5824d65c44b8"
      },
      "outputs": [
        {
          "metadata": {
            "tags": null
          },
          "name": "stdout",
          "output_type": "stream",
          "text": [
            "Epoch 1/100\n",
            "1/7 [===>..........................] - ETA: 40s - loss: 0.7110 - root_mean_squared_error: 0.8432"
          ]
        },
        {
          "metadata": {
            "tags": null
          },
          "name": "stderr",
          "output_type": "stream",
          "text": [
            "WARNING:absl:Found untraced functions such as lstm_cell_layer_call_fn, lstm_cell_layer_call_and_return_conditional_losses while saving (showing 2 of 2). These functions will not be directly callable after loading.\n",
            "WARNING:absl:<keras.layers.recurrent.LSTMCell object at 0x7fed9df6b950> has the same name 'LSTMCell' as a built-in Keras object. Consider renaming <class 'keras.layers.recurrent.LSTMCell'> to avoid naming conflicts when loading with `tf.keras.models.load_model`. If renaming is not possible, pass the object in the `custom_objects` parameter of the load function.\n"
          ]
        },
        {
          "metadata": {
            "tags": null
          },
          "name": "stdout",
          "output_type": "stream",
          "text": [
            "7/7 [==============================] - 11s 761ms/step - loss: 0.5881 - root_mean_squared_error: 0.7669 - val_loss: 0.4906 - val_root_mean_squared_error: 0.7004\n",
            "Epoch 2/100\n",
            "1/7 [===>..........................] - ETA: 0s - loss: 0.4205 - root_mean_squared_error: 0.6484"
          ]
        },
        {
          "metadata": {
            "tags": null
          },
          "name": "stderr",
          "output_type": "stream",
          "text": [
            "WARNING:absl:Found untraced functions such as lstm_cell_layer_call_fn, lstm_cell_layer_call_and_return_conditional_losses while saving (showing 2 of 2). These functions will not be directly callable after loading.\n",
            "WARNING:absl:<keras.layers.recurrent.LSTMCell object at 0x7fed9df6b950> has the same name 'LSTMCell' as a built-in Keras object. Consider renaming <class 'keras.layers.recurrent.LSTMCell'> to avoid naming conflicts when loading with `tf.keras.models.load_model`. If renaming is not possible, pass the object in the `custom_objects` parameter of the load function.\n"
          ]
        },
        {
          "metadata": {
            "tags": null
          },
          "name": "stdout",
          "output_type": "stream",
          "text": [
            "7/7 [==============================] - 4s 630ms/step - loss: 0.3200 - root_mean_squared_error: 0.5657 - val_loss: 0.1961 - val_root_mean_squared_error: 0.4428\n",
            "Epoch 3/100\n",
            "1/7 [===>..........................] - ETA: 0s - loss: 0.1617 - root_mean_squared_error: 0.4021"
          ]
        },
        {
          "metadata": {
            "tags": null
          },
          "name": "stderr",
          "output_type": "stream",
          "text": [
            "WARNING:absl:Found untraced functions such as lstm_cell_layer_call_fn, lstm_cell_layer_call_and_return_conditional_losses while saving (showing 2 of 2). These functions will not be directly callable after loading.\n",
            "WARNING:absl:<keras.layers.recurrent.LSTMCell object at 0x7fed9df6b950> has the same name 'LSTMCell' as a built-in Keras object. Consider renaming <class 'keras.layers.recurrent.LSTMCell'> to avoid naming conflicts when loading with `tf.keras.models.load_model`. If renaming is not possible, pass the object in the `custom_objects` parameter of the load function.\n"
          ]
        },
        {
          "metadata": {
            "tags": null
          },
          "name": "stdout",
          "output_type": "stream",
          "text": [
            "7/7 [==============================] - 4s 687ms/step - loss: 0.0905 - root_mean_squared_error: 0.3008 - val_loss: 0.0108 - val_root_mean_squared_error: 0.1041\n",
            "Epoch 4/100\n",
            "7/7 [==============================] - 0s 7ms/step - loss: 0.0071 - root_mean_squared_error: 0.0846 - val_loss: 0.0279 - val_root_mean_squared_error: 0.1671\n",
            "Epoch 5/100\n",
            "1/7 [===>..........................] - ETA: 0s - loss: 0.0292 - root_mean_squared_error: 0.1709"
          ]
        },
        {
          "metadata": {
            "tags": null
          },
          "name": "stderr",
          "output_type": "stream",
          "text": [
            "WARNING:absl:Found untraced functions such as lstm_cell_layer_call_fn, lstm_cell_layer_call_and_return_conditional_losses while saving (showing 2 of 2). These functions will not be directly callable after loading.\n",
            "WARNING:absl:<keras.layers.recurrent.LSTMCell object at 0x7fed9df6b950> has the same name 'LSTMCell' as a built-in Keras object. Consider renaming <class 'keras.layers.recurrent.LSTMCell'> to avoid naming conflicts when loading with `tf.keras.models.load_model`. If renaming is not possible, pass the object in the `custom_objects` parameter of the load function.\n"
          ]
        },
        {
          "metadata": {
            "tags": null
          },
          "name": "stdout",
          "output_type": "stream",
          "text": [
            "7/7 [==============================] - 4s 634ms/step - loss: 0.0273 - root_mean_squared_error: 0.1652 - val_loss: 0.0064 - val_root_mean_squared_error: 0.0797\n",
            "Epoch 6/100\n",
            "1/7 [===>..........................] - ETA: 0s - loss: 0.0074 - root_mean_squared_error: 0.0857"
          ]
        },
        {
          "metadata": {
            "tags": null
          },
          "name": "stderr",
          "output_type": "stream",
          "text": [
            "WARNING:absl:Found untraced functions such as lstm_cell_layer_call_fn, lstm_cell_layer_call_and_return_conditional_losses while saving (showing 2 of 2). These functions will not be directly callable after loading.\n",
            "WARNING:absl:<keras.layers.recurrent.LSTMCell object at 0x7fed9df6b950> has the same name 'LSTMCell' as a built-in Keras object. Consider renaming <class 'keras.layers.recurrent.LSTMCell'> to avoid naming conflicts when loading with `tf.keras.models.load_model`. If renaming is not possible, pass the object in the `custom_objects` parameter of the load function.\n"
          ]
        },
        {
          "metadata": {
            "tags": null
          },
          "name": "stdout",
          "output_type": "stream",
          "text": [
            "7/7 [==============================] - 5s 885ms/step - loss: 0.0029 - root_mean_squared_error: 0.0537 - val_loss: 0.0055 - val_root_mean_squared_error: 0.0744\n",
            "Epoch 7/100\n",
            "7/7 [==============================] - 0s 7ms/step - loss: 0.0050 - root_mean_squared_error: 0.0705 - val_loss: 0.0072 - val_root_mean_squared_error: 0.0850\n",
            "Epoch 8/100\n",
            "1/7 [===>..........................] - ETA: 0s - loss: 0.0042 - root_mean_squared_error: 0.0649"
          ]
        },
        {
          "metadata": {
            "tags": null
          },
          "name": "stderr",
          "output_type": "stream",
          "text": [
            "WARNING:absl:Found untraced functions such as lstm_cell_layer_call_fn, lstm_cell_layer_call_and_return_conditional_losses while saving (showing 2 of 2). These functions will not be directly callable after loading.\n",
            "WARNING:absl:<keras.layers.recurrent.LSTMCell object at 0x7fed9df6b950> has the same name 'LSTMCell' as a built-in Keras object. Consider renaming <class 'keras.layers.recurrent.LSTMCell'> to avoid naming conflicts when loading with `tf.keras.models.load_model`. If renaming is not possible, pass the object in the `custom_objects` parameter of the load function.\n"
          ]
        },
        {
          "metadata": {
            "tags": null
          },
          "name": "stdout",
          "output_type": "stream",
          "text": [
            "7/7 [==============================] - 5s 878ms/step - loss: 0.0025 - root_mean_squared_error: 0.0503 - val_loss: 7.2042e-04 - val_root_mean_squared_error: 0.0268\n",
            "Epoch 9/100\n",
            "1/7 [===>..........................] - ETA: 0s - loss: 4.6094e-04 - root_mean_squared_error: 0.0215"
          ]
        },
        {
          "metadata": {
            "tags": null
          },
          "name": "stderr",
          "output_type": "stream",
          "text": [
            "WARNING:absl:Found untraced functions such as lstm_cell_layer_call_fn, lstm_cell_layer_call_and_return_conditional_losses while saving (showing 2 of 2). These functions will not be directly callable after loading.\n",
            "WARNING:absl:<keras.layers.recurrent.LSTMCell object at 0x7fed9df6b950> has the same name 'LSTMCell' as a built-in Keras object. Consider renaming <class 'keras.layers.recurrent.LSTMCell'> to avoid naming conflicts when loading with `tf.keras.models.load_model`. If renaming is not possible, pass the object in the `custom_objects` parameter of the load function.\n"
          ]
        },
        {
          "metadata": {
            "tags": null
          },
          "name": "stdout",
          "output_type": "stream",
          "text": [
            "7/7 [==============================] - 5s 842ms/step - loss: 9.5049e-04 - root_mean_squared_error: 0.0308 - val_loss: 4.6602e-04 - val_root_mean_squared_error: 0.0216\n",
            "Epoch 10/100\n",
            "1/7 [===>..........................] - ETA: 0s - loss: 0.0018 - root_mean_squared_error: 0.0419"
          ]
        },
        {
          "metadata": {
            "tags": null
          },
          "name": "stderr",
          "output_type": "stream",
          "text": [
            "WARNING:absl:Found untraced functions such as lstm_cell_layer_call_fn, lstm_cell_layer_call_and_return_conditional_losses while saving (showing 2 of 2). These functions will not be directly callable after loading.\n",
            "WARNING:absl:<keras.layers.recurrent.LSTMCell object at 0x7fed9df6b950> has the same name 'LSTMCell' as a built-in Keras object. Consider renaming <class 'keras.layers.recurrent.LSTMCell'> to avoid naming conflicts when loading with `tf.keras.models.load_model`. If renaming is not possible, pass the object in the `custom_objects` parameter of the load function.\n"
          ]
        },
        {
          "metadata": {
            "tags": null
          },
          "name": "stdout",
          "output_type": "stream",
          "text": [
            "7/7 [==============================] - 4s 628ms/step - loss: 0.0011 - root_mean_squared_error: 0.0337 - val_loss: 4.2860e-04 - val_root_mean_squared_error: 0.0207\n",
            "Epoch 11/100\n",
            "7/7 [==============================] - 0s 7ms/step - loss: 6.2302e-04 - root_mean_squared_error: 0.0250 - val_loss: 0.0012 - val_root_mean_squared_error: 0.0340\n",
            "Epoch 12/100\n",
            "7/7 [==============================] - 0s 7ms/step - loss: 7.2832e-04 - root_mean_squared_error: 0.0270 - val_loss: 9.4388e-04 - val_root_mean_squared_error: 0.0307\n",
            "Epoch 13/100\n",
            "7/7 [==============================] - 0s 7ms/step - loss: 6.2871e-04 - root_mean_squared_error: 0.0251 - val_loss: 5.4955e-04 - val_root_mean_squared_error: 0.0234\n",
            "Epoch 14/100\n",
            "7/7 [==============================] - 0s 7ms/step - loss: 6.2081e-04 - root_mean_squared_error: 0.0249 - val_loss: 4.3213e-04 - val_root_mean_squared_error: 0.0208\n",
            "Epoch 15/100\n",
            "7/7 [==============================] - 0s 7ms/step - loss: 6.3962e-04 - root_mean_squared_error: 0.0253 - val_loss: 5.2615e-04 - val_root_mean_squared_error: 0.0229\n",
            "Epoch 16/100\n",
            "7/7 [==============================] - 0s 7ms/step - loss: 6.0504e-04 - root_mean_squared_error: 0.0246 - val_loss: 7.5215e-04 - val_root_mean_squared_error: 0.0274\n",
            "Epoch 17/100\n",
            "7/7 [==============================] - 0s 7ms/step - loss: 6.0656e-04 - root_mean_squared_error: 0.0246 - val_loss: 6.4954e-04 - val_root_mean_squared_error: 0.0255\n",
            "Epoch 18/100\n",
            "7/7 [==============================] - 0s 8ms/step - loss: 5.9020e-04 - root_mean_squared_error: 0.0243 - val_loss: 6.1166e-04 - val_root_mean_squared_error: 0.0247\n",
            "Epoch 19/100\n",
            "7/7 [==============================] - 0s 7ms/step - loss: 5.8714e-04 - root_mean_squared_error: 0.0242 - val_loss: 5.7565e-04 - val_root_mean_squared_error: 0.0240\n",
            "Epoch 20/100\n",
            "7/7 [==============================] - 0s 7ms/step - loss: 5.7822e-04 - root_mean_squared_error: 0.0240 - val_loss: 7.1678e-04 - val_root_mean_squared_error: 0.0268\n",
            "Epoch 21/100\n",
            "7/7 [==============================] - 0s 7ms/step - loss: 5.9325e-04 - root_mean_squared_error: 0.0244 - val_loss: 6.3376e-04 - val_root_mean_squared_error: 0.0252\n",
            "Epoch 22/100\n",
            "7/7 [==============================] - 0s 7ms/step - loss: 5.7471e-04 - root_mean_squared_error: 0.0240 - val_loss: 4.3600e-04 - val_root_mean_squared_error: 0.0209\n",
            "Epoch 23/100\n",
            "7/7 [==============================] - 0s 7ms/step - loss: 5.7107e-04 - root_mean_squared_error: 0.0239 - val_loss: 6.1533e-04 - val_root_mean_squared_error: 0.0248\n",
            "Epoch 24/100\n",
            "7/7 [==============================] - 0s 7ms/step - loss: 5.6336e-04 - root_mean_squared_error: 0.0237 - val_loss: 6.8548e-04 - val_root_mean_squared_error: 0.0262\n",
            "Epoch 25/100\n",
            "7/7 [==============================] - 0s 7ms/step - loss: 5.6930e-04 - root_mean_squared_error: 0.0239 - val_loss: 6.1610e-04 - val_root_mean_squared_error: 0.0248\n",
            "Epoch 26/100\n",
            "7/7 [==============================] - 0s 7ms/step - loss: 5.5196e-04 - root_mean_squared_error: 0.0235 - val_loss: 4.5106e-04 - val_root_mean_squared_error: 0.0212\n",
            "Epoch 27/100\n",
            "7/7 [==============================] - 0s 7ms/step - loss: 5.5495e-04 - root_mean_squared_error: 0.0236 - val_loss: 5.2624e-04 - val_root_mean_squared_error: 0.0229\n",
            "Epoch 28/100\n",
            "7/7 [==============================] - 0s 8ms/step - loss: 5.3980e-04 - root_mean_squared_error: 0.0232 - val_loss: 5.8744e-04 - val_root_mean_squared_error: 0.0242\n",
            "Epoch 29/100\n",
            "7/7 [==============================] - 0s 7ms/step - loss: 5.2791e-04 - root_mean_squared_error: 0.0230 - val_loss: 4.4379e-04 - val_root_mean_squared_error: 0.0211\n",
            "Epoch 30/100\n",
            "7/7 [==============================] - 0s 7ms/step - loss: 5.4143e-04 - root_mean_squared_error: 0.0233 - val_loss: 5.4495e-04 - val_root_mean_squared_error: 0.0233\n",
            "Epoch 31/100\n",
            "7/7 [==============================] - 0s 7ms/step - loss: 5.2882e-04 - root_mean_squared_error: 0.0230 - val_loss: 6.4810e-04 - val_root_mean_squared_error: 0.0255\n",
            "Epoch 32/100\n",
            "7/7 [==============================] - 0s 7ms/step - loss: 5.1783e-04 - root_mean_squared_error: 0.0228 - val_loss: 4.9962e-04 - val_root_mean_squared_error: 0.0224\n",
            "Epoch 33/100\n",
            "7/7 [==============================] - 0s 7ms/step - loss: 5.1011e-04 - root_mean_squared_error: 0.0226 - val_loss: 5.8617e-04 - val_root_mean_squared_error: 0.0242\n",
            "Epoch 34/100\n",
            "7/7 [==============================] - 0s 7ms/step - loss: 5.0048e-04 - root_mean_squared_error: 0.0224 - val_loss: 4.9012e-04 - val_root_mean_squared_error: 0.0221\n",
            "Epoch 35/100\n",
            "7/7 [==============================] - 0s 7ms/step - loss: 5.0298e-04 - root_mean_squared_error: 0.0224 - val_loss: 4.4026e-04 - val_root_mean_squared_error: 0.0210\n",
            "Epoch 36/100\n",
            "7/7 [==============================] - 0s 8ms/step - loss: 5.0061e-04 - root_mean_squared_error: 0.0224 - val_loss: 5.2207e-04 - val_root_mean_squared_error: 0.0228\n",
            "Epoch 37/100\n",
            "7/7 [==============================] - 0s 7ms/step - loss: 4.8763e-04 - root_mean_squared_error: 0.0221 - val_loss: 6.0664e-04 - val_root_mean_squared_error: 0.0246\n",
            "Epoch 38/100\n",
            "7/7 [==============================] - 0s 7ms/step - loss: 4.7675e-04 - root_mean_squared_error: 0.0218 - val_loss: 4.5169e-04 - val_root_mean_squared_error: 0.0213\n",
            "Epoch 39/100\n",
            "7/7 [==============================] - 0s 7ms/step - loss: 4.8330e-04 - root_mean_squared_error: 0.0220 - val_loss: 4.6359e-04 - val_root_mean_squared_error: 0.0215\n",
            "Epoch 40/100\n",
            "7/7 [==============================] - 0s 7ms/step - loss: 4.7561e-04 - root_mean_squared_error: 0.0218 - val_loss: 5.6075e-04 - val_root_mean_squared_error: 0.0237\n",
            "Epoch 41/100\n",
            "7/7 [==============================] - 0s 7ms/step - loss: 4.6399e-04 - root_mean_squared_error: 0.0215 - val_loss: 4.9323e-04 - val_root_mean_squared_error: 0.0222\n",
            "Epoch 42/100\n",
            "7/7 [==============================] - 0s 7ms/step - loss: 4.5300e-04 - root_mean_squared_error: 0.0213 - val_loss: 5.2984e-04 - val_root_mean_squared_error: 0.0230\n",
            "Epoch 43/100\n",
            "7/7 [==============================] - 0s 7ms/step - loss: 4.4951e-04 - root_mean_squared_error: 0.0212 - val_loss: 4.8548e-04 - val_root_mean_squared_error: 0.0220\n",
            "Epoch 44/100\n",
            "7/7 [==============================] - 0s 7ms/step - loss: 4.4519e-04 - root_mean_squared_error: 0.0211 - val_loss: 4.5690e-04 - val_root_mean_squared_error: 0.0214\n",
            "Epoch 45/100\n",
            "7/7 [==============================] - 0s 7ms/step - loss: 4.3505e-04 - root_mean_squared_error: 0.0209 - val_loss: 5.0581e-04 - val_root_mean_squared_error: 0.0225\n",
            "Epoch 46/100\n",
            "7/7 [==============================] - 0s 7ms/step - loss: 4.3238e-04 - root_mean_squared_error: 0.0208 - val_loss: 5.2895e-04 - val_root_mean_squared_error: 0.0230\n",
            "Epoch 47/100\n",
            "7/7 [==============================] - 0s 8ms/step - loss: 4.2572e-04 - root_mean_squared_error: 0.0206 - val_loss: 4.5065e-04 - val_root_mean_squared_error: 0.0212\n",
            "Epoch 48/100\n",
            "7/7 [==============================] - 0s 7ms/step - loss: 4.2749e-04 - root_mean_squared_error: 0.0207 - val_loss: 4.2984e-04 - val_root_mean_squared_error: 0.0207\n",
            "Epoch 49/100\n",
            "7/7 [==============================] - 0s 7ms/step - loss: 4.2263e-04 - root_mean_squared_error: 0.0206 - val_loss: 5.3753e-04 - val_root_mean_squared_error: 0.0232\n",
            "Epoch 50/100\n",
            "1/7 [===>..........................] - ETA: 0s - loss: 3.9707e-04 - root_mean_squared_error: 0.0199"
          ]
        },
        {
          "metadata": {
            "tags": null
          },
          "name": "stderr",
          "output_type": "stream",
          "text": [
            "WARNING:absl:Found untraced functions such as lstm_cell_layer_call_fn, lstm_cell_layer_call_and_return_conditional_losses while saving (showing 2 of 2). These functions will not be directly callable after loading.\n",
            "WARNING:absl:<keras.layers.recurrent.LSTMCell object at 0x7fed9df6b950> has the same name 'LSTMCell' as a built-in Keras object. Consider renaming <class 'keras.layers.recurrent.LSTMCell'> to avoid naming conflicts when loading with `tf.keras.models.load_model`. If renaming is not possible, pass the object in the `custom_objects` parameter of the load function.\n"
          ]
        },
        {
          "metadata": {
            "tags": null
          },
          "name": "stdout",
          "output_type": "stream",
          "text": [
            "7/7 [==============================] - 4s 689ms/step - loss: 4.1950e-04 - root_mean_squared_error: 0.0205 - val_loss: 3.8219e-04 - val_root_mean_squared_error: 0.0195\n",
            "Epoch 51/100\n",
            "7/7 [==============================] - 0s 7ms/step - loss: 4.0341e-04 - root_mean_squared_error: 0.0201 - val_loss: 5.0296e-04 - val_root_mean_squared_error: 0.0224\n",
            "Epoch 52/100\n",
            "7/7 [==============================] - 0s 7ms/step - loss: 4.0951e-04 - root_mean_squared_error: 0.0202 - val_loss: 4.5751e-04 - val_root_mean_squared_error: 0.0214\n",
            "Epoch 53/100\n",
            "1/7 [===>..........................] - ETA: 0s - loss: 4.2495e-04 - root_mean_squared_error: 0.0206"
          ]
        },
        {
          "metadata": {
            "tags": null
          },
          "name": "stderr",
          "output_type": "stream",
          "text": [
            "WARNING:absl:Found untraced functions such as lstm_cell_layer_call_fn, lstm_cell_layer_call_and_return_conditional_losses while saving (showing 2 of 2). These functions will not be directly callable after loading.\n",
            "WARNING:absl:<keras.layers.recurrent.LSTMCell object at 0x7fed9df6b950> has the same name 'LSTMCell' as a built-in Keras object. Consider renaming <class 'keras.layers.recurrent.LSTMCell'> to avoid naming conflicts when loading with `tf.keras.models.load_model`. If renaming is not possible, pass the object in the `custom_objects` parameter of the load function.\n"
          ]
        },
        {
          "metadata": {
            "tags": null
          },
          "name": "stdout",
          "output_type": "stream",
          "text": [
            "7/7 [==============================] - 4s 629ms/step - loss: 3.9745e-04 - root_mean_squared_error: 0.0199 - val_loss: 3.6674e-04 - val_root_mean_squared_error: 0.0192\n",
            "Epoch 54/100\n",
            "7/7 [==============================] - 0s 7ms/step - loss: 3.9009e-04 - root_mean_squared_error: 0.0198 - val_loss: 5.1713e-04 - val_root_mean_squared_error: 0.0227\n",
            "Epoch 55/100\n",
            "7/7 [==============================] - 0s 7ms/step - loss: 3.7687e-04 - root_mean_squared_error: 0.0194 - val_loss: 4.2083e-04 - val_root_mean_squared_error: 0.0205\n",
            "Epoch 56/100\n",
            "7/7 [==============================] - 0s 7ms/step - loss: 3.7398e-04 - root_mean_squared_error: 0.0193 - val_loss: 4.3121e-04 - val_root_mean_squared_error: 0.0208\n",
            "Epoch 57/100\n",
            "7/7 [==============================] - 0s 7ms/step - loss: 3.7731e-04 - root_mean_squared_error: 0.0194 - val_loss: 3.7256e-04 - val_root_mean_squared_error: 0.0193\n",
            "Epoch 58/100\n",
            "7/7 [==============================] - 0s 7ms/step - loss: 3.6194e-04 - root_mean_squared_error: 0.0190 - val_loss: 5.7299e-04 - val_root_mean_squared_error: 0.0239\n",
            "Epoch 59/100\n",
            "7/7 [==============================] - 0s 7ms/step - loss: 3.7370e-04 - root_mean_squared_error: 0.0193 - val_loss: 3.7710e-04 - val_root_mean_squared_error: 0.0194\n",
            "Epoch 60/100\n",
            "7/7 [==============================] - 0s 7ms/step - loss: 3.6681e-04 - root_mean_squared_error: 0.0192 - val_loss: 4.1646e-04 - val_root_mean_squared_error: 0.0204\n",
            "Epoch 61/100\n",
            "7/7 [==============================] - 0s 8ms/step - loss: 3.4812e-04 - root_mean_squared_error: 0.0187 - val_loss: 4.8045e-04 - val_root_mean_squared_error: 0.0219\n",
            "Epoch 62/100\n",
            "1/7 [===>..........................] - ETA: 0s - loss: 4.2606e-04 - root_mean_squared_error: 0.0206"
          ]
        },
        {
          "metadata": {
            "tags": null
          },
          "name": "stderr",
          "output_type": "stream",
          "text": [
            "WARNING:absl:Found untraced functions such as lstm_cell_layer_call_fn, lstm_cell_layer_call_and_return_conditional_losses while saving (showing 2 of 2). These functions will not be directly callable after loading.\n",
            "WARNING:absl:<keras.layers.recurrent.LSTMCell object at 0x7fed9df6b950> has the same name 'LSTMCell' as a built-in Keras object. Consider renaming <class 'keras.layers.recurrent.LSTMCell'> to avoid naming conflicts when loading with `tf.keras.models.load_model`. If renaming is not possible, pass the object in the `custom_objects` parameter of the load function.\n"
          ]
        },
        {
          "metadata": {
            "tags": null
          },
          "name": "stdout",
          "output_type": "stream",
          "text": [
            "7/7 [==============================] - 5s 791ms/step - loss: 3.5046e-04 - root_mean_squared_error: 0.0187 - val_loss: 3.4799e-04 - val_root_mean_squared_error: 0.0187\n",
            "Epoch 63/100\n",
            "7/7 [==============================] - 0s 7ms/step - loss: 3.4029e-04 - root_mean_squared_error: 0.0184 - val_loss: 4.7923e-04 - val_root_mean_squared_error: 0.0219\n",
            "Epoch 64/100\n",
            "7/7 [==============================] - 0s 7ms/step - loss: 3.4037e-04 - root_mean_squared_error: 0.0184 - val_loss: 4.1612e-04 - val_root_mean_squared_error: 0.0204\n",
            "Epoch 65/100\n",
            "7/7 [==============================] - 0s 9ms/step - loss: 3.2169e-04 - root_mean_squared_error: 0.0179 - val_loss: 4.1313e-04 - val_root_mean_squared_error: 0.0203\n",
            "Epoch 66/100\n",
            "7/7 [==============================] - 0s 7ms/step - loss: 3.1646e-04 - root_mean_squared_error: 0.0178 - val_loss: 4.1111e-04 - val_root_mean_squared_error: 0.0203\n",
            "Epoch 67/100\n",
            "7/7 [==============================] - 0s 7ms/step - loss: 3.1115e-04 - root_mean_squared_error: 0.0176 - val_loss: 4.0526e-04 - val_root_mean_squared_error: 0.0201\n",
            "Epoch 68/100\n",
            "7/7 [==============================] - 0s 8ms/step - loss: 3.0798e-04 - root_mean_squared_error: 0.0175 - val_loss: 4.3301e-04 - val_root_mean_squared_error: 0.0208\n",
            "Epoch 69/100\n",
            "7/7 [==============================] - 0s 7ms/step - loss: 3.0576e-04 - root_mean_squared_error: 0.0175 - val_loss: 4.1370e-04 - val_root_mean_squared_error: 0.0203\n",
            "Epoch 70/100\n",
            "7/7 [==============================] - 0s 7ms/step - loss: 3.0019e-04 - root_mean_squared_error: 0.0173 - val_loss: 4.0241e-04 - val_root_mean_squared_error: 0.0201\n",
            "Epoch 71/100\n",
            "1/7 [===>..........................] - ETA: 0s - loss: 3.2985e-04 - root_mean_squared_error: 0.0182"
          ]
        },
        {
          "metadata": {
            "tags": null
          },
          "name": "stderr",
          "output_type": "stream",
          "text": [
            "WARNING:absl:Found untraced functions such as lstm_cell_layer_call_fn, lstm_cell_layer_call_and_return_conditional_losses while saving (showing 2 of 2). These functions will not be directly callable after loading.\n",
            "WARNING:absl:<keras.layers.recurrent.LSTMCell object at 0x7fed9df6b950> has the same name 'LSTMCell' as a built-in Keras object. Consider renaming <class 'keras.layers.recurrent.LSTMCell'> to avoid naming conflicts when loading with `tf.keras.models.load_model`. If renaming is not possible, pass the object in the `custom_objects` parameter of the load function.\n"
          ]
        },
        {
          "metadata": {
            "tags": null
          },
          "name": "stdout",
          "output_type": "stream",
          "text": [
            "7/7 [==============================] - 4s 680ms/step - loss: 2.9057e-04 - root_mean_squared_error: 0.0170 - val_loss: 3.4748e-04 - val_root_mean_squared_error: 0.0186\n",
            "Epoch 72/100\n",
            "7/7 [==============================] - 0s 10ms/step - loss: 3.0230e-04 - root_mean_squared_error: 0.0174 - val_loss: 3.5765e-04 - val_root_mean_squared_error: 0.0189\n",
            "Epoch 73/100\n",
            "7/7 [==============================] - 0s 7ms/step - loss: 2.7729e-04 - root_mean_squared_error: 0.0167 - val_loss: 4.0498e-04 - val_root_mean_squared_error: 0.0201\n",
            "Epoch 74/100\n",
            "7/7 [==============================] - 0s 7ms/step - loss: 2.7622e-04 - root_mean_squared_error: 0.0166 - val_loss: 3.7937e-04 - val_root_mean_squared_error: 0.0195\n",
            "Epoch 75/100\n",
            "7/7 [==============================] - 0s 7ms/step - loss: 2.6854e-04 - root_mean_squared_error: 0.0164 - val_loss: 3.9643e-04 - val_root_mean_squared_error: 0.0199\n",
            "Epoch 76/100\n",
            "7/7 [==============================] - 0s 7ms/step - loss: 2.6804e-04 - root_mean_squared_error: 0.0164 - val_loss: 3.6701e-04 - val_root_mean_squared_error: 0.0192\n",
            "Epoch 77/100\n",
            "7/7 [==============================] - 0s 7ms/step - loss: 2.6030e-04 - root_mean_squared_error: 0.0161 - val_loss: 3.4780e-04 - val_root_mean_squared_error: 0.0186\n",
            "Epoch 78/100\n",
            "7/7 [==============================] - 0s 7ms/step - loss: 2.5791e-04 - root_mean_squared_error: 0.0161 - val_loss: 3.5140e-04 - val_root_mean_squared_error: 0.0187\n",
            "Epoch 79/100\n",
            "7/7 [==============================] - 0s 7ms/step - loss: 2.5441e-04 - root_mean_squared_error: 0.0160 - val_loss: 3.8382e-04 - val_root_mean_squared_error: 0.0196\n",
            "Epoch 80/100\n",
            "7/7 [==============================] - 0s 7ms/step - loss: 2.5060e-04 - root_mean_squared_error: 0.0158 - val_loss: 3.6113e-04 - val_root_mean_squared_error: 0.0190\n",
            "Epoch 81/100\n",
            "1/7 [===>..........................] - ETA: 0s - loss: 2.6607e-04 - root_mean_squared_error: 0.0163"
          ]
        },
        {
          "metadata": {
            "tags": null
          },
          "name": "stderr",
          "output_type": "stream",
          "text": [
            "WARNING:absl:Found untraced functions such as lstm_cell_layer_call_fn, lstm_cell_layer_call_and_return_conditional_losses while saving (showing 2 of 2). These functions will not be directly callable after loading.\n",
            "WARNING:absl:<keras.layers.recurrent.LSTMCell object at 0x7fed9df6b950> has the same name 'LSTMCell' as a built-in Keras object. Consider renaming <class 'keras.layers.recurrent.LSTMCell'> to avoid naming conflicts when loading with `tf.keras.models.load_model`. If renaming is not possible, pass the object in the `custom_objects` parameter of the load function.\n"
          ]
        },
        {
          "metadata": {
            "tags": null
          },
          "name": "stdout",
          "output_type": "stream",
          "text": [
            "7/7 [==============================] - 4s 641ms/step - loss: 2.4174e-04 - root_mean_squared_error: 0.0155 - val_loss: 3.3201e-04 - val_root_mean_squared_error: 0.0182\n",
            "Epoch 82/100\n",
            "7/7 [==============================] - 0s 7ms/step - loss: 2.4629e-04 - root_mean_squared_error: 0.0157 - val_loss: 3.5736e-04 - val_root_mean_squared_error: 0.0189\n",
            "Epoch 83/100\n",
            "7/7 [==============================] - 0s 7ms/step - loss: 2.4168e-04 - root_mean_squared_error: 0.0155 - val_loss: 3.4484e-04 - val_root_mean_squared_error: 0.0186\n",
            "Epoch 84/100\n",
            "7/7 [==============================] - 0s 7ms/step - loss: 2.3438e-04 - root_mean_squared_error: 0.0153 - val_loss: 3.4914e-04 - val_root_mean_squared_error: 0.0187\n",
            "Epoch 85/100\n",
            "7/7 [==============================] - 0s 7ms/step - loss: 2.3267e-04 - root_mean_squared_error: 0.0153 - val_loss: 3.7841e-04 - val_root_mean_squared_error: 0.0195\n",
            "Epoch 86/100\n",
            "1/7 [===>..........................] - ETA: 0s - loss: 1.8776e-04 - root_mean_squared_error: 0.0137"
          ]
        },
        {
          "output_type": "stream",
          "name": "stderr",
          "text": [
            "WARNING:absl:Found untraced functions such as lstm_cell_layer_call_fn, lstm_cell_layer_call_and_return_conditional_losses while saving (showing 2 of 2). These functions will not be directly callable after loading.\n",
            "WARNING:absl:<keras.layers.recurrent.LSTMCell object at 0x7fed9df6b950> has the same name 'LSTMCell' as a built-in Keras object. Consider renaming <class 'keras.layers.recurrent.LSTMCell'> to avoid naming conflicts when loading with `tf.keras.models.load_model`. If renaming is not possible, pass the object in the `custom_objects` parameter of the load function.\n"
          ]
        },
        {
          "output_type": "stream",
          "name": "stdout",
          "text": [
            "\b\b\b\b\b\b\b\b\b\b\b\b\b\b\b\b\b\b\b\b\b\b\b\b\b\b\b\b\b\b\b\b\b\b\b\b\b\b\b\b\b\b\b\b\b\b\b\b\b\b\b\b\b\b\b\b\b\b\b\b\b\b\b\b\b\b\b\b\b\b\b\b\b\b\b\b\b\b\b\b\b\b\b\b\b\b\b\b\b\b\b\b\b\b\b\b\b\b\b\r7/7 [==============================] - 4s 689ms/step - loss: 2.3151e-04 - root_mean_squared_error: 0.0152 - val_loss: 3.3187e-04 - val_root_mean_squared_error: 0.0182\n",
            "Epoch 87/100\n",
            "7/7 [==============================] - 0s 7ms/step - loss: 2.2025e-04 - root_mean_squared_error: 0.0148 - val_loss: 3.6584e-04 - val_root_mean_squared_error: 0.0191\n",
            "Epoch 88/100\n",
            "7/7 [==============================] - 0s 7ms/step - loss: 2.2001e-04 - root_mean_squared_error: 0.0148 - val_loss: 3.3468e-04 - val_root_mean_squared_error: 0.0183\n",
            "Epoch 89/100\n",
            "7/7 [==============================] - 0s 7ms/step - loss: 2.1328e-04 - root_mean_squared_error: 0.0146 - val_loss: 3.6284e-04 - val_root_mean_squared_error: 0.0190\n",
            "Epoch 90/100\n",
            "1/7 [===>..........................] - ETA: 0s - loss: 2.3590e-04 - root_mean_squared_error: 0.0154"
          ]
        },
        {
          "output_type": "stream",
          "name": "stderr",
          "text": [
            "WARNING:absl:Found untraced functions such as lstm_cell_layer_call_fn, lstm_cell_layer_call_and_return_conditional_losses while saving (showing 2 of 2). These functions will not be directly callable after loading.\n",
            "WARNING:absl:<keras.layers.recurrent.LSTMCell object at 0x7fed9df6b950> has the same name 'LSTMCell' as a built-in Keras object. Consider renaming <class 'keras.layers.recurrent.LSTMCell'> to avoid naming conflicts when loading with `tf.keras.models.load_model`. If renaming is not possible, pass the object in the `custom_objects` parameter of the load function.\n"
          ]
        },
        {
          "output_type": "stream",
          "name": "stdout",
          "text": [
            "\b\b\b\b\b\b\b\b\b\b\b\b\b\b\b\b\b\b\b\b\b\b\b\b\b\b\b\b\b\b\b\b\b\b\b\b\b\b\b\b\b\b\b\b\b\b\b\b\b\b\b\b\b\b\b\b\b\b\b\b\b\b\b\b\b\b\b\b\b\b\b\b\b\b\b\b\b\b\b\b\b\b\b\b\b\b\b\b\b\b\b\b\b\b\b\b\b\b\b\r7/7 [==============================] - 4s 675ms/step - loss: 2.1043e-04 - root_mean_squared_error: 0.0145 - val_loss: 3.2987e-04 - val_root_mean_squared_error: 0.0182\n",
            "Epoch 91/100\n",
            "7/7 [==============================] - 0s 7ms/step - loss: 2.0925e-04 - root_mean_squared_error: 0.0145 - val_loss: 3.3158e-04 - val_root_mean_squared_error: 0.0182\n",
            "Epoch 92/100\n",
            "7/7 [==============================] - 0s 9ms/step - loss: 2.0829e-04 - root_mean_squared_error: 0.0144 - val_loss: 3.4291e-04 - val_root_mean_squared_error: 0.0185\n",
            "Epoch 93/100\n",
            "7/7 [==============================] - 0s 7ms/step - loss: 2.1572e-04 - root_mean_squared_error: 0.0147 - val_loss: 3.3629e-04 - val_root_mean_squared_error: 0.0183\n",
            "Epoch 94/100\n",
            "7/7 [==============================] - 0s 7ms/step - loss: 2.1143e-04 - root_mean_squared_error: 0.0145 - val_loss: 3.3836e-04 - val_root_mean_squared_error: 0.0184\n",
            "Epoch 95/100\n",
            "1/7 [===>..........................] - ETA: 0s - loss: 2.9726e-04 - root_mean_squared_error: 0.0172"
          ]
        },
        {
          "output_type": "stream",
          "name": "stderr",
          "text": [
            "WARNING:absl:Found untraced functions such as lstm_cell_layer_call_fn, lstm_cell_layer_call_and_return_conditional_losses while saving (showing 2 of 2). These functions will not be directly callable after loading.\n",
            "WARNING:absl:<keras.layers.recurrent.LSTMCell object at 0x7fed9df6b950> has the same name 'LSTMCell' as a built-in Keras object. Consider renaming <class 'keras.layers.recurrent.LSTMCell'> to avoid naming conflicts when loading with `tf.keras.models.load_model`. If renaming is not possible, pass the object in the `custom_objects` parameter of the load function.\n"
          ]
        },
        {
          "output_type": "stream",
          "name": "stdout",
          "text": [
            "\b\b\b\b\b\b\b\b\b\b\b\b\b\b\b\b\b\b\b\b\b\b\b\b\b\b\b\b\b\b\b\b\b\b\b\b\b\b\b\b\b\b\b\b\b\b\b\b\b\b\b\b\b\b\b\b\b\b\b\b\b\b\b\b\b\b\b\b\b\b\b\b\b\b\b\b\b\b\b\b\b\b\b\b\b\b\b\b\b\b\b\b\b\b\b\b\b\b\b\r7/7 [==============================] - 4s 632ms/step - loss: 2.1317e-04 - root_mean_squared_error: 0.0146 - val_loss: 3.2849e-04 - val_root_mean_squared_error: 0.0181\n",
            "Epoch 96/100\n",
            "1/7 [===>..........................] - ETA: 0s - loss: 2.7992e-04 - root_mean_squared_error: 0.0167"
          ]
        },
        {
          "output_type": "stream",
          "name": "stderr",
          "text": [
            "WARNING:absl:Found untraced functions such as lstm_cell_layer_call_fn, lstm_cell_layer_call_and_return_conditional_losses while saving (showing 2 of 2). These functions will not be directly callable after loading.\n",
            "WARNING:absl:<keras.layers.recurrent.LSTMCell object at 0x7fed9df6b950> has the same name 'LSTMCell' as a built-in Keras object. Consider renaming <class 'keras.layers.recurrent.LSTMCell'> to avoid naming conflicts when loading with `tf.keras.models.load_model`. If renaming is not possible, pass the object in the `custom_objects` parameter of the load function.\n"
          ]
        },
        {
          "output_type": "stream",
          "name": "stdout",
          "text": [
            "\b\b\b\b\b\b\b\b\b\b\b\b\b\b\b\b\b\b\b\b\b\b\b\b\b\b\b\b\b\b\b\b\b\b\b\b\b\b\b\b\b\b\b\b\b\b\b\b\b\b\b\b\b\b\b\b\b\b\b\b\b\b\b\b\b\b\b\b\b\b\b\b\b\b\b\b\b\b\b\b\b\b\b\b\b\b\b\b\b\b\b\b\b\b\b\b\b\b\b\r7/7 [==============================] - 4s 704ms/step - loss: 2.2214e-04 - root_mean_squared_error: 0.0149 - val_loss: 3.2304e-04 - val_root_mean_squared_error: 0.0180\n",
            "Epoch 97/100\n",
            "7/7 [==============================] - 0s 7ms/step - loss: 2.0349e-04 - root_mean_squared_error: 0.0143 - val_loss: 3.2709e-04 - val_root_mean_squared_error: 0.0181\n",
            "Epoch 98/100\n",
            "1/7 [===>..........................] - ETA: 0s - loss: 1.7113e-04 - root_mean_squared_error: 0.0131"
          ]
        },
        {
          "output_type": "stream",
          "name": "stderr",
          "text": [
            "WARNING:absl:Found untraced functions such as lstm_cell_layer_call_fn, lstm_cell_layer_call_and_return_conditional_losses while saving (showing 2 of 2). These functions will not be directly callable after loading.\n",
            "WARNING:absl:<keras.layers.recurrent.LSTMCell object at 0x7fed9df6b950> has the same name 'LSTMCell' as a built-in Keras object. Consider renaming <class 'keras.layers.recurrent.LSTMCell'> to avoid naming conflicts when loading with `tf.keras.models.load_model`. If renaming is not possible, pass the object in the `custom_objects` parameter of the load function.\n"
          ]
        },
        {
          "output_type": "stream",
          "name": "stdout",
          "text": [
            "\b\b\b\b\b\b\b\b\b\b\b\b\b\b\b\b\b\b\b\b\b\b\b\b\b\b\b\b\b\b\b\b\b\b\b\b\b\b\b\b\b\b\b\b\b\b\b\b\b\b\b\b\b\b\b\b\b\b\b\b\b\b\b\b\b\b\b\b\b\b\b\b\b\b\b\b\b\b\b\b\b\b\b\b\b\b\b\b\b\b\b\b\b\b\b\b\b\b\b\r7/7 [==============================] - 4s 637ms/step - loss: 1.9900e-04 - root_mean_squared_error: 0.0141 - val_loss: 3.2239e-04 - val_root_mean_squared_error: 0.0180\n",
            "Epoch 99/100\n",
            "7/7 [==============================] - 0s 7ms/step - loss: 1.8910e-04 - root_mean_squared_error: 0.0138 - val_loss: 3.3347e-04 - val_root_mean_squared_error: 0.0183\n",
            "Epoch 100/100\n",
            "7/7 [==============================] - 0s 7ms/step - loss: 1.8642e-04 - root_mean_squared_error: 0.0137 - val_loss: 3.3608e-04 - val_root_mean_squared_error: 0.0183\n"
          ]
        },
        {
          "output_type": "execute_result",
          "data": {
            "text/plain": [
              "<keras.callbacks.History at 0x7fed90220690>"
            ]
          },
          "metadata": {},
          "execution_count": 12
        }
      ],
      "source": [
        "from tensorflow.keras.models import Sequential\n",
        "from tensorflow.keras.optimizers import Adam\n",
        "from tensorflow.keras import layers\n",
        "from tensorflow.keras.callbacks import ModelCheckpoint\n",
        "from tensorflow.keras.losses import MeanSquaredError\n",
        "from tensorflow.keras.metrics import RootMeanSquaredError\n",
        "\n",
        "model = Sequential([layers.Input((3, 1)),\n",
        "                    layers.LSTM(64),\n",
        "                    layers.Dense(32, activation='relu'),\n",
        "                    layers.Dense(32, activation='relu'),\n",
        "                    layers.Dense(1)])\n",
        "cp1 = ModelCheckpoint('model1/', save_best_only=True)\n",
        "model.compile(loss=MeanSquaredError(), \n",
        "              optimizer=Adam(learning_rate=0.001),\n",
        "              metrics=[RootMeanSquaredError()])\n",
        "\n",
        "model.fit(X_train, y_train, validation_data=(X_val, y_val), epochs=100, callbacks=[cp1])\n",
        "# model.fit(X_train, y_train, validation_data=(X_val, y_val), epochs=100)"
      ]
    },
    {
      "cell_type": "code",
      "execution_count": 13,
      "metadata": {
        "colab": {
          "base_uri": "https://localhost:8080/"
        },
        "id": "AI4YISQqOBkH",
        "outputId": "c3cccfb5-d135-4dc2-c8c5-ef7348ea66b9"
      },
      "outputs": [
        {
          "output_type": "stream",
          "name": "stdout",
          "text": [
            "Model: \"sequential\"\n",
            "_________________________________________________________________\n",
            " Layer (type)                Output Shape              Param #   \n",
            "=================================================================\n",
            " lstm (LSTM)                 (None, 64)                16896     \n",
            "                                                                 \n",
            " dense (Dense)               (None, 32)                2080      \n",
            "                                                                 \n",
            " dense_1 (Dense)             (None, 32)                1056      \n",
            "                                                                 \n",
            " dense_2 (Dense)             (None, 1)                 33        \n",
            "                                                                 \n",
            "=================================================================\n",
            "Total params: 20,065\n",
            "Trainable params: 20,065\n",
            "Non-trainable params: 0\n",
            "_________________________________________________________________\n"
          ]
        }
      ],
      "source": [
        "model.summary()"
      ]
    },
    {
      "cell_type": "code",
      "execution_count": 14,
      "metadata": {
        "colab": {
          "base_uri": "https://localhost:8080/",
          "height": 313
        },
        "id": "K8VwXkIbAbGQ",
        "outputId": "cfb65f4f-b023-40c0-9ce2-7e299cb528b8"
      },
      "outputs": [
        {
          "output_type": "execute_result",
          "data": {
            "text/plain": [
              "<matplotlib.legend.Legend at 0x7fed1bff4810>"
            ]
          },
          "metadata": {},
          "execution_count": 14
        },
        {
          "output_type": "display_data",
          "data": {
            "text/plain": [
              "<Figure size 432x288 with 1 Axes>"
            ],
            "image/png": "[encoded data removed]"
          },
          "metadata": {
            "needs_background": "light"
          }
        }
      ],
      "source": [
        "from tensorflow.keras.models import load_model\n",
        "model = load_model('model1/')\n",
        "train_predictions = model.predict(X_train).flatten()\n",
        "\n",
        "plt.plot(dates_train, train_predictions)\n",
        "plt.plot(dates_train, y_train)\n",
        "plt.xticks(rotation=60)\n",
        "plt.legend(['Training Predictions', 'Training Observations'])"
      ]
    },
    {
      "cell_type": "code",
      "execution_count": 15,
      "metadata": {
        "colab": {
          "base_uri": "https://localhost:8080/",
          "height": 328
        },
        "id": "2BfBC9P1Aijb",
        "outputId": "0862ba01-4694-4959-b880-6997b7eaaa40"
      },
      "outputs": [
        {
          "output_type": "execute_result",
          "data": {
            "text/plain": [
              "<matplotlib.legend.Legend at 0x7fed186cd790>"
            ]
          },
          "metadata": {},
          "execution_count": 15
        },
        {
          "output_type": "display_data",
          "data": {
            "text/plain": [
              "<Figure size 432x288 with 1 Axes>"
            ],
            "image/png": "[encoded data removed]"
          },
          "metadata": {
            "needs_background": "light"
          }
        }
      ],
      "source": [
        "val_predictions = model.predict(X_val).flatten()\n",
        "\n",
        "plt.plot(dates_val, val_predictions)\n",
        "plt.plot(dates_val, y_val)\n",
        "plt.xticks(rotation=60)\n",
        "plt.legend(['Validation Predictions', 'Validation Observations'])"
      ]
    },
    {
      "cell_type": "code",
      "execution_count": 16,
      "metadata": {
        "colab": {
          "base_uri": "https://localhost:8080/",
          "height": 328
        },
        "id": "OfWmodvqBxpC",
        "outputId": "1c5795de-ca0f-4428-82a2-cd1dd6952a66"
      },
      "outputs": [
        {
          "output_type": "execute_result",
          "data": {
            "text/plain": [
              "<matplotlib.legend.Legend at 0x7fed1bfea490>"
            ]
          },
          "metadata": {},
          "execution_count": 16
        },
        {
          "output_type": "display_data",
          "data": {
            "text/plain": [
              "<Figure size 432x288 with 1 Axes>"
            ],
            "image/png": "[encoded data removed]"
          },
          "metadata": {
            "needs_background": "light"
          }
        }
      ],
      "source": [
        "test_predictions = model.predict(X_test).flatten()\n",
        "\n",
        "plt.plot(dates_test, test_predictions)\n",
        "plt.plot(dates_test, y_test)\n",
        "plt.xticks(rotation=60)\n",
        "plt.legend(['Testing Predictions', 'Testing Observations'])"
      ]
    },
    {
      "cell_type": "code",
      "execution_count": 17,
      "metadata": {
        "colab": {
          "base_uri": "https://localhost:8080/"
        },
        "id": "PvC80yf1OeVR",
        "outputId": "d56b386e-94f0-4084-98cb-9143af6b9a41"
      },
      "outputs": [
        {
          "output_type": "stream",
          "name": "stdout",
          "text": [
            "Mean Absolute error  0.014474156\n",
            "Mean Squared error  0.00036652456\n",
            "R2 score  0.5098583194555587\n"
          ]
        }
      ],
      "source": [
        "from sklearn.metrics import mean_absolute_error,precision_score,recall_score,f1_score\n",
        "from sklearn.metrics import r2_score\n",
        "from sklearn.metrics import accuracy_score\n",
        "from sklearn.metrics import mean_squared_error\n",
        "# testy_predictions = model.predict(y_test)\n",
        "print(\"Mean Absolute error \", mean_absolute_error(  y_test, test_predictions  ))\n",
        "print(\"Mean Squared error \", mean_squared_error(  y_test, test_predictions  ))\n",
        "print(\"R2 score \",r2_score(  y_test, test_predictions  ))\n",
        "\n",
        "# print(\"Accuracy \",accuracy_score(y_test, test_predictions))\n",
        "# print('precision',precision_score(y_test,test_predictions))\n",
        "# model.evaluate(y_test,test_predictions)"
      ]
    },
    {
      "cell_type": "code",
      "execution_count": 18,
      "metadata": {
        "colab": {
          "base_uri": "https://localhost:8080/",
          "height": 282
        },
        "id": "vvYRAOQOCMyZ",
        "outputId": "4f11eaaf-3a52-4cb4-fce0-4c89a29f471c"
      },
      "outputs": [
        {
          "output_type": "execute_result",
          "data": {
            "text/plain": [
              "<matplotlib.legend.Legend at 0x7fed19642ed0>"
            ]
          },
          "metadata": {},
          "execution_count": 18
        },
        {
          "output_type": "display_data",
          "data": {
            "text/plain": [
              "<Figure size 432x288 with 1 Axes>"
            ],
            "image/png": "[encoded data removed]"
          },
          "metadata": {
            "needs_background": "light"
          }
        }
      ],
      "source": [
        "plt.plot(dates_train, train_predictions)\n",
        "plt.plot(dates_train, y_train)\n",
        "plt.plot(dates_val, val_predictions)\n",
        "plt.plot(dates_val, y_val)\n",
        "plt.plot(dates_test, test_predictions)\n",
        "plt.plot(dates_test, y_test)\n",
        "plt.legend(['Training Predictions', \n",
        "            'Training Observations',\n",
        "            'Validation Predictions', \n",
        "            'Validation Observations',\n",
        "            'Testing Predictions', \n",
        "            'Testing Observations'])"
      ]
    },
    {
      "cell_type": "code",
      "execution_count": 19,
      "metadata": {
        "id": "eoyD2nghC6hW"
      },
      "outputs": [],
      "source": [
        "from copy import deepcopy\n",
        "\n",
        "recursive_predictions = []\n",
        "recursive_dates = np.concatenate([dates_val, dates_test])\n",
        "\n",
        "for target_date in recursive_dates:\n",
        "  last_window = deepcopy(X_train[-1])\n",
        "  next_prediction = model.predict(np.array([last_window])).flatten()\n",
        "  recursive_predictions.append(next_prediction)\n",
        "  last_window[-1] = next_prediction"
      ]
    },
    {
      "cell_type": "code",
      "execution_count": 20,
      "metadata": {
        "colab": {
          "base_uri": "https://localhost:8080/",
          "height": 282
        },
        "id": "Y5KzFewZCVhr",
        "outputId": "db081de4-6bdb-490f-89ce-3159fed0d4b9"
      },
      "outputs": [
        {
          "output_type": "execute_result",
          "data": {
            "text/plain": [
              "<matplotlib.legend.Legend at 0x7fed190a58d0>"
            ]
          },
          "metadata": {},
          "execution_count": 20
        },
        {
          "output_type": "display_data",
          "data": {
            "text/plain": [
              "<Figure size 432x288 with 1 Axes>"
            ],
            "image/png": "[encoded data removed]"
          },
          "metadata": {
            "needs_background": "light"
          }
        }
      ],
      "source": [
        "plt.plot(dates_train, train_predictions)\n",
        "plt.plot(dates_train, y_train)\n",
        "plt.plot(dates_val, val_predictions)\n",
        "plt.plot(dates_val, y_val)\n",
        "plt.plot(dates_test, test_predictions)\n",
        "plt.plot(dates_test, y_test)\n",
        "plt.plot(recursive_dates, recursive_predictions)\n",
        "plt.legend(['Training Predictions', \n",
        "            'Training Observations',\n",
        "            'Validation Predictions', \n",
        "            'Validation Observations',\n",
        "            'Testing Predictions', \n",
        "            'Testing Observations',\n",
        "            'Recursive Predictions'])"
      ]
    },
    {
      "cell_type": "markdown",
      "source": [
        "# **Model with Conv1D Layer**"
      ],
      "metadata": {
        "id": "kx6kbLIg8O1D"
      }
    },
    {
      "cell_type": "code",
      "execution_count": 22,
      "metadata": {
        "colab": {
          "base_uri": "https://localhost:8080/"
        },
        "id": "fbIaWVwaMQUk",
        "outputId": "0d23276b-6703-4ea3-c461-d129a16696fe"
      },
      "outputs": [
        {
          "output_type": "stream",
          "name": "stdout",
          "text": [
            "Model: \"sequential_1\"\n",
            "_________________________________________________________________\n",
            " Layer (type)                Output Shape              Param #   \n",
            "=================================================================\n",
            " conv1d (Conv1D)             (None, 1, 64)             256       \n",
            "                                                                 \n",
            " dense_3 (Dense)             (None, 1, 32)             2080      \n",
            "                                                                 \n",
            " dense_4 (Dense)             (None, 1, 32)             1056      \n",
            "                                                                 \n",
            " dense_5 (Dense)             (None, 1, 1)              33        \n",
            "                                                                 \n",
            "=================================================================\n",
            "Total params: 3,425\n",
            "Trainable params: 3,425\n",
            "Non-trainable params: 0\n",
            "_________________________________________________________________\n"
          ]
        }
      ],
      "source": [
        "model2 = Sequential([layers.Input((3, 1)),\n",
        "                    layers.Conv1D(64, kernel_size=3),\n",
        "                    layers.Dense(32, activation='relu'),\n",
        "                    layers.Dense(32, activation='relu'),\n",
        "                    layers.Dense(1)])\n",
        "cp2 = ModelCheckpoint('model2/', save_best_only=True)\n",
        "model2.compile(loss=MeanSquaredError(), \n",
        "              optimizer=Adam(learning_rate=0.001),\n",
        "              metrics=[RootMeanSquaredError()])\n",
        "\n",
        "model2.summary()"
      ]
    },
    {
      "cell_type": "code",
      "execution_count": 23,
      "metadata": {
        "colab": {
          "base_uri": "https://localhost:8080/"
        },
        "id": "SHNBJNyGPFgO",
        "outputId": "6dd14bb0-f371-46f7-dffb-dfbe2a8414bf"
      },
      "outputs": [
        {
          "output_type": "stream",
          "name": "stdout",
          "text": [
            "Epoch 1/100\n",
            "7/7 [==============================] - 9s 173ms/step - loss: 0.6158 - root_mean_squared_error: 0.7873 - val_loss: 0.4343 - val_root_mean_squared_error: 0.6590\n",
            "Epoch 2/100\n",
            "7/7 [==============================] - 1s 175ms/step - loss: 0.2612 - root_mean_squared_error: 0.5132 - val_loss: 0.1294 - val_root_mean_squared_error: 0.3597\n",
            "Epoch 3/100\n",
            "7/7 [==============================] - 1s 140ms/step - loss: 0.0589 - root_mean_squared_error: 0.2446 - val_loss: 0.0035 - val_root_mean_squared_error: 0.0588\n",
            "Epoch 4/100\n",
            "7/7 [==============================] - 0s 7ms/step - loss: 0.0136 - root_mean_squared_error: 0.1159 - val_loss: 0.0202 - val_root_mean_squared_error: 0.1421\n",
            "Epoch 5/100\n",
            "7/7 [==============================] - 0s 7ms/step - loss: 0.0299 - root_mean_squared_error: 0.1732 - val_loss: 0.0101 - val_root_mean_squared_error: 0.1003\n",
            "Epoch 6/100\n",
            "7/7 [==============================] - 1s 142ms/step - loss: 0.0132 - root_mean_squared_error: 0.1154 - val_loss: 0.0021 - val_root_mean_squared_error: 0.0462\n",
            "Epoch 7/100\n",
            "7/7 [==============================] - 0s 8ms/step - loss: 0.0105 - root_mean_squared_error: 0.1023 - val_loss: 0.0067 - val_root_mean_squared_error: 0.0821\n",
            "Epoch 8/100\n",
            "7/7 [==============================] - 1s 146ms/step - loss: 0.0105 - root_mean_squared_error: 0.1026 - val_loss: 0.0020 - val_root_mean_squared_error: 0.0451\n",
            "Epoch 9/100\n",
            "7/7 [==============================] - 1s 140ms/step - loss: 0.0087 - root_mean_squared_error: 0.0936 - val_loss: 9.7485e-04 - val_root_mean_squared_error: 0.0312\n",
            "Epoch 10/100\n",
            "7/7 [==============================] - 0s 7ms/step - loss: 0.0089 - root_mean_squared_error: 0.0946 - val_loss: 9.7548e-04 - val_root_mean_squared_error: 0.0312\n",
            "Epoch 11/100\n",
            "7/7 [==============================] - 0s 8ms/step - loss: 0.0083 - root_mean_squared_error: 0.0908 - val_loss: 0.0013 - val_root_mean_squared_error: 0.0359\n",
            "Epoch 12/100\n",
            "7/7 [==============================] - 0s 7ms/step - loss: 0.0087 - root_mean_squared_error: 0.0932 - val_loss: 0.0017 - val_root_mean_squared_error: 0.0411\n",
            "Epoch 13/100\n",
            "7/7 [==============================] - 0s 7ms/step - loss: 0.0086 - root_mean_squared_error: 0.0926 - val_loss: 0.0014 - val_root_mean_squared_error: 0.0377\n",
            "Epoch 14/100\n",
            "7/7 [==============================] - 0s 7ms/step - loss: 0.0084 - root_mean_squared_error: 0.0913 - val_loss: 0.0012 - val_root_mean_squared_error: 0.0341\n",
            "Epoch 15/100\n",
            "7/7 [==============================] - 0s 7ms/step - loss: 0.0086 - root_mean_squared_error: 0.0930 - val_loss: 0.0012 - val_root_mean_squared_error: 0.0348\n",
            "Epoch 16/100\n",
            "7/7 [==============================] - 0s 7ms/step - loss: 0.0085 - root_mean_squared_error: 0.0916 - val_loss: 0.0014 - val_root_mean_squared_error: 0.0379\n",
            "Epoch 17/100\n",
            "7/7 [==============================] - 0s 7ms/step - loss: 0.0085 - root_mean_squared_error: 0.0923 - val_loss: 0.0014 - val_root_mean_squared_error: 0.0377\n",
            "Epoch 18/100\n",
            "7/7 [==============================] - 0s 7ms/step - loss: 0.0083 - root_mean_squared_error: 0.0914 - val_loss: 0.0013 - val_root_mean_squared_error: 0.0359\n",
            "Epoch 19/100\n",
            "7/7 [==============================] - 0s 7ms/step - loss: 0.0085 - root_mean_squared_error: 0.0922 - val_loss: 0.0013 - val_root_mean_squared_error: 0.0358\n",
            "Epoch 20/100\n",
            "7/7 [==============================] - 0s 7ms/step - loss: 0.0083 - root_mean_squared_error: 0.0914 - val_loss: 0.0013 - val_root_mean_squared_error: 0.0355\n",
            "Epoch 21/100\n",
            "7/7 [==============================] - 0s 9ms/step - loss: 0.0084 - root_mean_squared_error: 0.0922 - val_loss: 0.0013 - val_root_mean_squared_error: 0.0359\n",
            "Epoch 22/100\n",
            "7/7 [==============================] - 0s 7ms/step - loss: 0.0083 - root_mean_squared_error: 0.0912 - val_loss: 0.0013 - val_root_mean_squared_error: 0.0367\n",
            "Epoch 23/100\n",
            "7/7 [==============================] - 0s 7ms/step - loss: 0.0084 - root_mean_squared_error: 0.0911 - val_loss: 0.0014 - val_root_mean_squared_error: 0.0368\n",
            "Epoch 24/100\n",
            "7/7 [==============================] - 0s 8ms/step - loss: 0.0084 - root_mean_squared_error: 0.0914 - val_loss: 0.0014 - val_root_mean_squared_error: 0.0370\n",
            "Epoch 25/100\n",
            "7/7 [==============================] - 0s 7ms/step - loss: 0.0084 - root_mean_squared_error: 0.0915 - val_loss: 0.0013 - val_root_mean_squared_error: 0.0365\n",
            "Epoch 26/100\n",
            "7/7 [==============================] - 0s 7ms/step - loss: 0.0083 - root_mean_squared_error: 0.0908 - val_loss: 0.0013 - val_root_mean_squared_error: 0.0360\n",
            "Epoch 27/100\n",
            "7/7 [==============================] - 0s 7ms/step - loss: 0.0084 - root_mean_squared_error: 0.0916 - val_loss: 0.0015 - val_root_mean_squared_error: 0.0384\n",
            "Epoch 28/100\n",
            "7/7 [==============================] - 0s 7ms/step - loss: 0.0080 - root_mean_squared_error: 0.0895 - val_loss: 0.0014 - val_root_mean_squared_error: 0.0369\n",
            "Epoch 29/100\n",
            "7/7 [==============================] - 0s 7ms/step - loss: 0.0083 - root_mean_squared_error: 0.0919 - val_loss: 0.0012 - val_root_mean_squared_error: 0.0351\n",
            "Epoch 30/100\n",
            "7/7 [==============================] - 0s 7ms/step - loss: 0.0082 - root_mean_squared_error: 0.0906 - val_loss: 0.0014 - val_root_mean_squared_error: 0.0380\n",
            "Epoch 31/100\n",
            "7/7 [==============================] - 0s 7ms/step - loss: 0.0081 - root_mean_squared_error: 0.0904 - val_loss: 0.0015 - val_root_mean_squared_error: 0.0387\n",
            "Epoch 32/100\n",
            "7/7 [==============================] - 0s 7ms/step - loss: 0.0081 - root_mean_squared_error: 0.0902 - val_loss: 0.0014 - val_root_mean_squared_error: 0.0372\n",
            "Epoch 33/100\n",
            "7/7 [==============================] - 0s 7ms/step - loss: 0.0081 - root_mean_squared_error: 0.0902 - val_loss: 0.0014 - val_root_mean_squared_error: 0.0378\n",
            "Epoch 34/100\n",
            "7/7 [==============================] - 0s 7ms/step - loss: 0.0080 - root_mean_squared_error: 0.0893 - val_loss: 0.0013 - val_root_mean_squared_error: 0.0359\n",
            "Epoch 35/100\n",
            "7/7 [==============================] - 0s 7ms/step - loss: 0.0080 - root_mean_squared_error: 0.0894 - val_loss: 0.0014 - val_root_mean_squared_error: 0.0374\n",
            "Epoch 36/100\n",
            "7/7 [==============================] - 0s 7ms/step - loss: 0.0081 - root_mean_squared_error: 0.0896 - val_loss: 0.0016 - val_root_mean_squared_error: 0.0400\n",
            "Epoch 37/100\n",
            "7/7 [==============================] - 0s 7ms/step - loss: 0.0078 - root_mean_squared_error: 0.0884 - val_loss: 0.0013 - val_root_mean_squared_error: 0.0355\n",
            "Epoch 38/100\n",
            "7/7 [==============================] - 0s 9ms/step - loss: 0.0082 - root_mean_squared_error: 0.0909 - val_loss: 0.0013 - val_root_mean_squared_error: 0.0361\n",
            "Epoch 39/100\n",
            "7/7 [==============================] - 0s 7ms/step - loss: 0.0081 - root_mean_squared_error: 0.0899 - val_loss: 0.0014 - val_root_mean_squared_error: 0.0381\n",
            "Epoch 40/100\n",
            "7/7 [==============================] - 0s 7ms/step - loss: 0.0082 - root_mean_squared_error: 0.0900 - val_loss: 0.0015 - val_root_mean_squared_error: 0.0393\n",
            "Epoch 41/100\n",
            "7/7 [==============================] - 0s 7ms/step - loss: 0.0079 - root_mean_squared_error: 0.0894 - val_loss: 0.0015 - val_root_mean_squared_error: 0.0382\n",
            "Epoch 42/100\n",
            "7/7 [==============================] - 0s 7ms/step - loss: 0.0081 - root_mean_squared_error: 0.0903 - val_loss: 0.0012 - val_root_mean_squared_error: 0.0353\n",
            "Epoch 43/100\n",
            "7/7 [==============================] - 0s 7ms/step - loss: 0.0079 - root_mean_squared_error: 0.0893 - val_loss: 0.0014 - val_root_mean_squared_error: 0.0369\n",
            "Epoch 44/100\n",
            "7/7 [==============================] - 0s 7ms/step - loss: 0.0082 - root_mean_squared_error: 0.0902 - val_loss: 0.0017 - val_root_mean_squared_error: 0.0417\n",
            "Epoch 45/100\n",
            "7/7 [==============================] - 0s 7ms/step - loss: 0.0081 - root_mean_squared_error: 0.0892 - val_loss: 0.0013 - val_root_mean_squared_error: 0.0362\n",
            "Epoch 46/100\n",
            "7/7 [==============================] - 0s 7ms/step - loss: 0.0080 - root_mean_squared_error: 0.0893 - val_loss: 0.0014 - val_root_mean_squared_error: 0.0372\n",
            "Epoch 47/100\n",
            "7/7 [==============================] - 0s 8ms/step - loss: 0.0081 - root_mean_squared_error: 0.0899 - val_loss: 0.0016 - val_root_mean_squared_error: 0.0395\n",
            "Epoch 48/100\n",
            "7/7 [==============================] - 0s 8ms/step - loss: 0.0078 - root_mean_squared_error: 0.0881 - val_loss: 0.0016 - val_root_mean_squared_error: 0.0397\n",
            "Epoch 49/100\n",
            "7/7 [==============================] - 0s 8ms/step - loss: 0.0079 - root_mean_squared_error: 0.0888 - val_loss: 0.0016 - val_root_mean_squared_error: 0.0398\n",
            "Epoch 50/100\n",
            "7/7 [==============================] - 0s 7ms/step - loss: 0.0080 - root_mean_squared_error: 0.0892 - val_loss: 0.0016 - val_root_mean_squared_error: 0.0401\n",
            "Epoch 51/100\n",
            "7/7 [==============================] - 0s 8ms/step - loss: 0.0078 - root_mean_squared_error: 0.0888 - val_loss: 0.0016 - val_root_mean_squared_error: 0.0399\n",
            "Epoch 52/100\n",
            "7/7 [==============================] - 0s 7ms/step - loss: 0.0078 - root_mean_squared_error: 0.0881 - val_loss: 0.0017 - val_root_mean_squared_error: 0.0411\n",
            "Epoch 53/100\n",
            "7/7 [==============================] - 0s 7ms/step - loss: 0.0077 - root_mean_squared_error: 0.0879 - val_loss: 0.0016 - val_root_mean_squared_error: 0.0397\n",
            "Epoch 54/100\n",
            "7/7 [==============================] - 0s 7ms/step - loss: 0.0078 - root_mean_squared_error: 0.0889 - val_loss: 0.0012 - val_root_mean_squared_error: 0.0351\n",
            "Epoch 55/100\n",
            "7/7 [==============================] - 0s 8ms/step - loss: 0.0079 - root_mean_squared_error: 0.0886 - val_loss: 0.0017 - val_root_mean_squared_error: 0.0412\n",
            "Epoch 56/100\n",
            "7/7 [==============================] - 0s 7ms/step - loss: 0.0077 - root_mean_squared_error: 0.0875 - val_loss: 0.0016 - val_root_mean_squared_error: 0.0406\n",
            "Epoch 57/100\n",
            "7/7 [==============================] - 0s 7ms/step - loss: 0.0077 - root_mean_squared_error: 0.0886 - val_loss: 0.0014 - val_root_mean_squared_error: 0.0378\n",
            "Epoch 58/100\n",
            "7/7 [==============================] - 0s 7ms/step - loss: 0.0076 - root_mean_squared_error: 0.0875 - val_loss: 0.0017 - val_root_mean_squared_error: 0.0409\n",
            "Epoch 59/100\n",
            "7/7 [==============================] - 0s 8ms/step - loss: 0.0077 - root_mean_squared_error: 0.0882 - val_loss: 0.0016 - val_root_mean_squared_error: 0.0403\n",
            "Epoch 60/100\n",
            "7/7 [==============================] - 0s 7ms/step - loss: 0.0076 - root_mean_squared_error: 0.0867 - val_loss: 0.0017 - val_root_mean_squared_error: 0.0411\n",
            "Epoch 61/100\n",
            "7/7 [==============================] - 0s 8ms/step - loss: 0.0074 - root_mean_squared_error: 0.0863 - val_loss: 0.0020 - val_root_mean_squared_error: 0.0442\n",
            "Epoch 62/100\n",
            "7/7 [==============================] - 0s 7ms/step - loss: 0.0075 - root_mean_squared_error: 0.0864 - val_loss: 0.0014 - val_root_mean_squared_error: 0.0378\n",
            "Epoch 63/100\n",
            "7/7 [==============================] - 0s 8ms/step - loss: 0.0077 - root_mean_squared_error: 0.0879 - val_loss: 0.0014 - val_root_mean_squared_error: 0.0368\n",
            "Epoch 64/100\n",
            "7/7 [==============================] - 0s 8ms/step - loss: 0.0074 - root_mean_squared_error: 0.0868 - val_loss: 0.0015 - val_root_mean_squared_error: 0.0392\n",
            "Epoch 65/100\n",
            "7/7 [==============================] - 0s 8ms/step - loss: 0.0074 - root_mean_squared_error: 0.0867 - val_loss: 0.0014 - val_root_mean_squared_error: 0.0368\n",
            "Epoch 66/100\n",
            "7/7 [==============================] - 0s 7ms/step - loss: 0.0074 - root_mean_squared_error: 0.0862 - val_loss: 0.0016 - val_root_mean_squared_error: 0.0396\n",
            "Epoch 67/100\n",
            "7/7 [==============================] - 0s 7ms/step - loss: 0.0074 - root_mean_squared_error: 0.0864 - val_loss: 0.0019 - val_root_mean_squared_error: 0.0433\n",
            "Epoch 68/100\n",
            "7/7 [==============================] - 0s 7ms/step - loss: 0.0075 - root_mean_squared_error: 0.0868 - val_loss: 0.0014 - val_root_mean_squared_error: 0.0371\n",
            "Epoch 69/100\n",
            "7/7 [==============================] - 0s 7ms/step - loss: 0.0076 - root_mean_squared_error: 0.0871 - val_loss: 0.0018 - val_root_mean_squared_error: 0.0428\n",
            "Epoch 70/100\n",
            "7/7 [==============================] - 0s 7ms/step - loss: 0.0076 - root_mean_squared_error: 0.0874 - val_loss: 0.0018 - val_root_mean_squared_error: 0.0421\n",
            "Epoch 71/100\n",
            "7/7 [==============================] - 0s 8ms/step - loss: 0.0073 - root_mean_squared_error: 0.0857 - val_loss: 0.0017 - val_root_mean_squared_error: 0.0417\n",
            "Epoch 72/100\n",
            "7/7 [==============================] - 0s 10ms/step - loss: 0.0075 - root_mean_squared_error: 0.0865 - val_loss: 0.0017 - val_root_mean_squared_error: 0.0412\n",
            "Epoch 73/100\n",
            "7/7 [==============================] - 0s 7ms/step - loss: 0.0073 - root_mean_squared_error: 0.0851 - val_loss: 0.0015 - val_root_mean_squared_error: 0.0391\n",
            "Epoch 74/100\n",
            "7/7 [==============================] - 0s 8ms/step - loss: 0.0074 - root_mean_squared_error: 0.0860 - val_loss: 0.0025 - val_root_mean_squared_error: 0.0496\n",
            "Epoch 75/100\n",
            "7/7 [==============================] - 0s 8ms/step - loss: 0.0075 - root_mean_squared_error: 0.0864 - val_loss: 0.0017 - val_root_mean_squared_error: 0.0407\n",
            "Epoch 76/100\n",
            "7/7 [==============================] - 0s 7ms/step - loss: 0.0072 - root_mean_squared_error: 0.0851 - val_loss: 0.0017 - val_root_mean_squared_error: 0.0416\n",
            "Epoch 77/100\n",
            "7/7 [==============================] - 0s 7ms/step - loss: 0.0073 - root_mean_squared_error: 0.0862 - val_loss: 0.0015 - val_root_mean_squared_error: 0.0381\n",
            "Epoch 78/100\n",
            "7/7 [==============================] - 0s 7ms/step - loss: 0.0074 - root_mean_squared_error: 0.0853 - val_loss: 0.0018 - val_root_mean_squared_error: 0.0425\n",
            "Epoch 79/100\n",
            "7/7 [==============================] - 0s 7ms/step - loss: 0.0072 - root_mean_squared_error: 0.0848 - val_loss: 0.0020 - val_root_mean_squared_error: 0.0445\n",
            "Epoch 80/100\n",
            "7/7 [==============================] - 0s 7ms/step - loss: 0.0072 - root_mean_squared_error: 0.0852 - val_loss: 0.0018 - val_root_mean_squared_error: 0.0425\n",
            "Epoch 81/100\n",
            "7/7 [==============================] - 0s 8ms/step - loss: 0.0071 - root_mean_squared_error: 0.0838 - val_loss: 0.0019 - val_root_mean_squared_error: 0.0437\n",
            "Epoch 82/100\n",
            "7/7 [==============================] - 0s 8ms/step - loss: 0.0072 - root_mean_squared_error: 0.0851 - val_loss: 0.0017 - val_root_mean_squared_error: 0.0410\n",
            "Epoch 83/100\n",
            "7/7 [==============================] - 0s 9ms/step - loss: 0.0073 - root_mean_squared_error: 0.0854 - val_loss: 0.0016 - val_root_mean_squared_error: 0.0400\n",
            "Epoch 84/100\n",
            "7/7 [==============================] - 0s 8ms/step - loss: 0.0072 - root_mean_squared_error: 0.0850 - val_loss: 0.0023 - val_root_mean_squared_error: 0.0478\n",
            "Epoch 85/100\n",
            "7/7 [==============================] - 0s 7ms/step - loss: 0.0071 - root_mean_squared_error: 0.0844 - val_loss: 0.0017 - val_root_mean_squared_error: 0.0409\n",
            "Epoch 86/100\n",
            "7/7 [==============================] - 0s 7ms/step - loss: 0.0070 - root_mean_squared_error: 0.0838 - val_loss: 0.0022 - val_root_mean_squared_error: 0.0464\n",
            "Epoch 87/100\n",
            "7/7 [==============================] - 0s 7ms/step - loss: 0.0070 - root_mean_squared_error: 0.0842 - val_loss: 0.0024 - val_root_mean_squared_error: 0.0487\n",
            "Epoch 88/100\n",
            "7/7 [==============================] - 0s 8ms/step - loss: 0.0072 - root_mean_squared_error: 0.0850 - val_loss: 0.0017 - val_root_mean_squared_error: 0.0409\n",
            "Epoch 89/100\n",
            "7/7 [==============================] - 0s 7ms/step - loss: 0.0071 - root_mean_squared_error: 0.0837 - val_loss: 0.0021 - val_root_mean_squared_error: 0.0456\n",
            "Epoch 90/100\n",
            "7/7 [==============================] - 0s 7ms/step - loss: 0.0072 - root_mean_squared_error: 0.0846 - val_loss: 0.0021 - val_root_mean_squared_error: 0.0460\n",
            "Epoch 91/100\n",
            "7/7 [==============================] - 0s 7ms/step - loss: 0.0071 - root_mean_squared_error: 0.0835 - val_loss: 0.0017 - val_root_mean_squared_error: 0.0412\n",
            "Epoch 92/100\n",
            "7/7 [==============================] - 0s 7ms/step - loss: 0.0068 - root_mean_squared_error: 0.0828 - val_loss: 0.0020 - val_root_mean_squared_error: 0.0443\n",
            "Epoch 93/100\n",
            "7/7 [==============================] - 0s 7ms/step - loss: 0.0071 - root_mean_squared_error: 0.0846 - val_loss: 0.0018 - val_root_mean_squared_error: 0.0427\n",
            "Epoch 94/100\n",
            "7/7 [==============================] - 0s 10ms/step - loss: 0.0069 - root_mean_squared_error: 0.0829 - val_loss: 0.0020 - val_root_mean_squared_error: 0.0452\n",
            "Epoch 95/100\n",
            "7/7 [==============================] - 0s 7ms/step - loss: 0.0068 - root_mean_squared_error: 0.0832 - val_loss: 0.0023 - val_root_mean_squared_error: 0.0475\n",
            "Epoch 96/100\n",
            "7/7 [==============================] - 0s 7ms/step - loss: 0.0070 - root_mean_squared_error: 0.0843 - val_loss: 0.0022 - val_root_mean_squared_error: 0.0466\n",
            "Epoch 97/100\n",
            "7/7 [==============================] - 0s 8ms/step - loss: 0.0068 - root_mean_squared_error: 0.0828 - val_loss: 0.0017 - val_root_mean_squared_error: 0.0416\n",
            "Epoch 98/100\n",
            "7/7 [==============================] - 0s 7ms/step - loss: 0.0068 - root_mean_squared_error: 0.0824 - val_loss: 0.0020 - val_root_mean_squared_error: 0.0447\n",
            "Epoch 99/100\n",
            "7/7 [==============================] - 0s 7ms/step - loss: 0.0070 - root_mean_squared_error: 0.0830 - val_loss: 0.0024 - val_root_mean_squared_error: 0.0488\n",
            "Epoch 100/100\n",
            "7/7 [==============================] - 0s 7ms/step - loss: 0.0067 - root_mean_squared_error: 0.0823 - val_loss: 0.0016 - val_root_mean_squared_error: 0.0403\n"
          ]
        },
        {
          "output_type": "execute_result",
          "data": {
            "text/plain": [
              "<keras.callbacks.History at 0x7fed188379d0>"
            ]
          },
          "metadata": {},
          "execution_count": 23
        }
      ],
      "source": [
        "model2.fit(X_train, y_train, validation_data=(X_val, y_val), epochs=100, callbacks=[cp2])"
      ]
    },
    {
      "cell_type": "code",
      "execution_count": 24,
      "metadata": {
        "colab": {
          "base_uri": "https://localhost:8080/",
          "height": 313
        },
        "id": "uDUtDJRtPKRP",
        "outputId": "91bff328-52fe-4f39-bef8-b8af65765087"
      },
      "outputs": [
        {
          "output_type": "execute_result",
          "data": {
            "text/plain": [
              "<matplotlib.legend.Legend at 0x7fed19dc7850>"
            ]
          },
          "metadata": {},
          "execution_count": 24
        },
        {
          "output_type": "display_data",
          "data": {
            "text/plain": [
              "<Figure size 432x288 with 1 Axes>"
            ],
            "image/png": "[encoded data removed]"
          },
          "metadata": {
            "needs_background": "light"
          }
        }
      ],
      "source": [
        "model2 = load_model('model2/')\n",
        "train_predictions = model2.predict(X_train).flatten()\n",
        "\n",
        "plt.plot(dates_train, train_predictions)\n",
        "plt.plot(dates_train, y_train)\n",
        "plt.xticks(rotation=60)\n",
        "plt.legend(['Training Predictions', 'Training Observations'])"
      ]
    },
    {
      "cell_type": "code",
      "execution_count": 25,
      "metadata": {
        "colab": {
          "base_uri": "https://localhost:8080/"
        },
        "id": "HwkBSIF6h-tk",
        "outputId": "6cf5e496-7540-454a-b573-52409f17f89a"
      },
      "outputs": [
        {
          "output_type": "stream",
          "name": "stdout",
          "text": [
            "Mean Absolute error  0.014035769\n",
            "Mean Squared error  0.00042868743\n",
            "R2 score  0.4267298741074649\n"
          ]
        }
      ],
      "source": [
        "model2 = load_model('model2/')\n",
        "test2_predictions = model2.predict(X_test).flatten()\n",
        "print(\"Mean Absolute error \", mean_absolute_error(  y_test, test2_predictions  ))\n",
        "print(\"Mean Squared error \", mean_squared_error(  y_test, test2_predictions  ))\n",
        "print(\"R2 score \",r2_score(  y_test, test2_predictions  ))"
      ]
    },
    {
      "cell_type": "markdown",
      "source": [
        "# **Model with GRU Layer**"
      ],
      "metadata": {
        "id": "_lHJ1InN8CtF"
      }
    },
    {
      "cell_type": "code",
      "execution_count": 27,
      "metadata": {
        "colab": {
          "base_uri": "https://localhost:8080/"
        },
        "id": "s4H1p1KSSpfh",
        "outputId": "417745d2-cf9e-46be-abc8-69cce47b0f91"
      },
      "outputs": [
        {
          "output_type": "stream",
          "name": "stdout",
          "text": [
            "Model: \"sequential_2\"\n",
            "_________________________________________________________________\n",
            " Layer (type)                Output Shape              Param #   \n",
            "=================================================================\n",
            " gru (GRU)                   (None, 64)                12864     \n",
            "                                                                 \n",
            " dense_6 (Dense)             (None, 32)                2080      \n",
            "                                                                 \n",
            " dense_7 (Dense)             (None, 32)                1056      \n",
            "                                                                 \n",
            " dense_8 (Dense)             (None, 1)                 33        \n",
            "                                                                 \n",
            "=================================================================\n",
            "Total params: 16,033\n",
            "Trainable params: 16,033\n",
            "Non-trainable params: 0\n",
            "_________________________________________________________________\n"
          ]
        }
      ],
      "source": [
        "model3 = Sequential([layers.Input((3, 1)),\n",
        "                    layers.GRU(64),\n",
        "                    layers.Dense(32, activation='relu'),\n",
        "                    layers.Dense(32, activation='relu'),\n",
        "                    layers.Dense(1)])\n",
        "cp3 = ModelCheckpoint('model3/', save_best_only=True)\n",
        "model3.compile(loss=MeanSquaredError(), \n",
        "              optimizer=Adam(learning_rate=0.001),\n",
        "              metrics=[RootMeanSquaredError()])\n",
        "\n",
        "model3.summary()"
      ]
    },
    {
      "cell_type": "code",
      "execution_count": 28,
      "metadata": {
        "colab": {
          "base_uri": "https://localhost:8080/"
        },
        "id": "i0YJGnDGTmNN",
        "outputId": "908368ed-3cf4-48c9-fa32-c34b6d9b488d"
      },
      "outputs": [
        {
          "output_type": "stream",
          "name": "stdout",
          "text": [
            "Epoch 1/100\n",
            "1/7 [===>..........................] - ETA: 11s - loss: 0.7581 - root_mean_squared_error: 0.8707"
          ]
        },
        {
          "output_type": "stream",
          "name": "stderr",
          "text": [
            "WARNING:absl:Found untraced functions such as gru_cell_layer_call_fn, gru_cell_layer_call_and_return_conditional_losses while saving (showing 2 of 2). These functions will not be directly callable after loading.\n",
            "WARNING:absl:<keras.layers.recurrent.GRUCell object at 0x7fed19b05090> has the same name 'GRUCell' as a built-in Keras object. Consider renaming <class 'keras.layers.recurrent.GRUCell'> to avoid naming conflicts when loading with `tf.keras.models.load_model`. If renaming is not possible, pass the object in the `custom_objects` parameter of the load function.\n"
          ]
        },
        {
          "output_type": "stream",
          "name": "stdout",
          "text": [
            "\b\b\b\b\b\b\b\b\b\b\b\b\b\b\b\b\b\b\b\b\b\b\b\b\b\b\b\b\b\b\b\b\b\b\b\b\b\b\b\b\b\b\b\b\b\b\b\b\b\b\b\b\b\b\b\b\b\b\b\b\b\b\b\b\b\b\b\b\b\b\b\b\b\b\b\b\b\b\b\b\b\b\b\b\b\b\b\b\b\b\b\b\b\b\b\b\r7/7 [==============================] - 6s 634ms/step - loss: 0.6786 - root_mean_squared_error: 0.8238 - val_loss: 0.6666 - val_root_mean_squared_error: 0.8164\n",
            "Epoch 2/100\n",
            "1/7 [===>..........................] - ETA: 0s - loss: 0.5630 - root_mean_squared_error: 0.7503"
          ]
        },
        {
          "output_type": "stream",
          "name": "stderr",
          "text": [
            "WARNING:absl:Found untraced functions such as gru_cell_layer_call_fn, gru_cell_layer_call_and_return_conditional_losses while saving (showing 2 of 2). These functions will not be directly callable after loading.\n",
            "WARNING:absl:<keras.layers.recurrent.GRUCell object at 0x7fed19b05090> has the same name 'GRUCell' as a built-in Keras object. Consider renaming <class 'keras.layers.recurrent.GRUCell'> to avoid naming conflicts when loading with `tf.keras.models.load_model`. If renaming is not possible, pass the object in the `custom_objects` parameter of the load function.\n"
          ]
        },
        {
          "output_type": "stream",
          "name": "stdout",
          "text": [
            "\b\b\b\b\b\b\b\b\b\b\b\b\b\b\b\b\b\b\b\b\b\b\b\b\b\b\b\b\b\b\b\b\b\b\b\b\b\b\b\b\b\b\b\b\b\b\b\b\b\b\b\b\b\b\b\b\b\b\b\b\b\b\b\b\b\b\b\b\b\b\b\b\b\b\b\b\b\b\b\b\b\b\b\b\b\b\b\b\b\b\b\b\b\b\b\r7/7 [==============================] - 3s 558ms/step - loss: 0.4953 - root_mean_squared_error: 0.7038 - val_loss: 0.4261 - val_root_mean_squared_error: 0.6528\n",
            "Epoch 3/100\n",
            "1/7 [===>..........................] - ETA: 0s - loss: 0.3614 - root_mean_squared_error: 0.6011"
          ]
        },
        {
          "output_type": "stream",
          "name": "stderr",
          "text": [
            "WARNING:absl:Found untraced functions such as gru_cell_layer_call_fn, gru_cell_layer_call_and_return_conditional_losses while saving (showing 2 of 2). These functions will not be directly callable after loading.\n",
            "WARNING:absl:<keras.layers.recurrent.GRUCell object at 0x7fed19b05090> has the same name 'GRUCell' as a built-in Keras object. Consider renaming <class 'keras.layers.recurrent.GRUCell'> to avoid naming conflicts when loading with `tf.keras.models.load_model`. If renaming is not possible, pass the object in the `custom_objects` parameter of the load function.\n"
          ]
        },
        {
          "output_type": "stream",
          "name": "stdout",
          "text": [
            "\b\b\b\b\b\b\b\b\b\b\b\b\b\b\b\b\b\b\b\b\b\b\b\b\b\b\b\b\b\b\b\b\b\b\b\b\b\b\b\b\b\b\b\b\b\b\b\b\b\b\b\b\b\b\b\b\b\b\b\b\b\b\b\b\b\b\b\b\b\b\b\b\b\b\b\b\b\b\b\b\b\b\b\b\b\b\b\b\b\b\b\b\b\b\b\r7/7 [==============================] - 4s 610ms/step - loss: 0.2685 - root_mean_squared_error: 0.5182 - val_loss: 0.1486 - val_root_mean_squared_error: 0.3855\n",
            "Epoch 4/100\n",
            "1/7 [===>..........................] - ETA: 0s - loss: 0.1158 - root_mean_squared_error: 0.3403"
          ]
        },
        {
          "output_type": "stream",
          "name": "stderr",
          "text": [
            "WARNING:absl:Found untraced functions such as gru_cell_layer_call_fn, gru_cell_layer_call_and_return_conditional_losses while saving (showing 2 of 2). These functions will not be directly callable after loading.\n",
            "WARNING:absl:<keras.layers.recurrent.GRUCell object at 0x7fed19b05090> has the same name 'GRUCell' as a built-in Keras object. Consider renaming <class 'keras.layers.recurrent.GRUCell'> to avoid naming conflicts when loading with `tf.keras.models.load_model`. If renaming is not possible, pass the object in the `custom_objects` parameter of the load function.\n"
          ]
        },
        {
          "output_type": "stream",
          "name": "stdout",
          "text": [
            "\b\b\b\b\b\b\b\b\b\b\b\b\b\b\b\b\b\b\b\b\b\b\b\b\b\b\b\b\b\b\b\b\b\b\b\b\b\b\b\b\b\b\b\b\b\b\b\b\b\b\b\b\b\b\b\b\b\b\b\b\b\b\b\b\b\b\b\b\b\b\b\b\b\b\b\b\b\b\b\b\b\b\b\b\b\b\b\b\b\b\b\b\b\b\b\r7/7 [==============================] - 3s 552ms/step - loss: 0.0577 - root_mean_squared_error: 0.2402 - val_loss: 7.5437e-04 - val_root_mean_squared_error: 0.0275\n",
            "Epoch 5/100\n",
            "7/7 [==============================] - 0s 7ms/step - loss: 0.0147 - root_mean_squared_error: 0.1210 - val_loss: 0.0296 - val_root_mean_squared_error: 0.1719\n",
            "Epoch 6/100\n",
            "1/7 [===>..........................] - ETA: 0s - loss: 0.0326 - root_mean_squared_error: 0.1805"
          ]
        },
        {
          "output_type": "stream",
          "name": "stderr",
          "text": [
            "WARNING:absl:Found untraced functions such as gru_cell_layer_call_fn, gru_cell_layer_call_and_return_conditional_losses while saving (showing 2 of 2). These functions will not be directly callable after loading.\n",
            "WARNING:absl:<keras.layers.recurrent.GRUCell object at 0x7fed19b05090> has the same name 'GRUCell' as a built-in Keras object. Consider renaming <class 'keras.layers.recurrent.GRUCell'> to avoid naming conflicts when loading with `tf.keras.models.load_model`. If renaming is not possible, pass the object in the `custom_objects` parameter of the load function.\n"
          ]
        },
        {
          "output_type": "stream",
          "name": "stdout",
          "text": [
            "\b\b\b\b\b\b\b\b\b\b\b\b\b\b\b\b\b\b\b\b\b\b\b\b\b\b\b\b\b\b\b\b\b\b\b\b\b\b\b\b\b\b\b\b\b\b\b\b\b\b\b\b\b\b\b\b\b\b\b\b\b\b\b\b\b\b\b\b\b\b\b\b\b\b\b\b\b\b\b\b\b\b\b\b\b\b\b\b\b\b\b\b\b\b\b\r7/7 [==============================] - 4s 615ms/step - loss: 0.0211 - root_mean_squared_error: 0.1454 - val_loss: 5.3757e-04 - val_root_mean_squared_error: 0.0232\n",
            "Epoch 7/100\n",
            "7/7 [==============================] - 0s 7ms/step - loss: 0.0025 - root_mean_squared_error: 0.0498 - val_loss: 0.0106 - val_root_mean_squared_error: 0.1030\n",
            "Epoch 8/100\n",
            "7/7 [==============================] - 0s 7ms/step - loss: 0.0061 - root_mean_squared_error: 0.0783 - val_loss: 0.0051 - val_root_mean_squared_error: 0.0714\n",
            "Epoch 9/100\n",
            "1/7 [===>..........................] - ETA: 0s - loss: 0.0026 - root_mean_squared_error: 0.0512"
          ]
        },
        {
          "output_type": "stream",
          "name": "stderr",
          "text": [
            "WARNING:absl:Found untraced functions such as gru_cell_layer_call_fn, gru_cell_layer_call_and_return_conditional_losses while saving (showing 2 of 2). These functions will not be directly callable after loading.\n",
            "WARNING:absl:<keras.layers.recurrent.GRUCell object at 0x7fed19b05090> has the same name 'GRUCell' as a built-in Keras object. Consider renaming <class 'keras.layers.recurrent.GRUCell'> to avoid naming conflicts when loading with `tf.keras.models.load_model`. If renaming is not possible, pass the object in the `custom_objects` parameter of the load function.\n"
          ]
        },
        {
          "output_type": "stream",
          "name": "stdout",
          "text": [
            "\b\b\b\b\b\b\b\b\b\b\b\b\b\b\b\b\b\b\b\b\b\b\b\b\b\b\b\b\b\b\b\b\b\b\b\b\b\b\b\b\b\b\b\b\b\b\b\b\b\b\b\b\b\b\b\b\b\b\b\b\b\b\b\b\b\b\b\b\b\b\b\b\b\b\b\b\b\b\b\b\b\b\b\b\b\b\b\b\b\b\b\b\b\b\b\r7/7 [==============================] - 3s 546ms/step - loss: 0.0014 - root_mean_squared_error: 0.0377 - val_loss: 3.1698e-04 - val_root_mean_squared_error: 0.0178\n",
            "Epoch 10/100\n",
            "7/7 [==============================] - 0s 7ms/step - loss: 0.0017 - root_mean_squared_error: 0.0410 - val_loss: 3.8536e-04 - val_root_mean_squared_error: 0.0196\n",
            "Epoch 11/100\n",
            "7/7 [==============================] - 0s 7ms/step - loss: 0.0012 - root_mean_squared_error: 0.0346 - val_loss: 9.3664e-04 - val_root_mean_squared_error: 0.0306\n",
            "Epoch 12/100\n",
            "7/7 [==============================] - 0s 7ms/step - loss: 9.2016e-04 - root_mean_squared_error: 0.0303 - val_loss: 0.0015 - val_root_mean_squared_error: 0.0393\n",
            "Epoch 13/100\n",
            "7/7 [==============================] - 0s 7ms/step - loss: 8.5648e-04 - root_mean_squared_error: 0.0293 - val_loss: 7.4040e-04 - val_root_mean_squared_error: 0.0272\n",
            "Epoch 14/100\n",
            "7/7 [==============================] - 0s 7ms/step - loss: 8.0908e-04 - root_mean_squared_error: 0.0284 - val_loss: 4.6464e-04 - val_root_mean_squared_error: 0.0216\n",
            "Epoch 15/100\n",
            "7/7 [==============================] - 0s 7ms/step - loss: 8.2875e-04 - root_mean_squared_error: 0.0288 - val_loss: 5.9975e-04 - val_root_mean_squared_error: 0.0245\n",
            "Epoch 16/100\n",
            "7/7 [==============================] - 0s 7ms/step - loss: 7.7177e-04 - root_mean_squared_error: 0.0278 - val_loss: 8.4228e-04 - val_root_mean_squared_error: 0.0290\n",
            "Epoch 17/100\n",
            "7/7 [==============================] - 0s 7ms/step - loss: 7.6792e-04 - root_mean_squared_error: 0.0277 - val_loss: 8.5361e-04 - val_root_mean_squared_error: 0.0292\n",
            "Epoch 18/100\n",
            "7/7 [==============================] - 0s 7ms/step - loss: 7.6703e-04 - root_mean_squared_error: 0.0277 - val_loss: 6.3337e-04 - val_root_mean_squared_error: 0.0252\n",
            "Epoch 19/100\n",
            "7/7 [==============================] - 0s 7ms/step - loss: 7.4757e-04 - root_mean_squared_error: 0.0273 - val_loss: 7.8975e-04 - val_root_mean_squared_error: 0.0281\n",
            "Epoch 20/100\n",
            "7/7 [==============================] - 0s 7ms/step - loss: 7.4657e-04 - root_mean_squared_error: 0.0273 - val_loss: 8.6237e-04 - val_root_mean_squared_error: 0.0294\n",
            "Epoch 21/100\n",
            "7/7 [==============================] - 0s 7ms/step - loss: 7.3950e-04 - root_mean_squared_error: 0.0272 - val_loss: 6.0515e-04 - val_root_mean_squared_error: 0.0246\n",
            "Epoch 22/100\n",
            "7/7 [==============================] - 0s 7ms/step - loss: 7.4336e-04 - root_mean_squared_error: 0.0273 - val_loss: 6.7712e-04 - val_root_mean_squared_error: 0.0260\n",
            "Epoch 23/100\n",
            "7/7 [==============================] - 0s 7ms/step - loss: 7.2720e-04 - root_mean_squared_error: 0.0270 - val_loss: 8.6208e-04 - val_root_mean_squared_error: 0.0294\n",
            "Epoch 24/100\n",
            "7/7 [==============================] - 0s 7ms/step - loss: 7.2707e-04 - root_mean_squared_error: 0.0270 - val_loss: 7.6512e-04 - val_root_mean_squared_error: 0.0277\n",
            "Epoch 25/100\n",
            "7/7 [==============================] - 0s 7ms/step - loss: 7.1410e-04 - root_mean_squared_error: 0.0267 - val_loss: 5.8650e-04 - val_root_mean_squared_error: 0.0242\n",
            "Epoch 26/100\n",
            "7/7 [==============================] - 0s 7ms/step - loss: 7.2033e-04 - root_mean_squared_error: 0.0268 - val_loss: 6.1989e-04 - val_root_mean_squared_error: 0.0249\n",
            "Epoch 27/100\n",
            "7/7 [==============================] - 0s 7ms/step - loss: 7.0323e-04 - root_mean_squared_error: 0.0265 - val_loss: 7.6262e-04 - val_root_mean_squared_error: 0.0276\n",
            "Epoch 28/100\n",
            "7/7 [==============================] - 0s 7ms/step - loss: 7.0174e-04 - root_mean_squared_error: 0.0265 - val_loss: 7.8590e-04 - val_root_mean_squared_error: 0.0280\n",
            "Epoch 29/100\n",
            "7/7 [==============================] - 0s 7ms/step - loss: 6.9179e-04 - root_mean_squared_error: 0.0263 - val_loss: 6.7119e-04 - val_root_mean_squared_error: 0.0259\n",
            "Epoch 30/100\n",
            "7/7 [==============================] - 0s 7ms/step - loss: 7.0946e-04 - root_mean_squared_error: 0.0266 - val_loss: 6.1825e-04 - val_root_mean_squared_error: 0.0249\n",
            "Epoch 31/100\n",
            "7/7 [==============================] - 0s 7ms/step - loss: 6.8400e-04 - root_mean_squared_error: 0.0262 - val_loss: 8.7033e-04 - val_root_mean_squared_error: 0.0295\n",
            "Epoch 32/100\n",
            "7/7 [==============================] - 0s 7ms/step - loss: 6.8456e-04 - root_mean_squared_error: 0.0262 - val_loss: 5.8606e-04 - val_root_mean_squared_error: 0.0242\n",
            "Epoch 33/100\n",
            "7/7 [==============================] - 0s 7ms/step - loss: 6.6561e-04 - root_mean_squared_error: 0.0258 - val_loss: 6.9461e-04 - val_root_mean_squared_error: 0.0264\n",
            "Epoch 34/100\n",
            "7/7 [==============================] - 0s 7ms/step - loss: 6.5786e-04 - root_mean_squared_error: 0.0256 - val_loss: 6.5638e-04 - val_root_mean_squared_error: 0.0256\n",
            "Epoch 35/100\n",
            "7/7 [==============================] - 0s 7ms/step - loss: 6.5039e-04 - root_mean_squared_error: 0.0255 - val_loss: 7.7264e-04 - val_root_mean_squared_error: 0.0278\n",
            "Epoch 36/100\n",
            "7/7 [==============================] - 0s 8ms/step - loss: 6.5048e-04 - root_mean_squared_error: 0.0255 - val_loss: 6.5637e-04 - val_root_mean_squared_error: 0.0256\n",
            "Epoch 37/100\n",
            "7/7 [==============================] - 0s 7ms/step - loss: 6.4462e-04 - root_mean_squared_error: 0.0254 - val_loss: 5.2607e-04 - val_root_mean_squared_error: 0.0229\n",
            "Epoch 38/100\n",
            "7/7 [==============================] - 0s 7ms/step - loss: 6.3964e-04 - root_mean_squared_error: 0.0253 - val_loss: 6.5248e-04 - val_root_mean_squared_error: 0.0255\n",
            "Epoch 39/100\n",
            "7/7 [==============================] - 0s 7ms/step - loss: 6.2251e-04 - root_mean_squared_error: 0.0250 - val_loss: 6.3289e-04 - val_root_mean_squared_error: 0.0252\n",
            "Epoch 40/100\n",
            "7/7 [==============================] - 0s 7ms/step - loss: 6.1631e-04 - root_mean_squared_error: 0.0248 - val_loss: 6.2540e-04 - val_root_mean_squared_error: 0.0250\n",
            "Epoch 41/100\n",
            "7/7 [==============================] - 0s 8ms/step - loss: 6.1061e-04 - root_mean_squared_error: 0.0247 - val_loss: 5.4146e-04 - val_root_mean_squared_error: 0.0233\n",
            "Epoch 42/100\n",
            "7/7 [==============================] - 0s 7ms/step - loss: 6.0339e-04 - root_mean_squared_error: 0.0246 - val_loss: 6.5826e-04 - val_root_mean_squared_error: 0.0257\n",
            "Epoch 43/100\n",
            "7/7 [==============================] - 0s 8ms/step - loss: 5.9551e-04 - root_mean_squared_error: 0.0244 - val_loss: 6.2197e-04 - val_root_mean_squared_error: 0.0249\n",
            "Epoch 44/100\n",
            "7/7 [==============================] - 0s 7ms/step - loss: 5.8733e-04 - root_mean_squared_error: 0.0242 - val_loss: 5.5712e-04 - val_root_mean_squared_error: 0.0236\n",
            "Epoch 45/100\n",
            "7/7 [==============================] - 0s 7ms/step - loss: 5.8101e-04 - root_mean_squared_error: 0.0241 - val_loss: 5.7459e-04 - val_root_mean_squared_error: 0.0240\n",
            "Epoch 46/100\n",
            "7/7 [==============================] - 0s 7ms/step - loss: 5.8023e-04 - root_mean_squared_error: 0.0241 - val_loss: 6.5473e-04 - val_root_mean_squared_error: 0.0256\n",
            "Epoch 47/100\n",
            "7/7 [==============================] - 0s 11ms/step - loss: 6.3166e-04 - root_mean_squared_error: 0.0251 - val_loss: 7.9987e-04 - val_root_mean_squared_error: 0.0283\n",
            "Epoch 48/100\n",
            "7/7 [==============================] - 0s 7ms/step - loss: 5.6544e-04 - root_mean_squared_error: 0.0238 - val_loss: 4.6630e-04 - val_root_mean_squared_error: 0.0216\n",
            "Epoch 49/100\n",
            "7/7 [==============================] - 0s 8ms/step - loss: 5.6315e-04 - root_mean_squared_error: 0.0237 - val_loss: 6.0836e-04 - val_root_mean_squared_error: 0.0247\n",
            "Epoch 50/100\n",
            "7/7 [==============================] - 0s 8ms/step - loss: 5.5349e-04 - root_mean_squared_error: 0.0235 - val_loss: 7.1953e-04 - val_root_mean_squared_error: 0.0268\n",
            "Epoch 51/100\n",
            "7/7 [==============================] - 0s 8ms/step - loss: 5.4553e-04 - root_mean_squared_error: 0.0234 - val_loss: 5.0001e-04 - val_root_mean_squared_error: 0.0224\n",
            "Epoch 52/100\n",
            "7/7 [==============================] - 0s 11ms/step - loss: 5.5453e-04 - root_mean_squared_error: 0.0235 - val_loss: 4.5649e-04 - val_root_mean_squared_error: 0.0214\n",
            "Epoch 53/100\n",
            "7/7 [==============================] - 0s 7ms/step - loss: 5.2653e-04 - root_mean_squared_error: 0.0229 - val_loss: 6.1228e-04 - val_root_mean_squared_error: 0.0247\n",
            "Epoch 54/100\n",
            "7/7 [==============================] - 0s 7ms/step - loss: 5.1935e-04 - root_mean_squared_error: 0.0228 - val_loss: 5.1911e-04 - val_root_mean_squared_error: 0.0228\n",
            "Epoch 55/100\n",
            "7/7 [==============================] - 0s 7ms/step - loss: 5.3411e-04 - root_mean_squared_error: 0.0231 - val_loss: 4.3602e-04 - val_root_mean_squared_error: 0.0209\n",
            "Epoch 56/100\n",
            "7/7 [==============================] - 0s 11ms/step - loss: 5.2450e-04 - root_mean_squared_error: 0.0229 - val_loss: 6.1717e-04 - val_root_mean_squared_error: 0.0248\n",
            "Epoch 57/100\n",
            "7/7 [==============================] - 0s 9ms/step - loss: 4.9781e-04 - root_mean_squared_error: 0.0223 - val_loss: 3.9924e-04 - val_root_mean_squared_error: 0.0200\n",
            "Epoch 58/100\n",
            "7/7 [==============================] - 0s 8ms/step - loss: 4.9424e-04 - root_mean_squared_error: 0.0222 - val_loss: 6.6201e-04 - val_root_mean_squared_error: 0.0257\n",
            "Epoch 59/100\n",
            "7/7 [==============================] - 0s 7ms/step - loss: 5.4370e-04 - root_mean_squared_error: 0.0233 - val_loss: 6.1202e-04 - val_root_mean_squared_error: 0.0247\n",
            "Epoch 60/100\n",
            "7/7 [==============================] - 0s 7ms/step - loss: 4.6636e-04 - root_mean_squared_error: 0.0216 - val_loss: 3.9716e-04 - val_root_mean_squared_error: 0.0199\n",
            "Epoch 61/100\n",
            "7/7 [==============================] - 0s 7ms/step - loss: 4.9601e-04 - root_mean_squared_error: 0.0223 - val_loss: 5.0336e-04 - val_root_mean_squared_error: 0.0224\n",
            "Epoch 62/100\n",
            "7/7 [==============================] - 0s 7ms/step - loss: 4.7089e-04 - root_mean_squared_error: 0.0217 - val_loss: 5.6324e-04 - val_root_mean_squared_error: 0.0237\n",
            "Epoch 63/100\n",
            "7/7 [==============================] - 0s 7ms/step - loss: 4.5725e-04 - root_mean_squared_error: 0.0214 - val_loss: 4.5916e-04 - val_root_mean_squared_error: 0.0214\n",
            "Epoch 64/100\n",
            "7/7 [==============================] - 0s 7ms/step - loss: 4.6050e-04 - root_mean_squared_error: 0.0215 - val_loss: 4.0105e-04 - val_root_mean_squared_error: 0.0200\n",
            "Epoch 65/100\n",
            "7/7 [==============================] - 0s 7ms/step - loss: 4.4548e-04 - root_mean_squared_error: 0.0211 - val_loss: 5.2235e-04 - val_root_mean_squared_error: 0.0229\n",
            "Epoch 66/100\n",
            "7/7 [==============================] - 0s 8ms/step - loss: 4.4316e-04 - root_mean_squared_error: 0.0211 - val_loss: 4.8520e-04 - val_root_mean_squared_error: 0.0220\n",
            "Epoch 67/100\n",
            "7/7 [==============================] - 0s 7ms/step - loss: 4.5407e-04 - root_mean_squared_error: 0.0213 - val_loss: 3.9484e-04 - val_root_mean_squared_error: 0.0199\n",
            "Epoch 68/100\n",
            "7/7 [==============================] - 0s 7ms/step - loss: 4.3555e-04 - root_mean_squared_error: 0.0209 - val_loss: 5.6164e-04 - val_root_mean_squared_error: 0.0237\n",
            "Epoch 69/100\n",
            "7/7 [==============================] - 0s 7ms/step - loss: 4.2447e-04 - root_mean_squared_error: 0.0206 - val_loss: 4.6324e-04 - val_root_mean_squared_error: 0.0215\n",
            "Epoch 70/100\n",
            "7/7 [==============================] - 0s 7ms/step - loss: 4.0733e-04 - root_mean_squared_error: 0.0202 - val_loss: 4.5242e-04 - val_root_mean_squared_error: 0.0213\n",
            "Epoch 71/100\n",
            "7/7 [==============================] - 0s 7ms/step - loss: 3.9998e-04 - root_mean_squared_error: 0.0200 - val_loss: 5.0190e-04 - val_root_mean_squared_error: 0.0224\n",
            "Epoch 72/100\n",
            "7/7 [==============================] - 0s 7ms/step - loss: 4.0441e-04 - root_mean_squared_error: 0.0201 - val_loss: 4.0466e-04 - val_root_mean_squared_error: 0.0201\n",
            "Epoch 73/100\n",
            "7/7 [==============================] - 0s 8ms/step - loss: 4.1659e-04 - root_mean_squared_error: 0.0204 - val_loss: 3.7457e-04 - val_root_mean_squared_error: 0.0194\n",
            "Epoch 74/100\n",
            "7/7 [==============================] - 0s 10ms/step - loss: 3.8135e-04 - root_mean_squared_error: 0.0195 - val_loss: 5.0880e-04 - val_root_mean_squared_error: 0.0226\n",
            "Epoch 75/100\n",
            "7/7 [==============================] - 0s 8ms/step - loss: 3.7219e-04 - root_mean_squared_error: 0.0193 - val_loss: 3.9175e-04 - val_root_mean_squared_error: 0.0198\n",
            "Epoch 76/100\n",
            "7/7 [==============================] - 0s 7ms/step - loss: 3.6863e-04 - root_mean_squared_error: 0.0192 - val_loss: 4.2753e-04 - val_root_mean_squared_error: 0.0207\n",
            "Epoch 77/100\n",
            "7/7 [==============================] - 0s 7ms/step - loss: 3.6397e-04 - root_mean_squared_error: 0.0191 - val_loss: 4.0962e-04 - val_root_mean_squared_error: 0.0202\n",
            "Epoch 78/100\n",
            "7/7 [==============================] - 0s 7ms/step - loss: 3.5434e-04 - root_mean_squared_error: 0.0188 - val_loss: 4.5923e-04 - val_root_mean_squared_error: 0.0214\n",
            "Epoch 79/100\n",
            "7/7 [==============================] - 0s 7ms/step - loss: 3.5533e-04 - root_mean_squared_error: 0.0189 - val_loss: 4.5502e-04 - val_root_mean_squared_error: 0.0213\n",
            "Epoch 80/100\n",
            "7/7 [==============================] - 0s 7ms/step - loss: 3.4598e-04 - root_mean_squared_error: 0.0186 - val_loss: 4.5358e-04 - val_root_mean_squared_error: 0.0213\n",
            "Epoch 81/100\n",
            "7/7 [==============================] - 0s 7ms/step - loss: 3.4831e-04 - root_mean_squared_error: 0.0187 - val_loss: 4.2654e-04 - val_root_mean_squared_error: 0.0207\n",
            "Epoch 82/100\n",
            "7/7 [==============================] - 0s 7ms/step - loss: 3.2984e-04 - root_mean_squared_error: 0.0182 - val_loss: 3.3439e-04 - val_root_mean_squared_error: 0.0183\n",
            "Epoch 83/100\n",
            "7/7 [==============================] - 0s 7ms/step - loss: 3.2584e-04 - root_mean_squared_error: 0.0181 - val_loss: 4.7649e-04 - val_root_mean_squared_error: 0.0218\n",
            "Epoch 84/100\n",
            "7/7 [==============================] - 0s 8ms/step - loss: 3.2186e-04 - root_mean_squared_error: 0.0179 - val_loss: 3.7315e-04 - val_root_mean_squared_error: 0.0193\n",
            "Epoch 85/100\n",
            "7/7 [==============================] - 0s 7ms/step - loss: 3.1611e-04 - root_mean_squared_error: 0.0178 - val_loss: 4.0297e-04 - val_root_mean_squared_error: 0.0201\n",
            "Epoch 86/100\n",
            "7/7 [==============================] - 0s 7ms/step - loss: 3.0608e-04 - root_mean_squared_error: 0.0175 - val_loss: 3.8230e-04 - val_root_mean_squared_error: 0.0196\n",
            "Epoch 87/100\n",
            "7/7 [==============================] - 0s 7ms/step - loss: 3.0769e-04 - root_mean_squared_error: 0.0175 - val_loss: 4.1224e-04 - val_root_mean_squared_error: 0.0203\n",
            "Epoch 88/100\n",
            "7/7 [==============================] - 0s 7ms/step - loss: 3.1068e-04 - root_mean_squared_error: 0.0176 - val_loss: 3.5237e-04 - val_root_mean_squared_error: 0.0188\n",
            "Epoch 89/100\n",
            "7/7 [==============================] - 0s 7ms/step - loss: 2.9783e-04 - root_mean_squared_error: 0.0173 - val_loss: 3.6012e-04 - val_root_mean_squared_error: 0.0190\n",
            "Epoch 90/100\n",
            "7/7 [==============================] - 0s 8ms/step - loss: 2.8555e-04 - root_mean_squared_error: 0.0169 - val_loss: 4.2614e-04 - val_root_mean_squared_error: 0.0206\n",
            "Epoch 91/100\n",
            "7/7 [==============================] - 0s 9ms/step - loss: 2.8558e-04 - root_mean_squared_error: 0.0169 - val_loss: 3.2719e-04 - val_root_mean_squared_error: 0.0181\n",
            "Epoch 92/100\n",
            "7/7 [==============================] - 0s 7ms/step - loss: 2.8071e-04 - root_mean_squared_error: 0.0168 - val_loss: 4.4452e-04 - val_root_mean_squared_error: 0.0211\n",
            "Epoch 93/100\n",
            "7/7 [==============================] - 0s 7ms/step - loss: 2.8135e-04 - root_mean_squared_error: 0.0168 - val_loss: 3.2200e-04 - val_root_mean_squared_error: 0.0179\n",
            "Epoch 94/100\n",
            "7/7 [==============================] - 0s 8ms/step - loss: 2.9324e-04 - root_mean_squared_error: 0.0171 - val_loss: 3.7187e-04 - val_root_mean_squared_error: 0.0193\n",
            "Epoch 95/100\n",
            "7/7 [==============================] - 0s 7ms/step - loss: 2.7766e-04 - root_mean_squared_error: 0.0167 - val_loss: 3.4805e-04 - val_root_mean_squared_error: 0.0187\n",
            "Epoch 96/100\n",
            "7/7 [==============================] - 0s 7ms/step - loss: 2.8488e-04 - root_mean_squared_error: 0.0169 - val_loss: 3.4294e-04 - val_root_mean_squared_error: 0.0185\n",
            "Epoch 97/100\n",
            "7/7 [==============================] - 0s 8ms/step - loss: 2.7571e-04 - root_mean_squared_error: 0.0166 - val_loss: 3.6042e-04 - val_root_mean_squared_error: 0.0190\n",
            "Epoch 98/100\n",
            "7/7 [==============================] - 0s 7ms/step - loss: 2.5863e-04 - root_mean_squared_error: 0.0161 - val_loss: 3.1856e-04 - val_root_mean_squared_error: 0.0178\n",
            "Epoch 99/100\n",
            "7/7 [==============================] - 0s 7ms/step - loss: 2.5062e-04 - root_mean_squared_error: 0.0158 - val_loss: 3.5481e-04 - val_root_mean_squared_error: 0.0188\n",
            "Epoch 100/100\n",
            "7/7 [==============================] - 0s 7ms/step - loss: 2.3683e-04 - root_mean_squared_error: 0.0154 - val_loss: 3.5141e-04 - val_root_mean_squared_error: 0.0187\n"
          ]
        },
        {
          "output_type": "execute_result",
          "data": {
            "text/plain": [
              "<keras.callbacks.History at 0x7fed19a62f90>"
            ]
          },
          "metadata": {},
          "execution_count": 28
        }
      ],
      "source": [
        "model3.fit(X_train, y_train, validation_data=(X_val, y_val), epochs=100, callbacks=[cp3])"
      ]
    },
    {
      "cell_type": "code",
      "execution_count": 29,
      "metadata": {
        "colab": {
          "base_uri": "https://localhost:8080/",
          "height": 313
        },
        "id": "fELSQB4lUMR7",
        "outputId": "bdb33be2-e938-4543-c9f4-f317fe5ccd8d"
      },
      "outputs": [
        {
          "output_type": "execute_result",
          "data": {
            "text/plain": [
              "<matplotlib.legend.Legend at 0x7fed1b8f7f90>"
            ]
          },
          "metadata": {},
          "execution_count": 29
        },
        {
          "output_type": "display_data",
          "data": {
            "text/plain": [
              "<Figure size 432x288 with 1 Axes>"
            ],
            "image/png": "[encoded data removed]"
          },
          "metadata": {
            "needs_background": "light"
          }
        }
      ],
      "source": [
        "model3 = load_model('model3/')\n",
        "train_predictions = model3.predict(X_train).flatten()\n",
        "\n",
        "plt.plot(dates_train, train_predictions)\n",
        "plt.plot(dates_train, y_train)\n",
        "plt.xticks(rotation=60)\n",
        "plt.legend(['Training Predictions', 'Training Observations'])"
      ]
    },
    {
      "cell_type": "code",
      "execution_count": 30,
      "metadata": {
        "colab": {
          "base_uri": "https://localhost:8080/"
        },
        "id": "EIzi5WODiJvI",
        "outputId": "4f298715-693f-4ef2-97be-f29f1bf715fc"
      },
      "outputs": [
        {
          "output_type": "stream",
          "name": "stdout",
          "text": [
            "Mean Absolute error  0.016943524\n",
            "Mean Squared error  0.0006021668\n",
            "R2 score  0.19474146414329085\n"
          ]
        }
      ],
      "source": [
        "model3 = load_model('model3/')\n",
        "test3_predictions = model3.predict(X_test).flatten()\n",
        "print(\"Mean Absolute error \", mean_absolute_error(  y_test, test3_predictions  ))\n",
        "print(\"Mean Squared error \", mean_squared_error(  y_test, test3_predictions  ))\n",
        "print(\"R2 score \",r2_score(  y_test, test3_predictions  ))"
      ]
    },
    {
      "cell_type": "markdown",
      "source": [
        "# **Model with Bidirectional-LSTM Layers**"
      ],
      "metadata": {
        "id": "fIPsLQtE9HIH"
      }
    },
    {
      "cell_type": "code",
      "execution_count": 31,
      "metadata": {
        "colab": {
          "base_uri": "https://localhost:8080/"
        },
        "id": "SwpWr7q4UrV-",
        "outputId": "f79716c3-2c48-46c1-f868-9dcd6128b71e"
      },
      "outputs": [
        {
          "output_type": "stream",
          "name": "stdout",
          "text": [
            "Model: \"sequential_3\"\n",
            "_________________________________________________________________\n",
            " Layer (type)                Output Shape              Param #   \n",
            "=================================================================\n",
            " bidirectional (Bidirectiona  (None, 3, 128)           33792     \n",
            " l)                                                              \n",
            "                                                                 \n",
            " bidirectional_1 (Bidirectio  (None, 64)               41216     \n",
            " nal)                                                            \n",
            "                                                                 \n",
            " dense_9 (Dense)             (None, 1)                 65        \n",
            "                                                                 \n",
            "=================================================================\n",
            "Total params: 75,073\n",
            "Trainable params: 75,073\n",
            "Non-trainable params: 0\n",
            "_________________________________________________________________\n"
          ]
        }
      ],
      "source": [
        "import tensorflow as tf\n",
        "\n",
        "model4 = Sequential([\n",
        "               layers.Input((3, 1)),\n",
        "               layers.Bidirectional( tf.keras.layers.LSTM(64, return_sequences=True)),\n",
        "              layers.Bidirectional( tf.keras.layers.LSTM(32)),\n",
        "              layers.Dense(1),\n",
        "            ])\n",
        "cp4 = ModelCheckpoint('model4/', save_best_only=True)\n",
        "model4.compile(loss=MeanSquaredError(), \n",
        "              optimizer=Adam(learning_rate=0.001),\n",
        "              metrics=[RootMeanSquaredError()])\n",
        "\n",
        "model4.summary()"
      ]
    },
    {
      "cell_type": "code",
      "execution_count": 32,
      "metadata": {
        "colab": {
          "base_uri": "https://localhost:8080/"
        },
        "id": "mA_p8xb5XNtL",
        "outputId": "56dad4a2-8822-4ecd-bd30-d21e06417788"
      },
      "outputs": [
        {
          "output_type": "stream",
          "name": "stdout",
          "text": [
            "Epoch 1/100\n",
            "7/7 [==============================] - ETA: 0s - loss: 0.6277 - root_mean_squared_error: 0.7923 "
          ]
        },
        {
          "output_type": "stream",
          "name": "stderr",
          "text": [
            "WARNING:absl:Found untraced functions such as lstm_cell_3_layer_call_fn, lstm_cell_3_layer_call_and_return_conditional_losses, lstm_cell_4_layer_call_fn, lstm_cell_4_layer_call_and_return_conditional_losses, lstm_cell_6_layer_call_fn while saving (showing 5 of 8). These functions will not be directly callable after loading.\n",
            "WARNING:absl:<keras.layers.recurrent.LSTMCell object at 0x7fec662fdf10> has the same name 'LSTMCell' as a built-in Keras object. Consider renaming <class 'keras.layers.recurrent.LSTMCell'> to avoid naming conflicts when loading with `tf.keras.models.load_model`. If renaming is not possible, pass the object in the `custom_objects` parameter of the load function.\n",
            "WARNING:absl:<keras.layers.recurrent.LSTMCell object at 0x7fed18439090> has the same name 'LSTMCell' as a built-in Keras object. Consider renaming <class 'keras.layers.recurrent.LSTMCell'> to avoid naming conflicts when loading with `tf.keras.models.load_model`. If renaming is not possible, pass the object in the `custom_objects` parameter of the load function.\n",
            "WARNING:absl:<keras.layers.recurrent.LSTMCell object at 0x7fec661d0950> has the same name 'LSTMCell' as a built-in Keras object. Consider renaming <class 'keras.layers.recurrent.LSTMCell'> to avoid naming conflicts when loading with `tf.keras.models.load_model`. If renaming is not possible, pass the object in the `custom_objects` parameter of the load function.\n",
            "WARNING:absl:<keras.layers.recurrent.LSTMCell object at 0x7fec662fae10> has the same name 'LSTMCell' as a built-in Keras object. Consider renaming <class 'keras.layers.recurrent.LSTMCell'> to avoid naming conflicts when loading with `tf.keras.models.load_model`. If renaming is not possible, pass the object in the `custom_objects` parameter of the load function.\n"
          ]
        },
        {
          "output_type": "stream",
          "name": "stdout",
          "text": [
            "\b\b\b\b\b\b\b\b\b\b\b\b\b\b\b\b\b\b\b\b\b\b\b\b\b\b\b\b\b\b\b\b\b\b\b\b\b\b\b\b\b\b\b\b\b\b\b\b\b\b\b\b\b\b\b\b\b\b\b\b\b\b\b\b\b\b\b\b\b\b\b\b\b\b\b\b\b\b\b\b\b\b\b\b\b\b\b\b\b\b\b\b\b\b\b\r7/7 [==============================] - 28s 4s/step - loss: 0.6277 - root_mean_squared_error: 0.7923 - val_loss: 0.4197 - val_root_mean_squared_error: 0.6478\n",
            "Epoch 2/100\n",
            "1/7 [===>..........................] - ETA: 0s - loss: 0.3515 - root_mean_squared_error: 0.5929"
          ]
        },
        {
          "output_type": "stream",
          "name": "stderr",
          "text": [
            "WARNING:absl:Found untraced functions such as lstm_cell_3_layer_call_fn, lstm_cell_3_layer_call_and_return_conditional_losses, lstm_cell_4_layer_call_fn, lstm_cell_4_layer_call_and_return_conditional_losses, lstm_cell_6_layer_call_fn while saving (showing 5 of 8). These functions will not be directly callable after loading.\n",
            "WARNING:absl:<keras.layers.recurrent.LSTMCell object at 0x7fec662fdf10> has the same name 'LSTMCell' as a built-in Keras object. Consider renaming <class 'keras.layers.recurrent.LSTMCell'> to avoid naming conflicts when loading with `tf.keras.models.load_model`. If renaming is not possible, pass the object in the `custom_objects` parameter of the load function.\n",
            "WARNING:absl:<keras.layers.recurrent.LSTMCell object at 0x7fed18439090> has the same name 'LSTMCell' as a built-in Keras object. Consider renaming <class 'keras.layers.recurrent.LSTMCell'> to avoid naming conflicts when loading with `tf.keras.models.load_model`. If renaming is not possible, pass the object in the `custom_objects` parameter of the load function.\n",
            "WARNING:absl:<keras.layers.recurrent.LSTMCell object at 0x7fec661d0950> has the same name 'LSTMCell' as a built-in Keras object. Consider renaming <class 'keras.layers.recurrent.LSTMCell'> to avoid naming conflicts when loading with `tf.keras.models.load_model`. If renaming is not possible, pass the object in the `custom_objects` parameter of the load function.\n",
            "WARNING:absl:<keras.layers.recurrent.LSTMCell object at 0x7fec662fae10> has the same name 'LSTMCell' as a built-in Keras object. Consider renaming <class 'keras.layers.recurrent.LSTMCell'> to avoid naming conflicts when loading with `tf.keras.models.load_model`. If renaming is not possible, pass the object in the `custom_objects` parameter of the load function.\n"
          ]
        },
        {
          "output_type": "stream",
          "name": "stdout",
          "text": [
            "\b\b\b\b\b\b\b\b\b\b\b\b\b\b\b\b\b\b\b\b\b\b\b\b\b\b\b\b\b\b\b\b\b\b\b\b\b\b\b\b\b\b\b\b\b\b\b\b\b\b\b\b\b\b\b\b\b\b\b\b\b\b\b\b\b\b\b\b\b\b\b\b\b\b\b\b\b\b\b\b\b\b\b\b\b\b\b\b\b\b\b\b\b\b\b\r7/7 [==============================] - 22s 4s/step - loss: 0.2252 - root_mean_squared_error: 0.4746 - val_loss: 0.0554 - val_root_mean_squared_error: 0.2354\n",
            "Epoch 3/100\n",
            "1/7 [===>..........................] - ETA: 0s - loss: 0.0429 - root_mean_squared_error: 0.2072"
          ]
        },
        {
          "output_type": "stream",
          "name": "stderr",
          "text": [
            "WARNING:absl:Found untraced functions such as lstm_cell_3_layer_call_fn, lstm_cell_3_layer_call_and_return_conditional_losses, lstm_cell_4_layer_call_fn, lstm_cell_4_layer_call_and_return_conditional_losses, lstm_cell_6_layer_call_fn while saving (showing 5 of 8). These functions will not be directly callable after loading.\n",
            "WARNING:absl:<keras.layers.recurrent.LSTMCell object at 0x7fec662fdf10> has the same name 'LSTMCell' as a built-in Keras object. Consider renaming <class 'keras.layers.recurrent.LSTMCell'> to avoid naming conflicts when loading with `tf.keras.models.load_model`. If renaming is not possible, pass the object in the `custom_objects` parameter of the load function.\n",
            "WARNING:absl:<keras.layers.recurrent.LSTMCell object at 0x7fed18439090> has the same name 'LSTMCell' as a built-in Keras object. Consider renaming <class 'keras.layers.recurrent.LSTMCell'> to avoid naming conflicts when loading with `tf.keras.models.load_model`. If renaming is not possible, pass the object in the `custom_objects` parameter of the load function.\n",
            "WARNING:absl:<keras.layers.recurrent.LSTMCell object at 0x7fec661d0950> has the same name 'LSTMCell' as a built-in Keras object. Consider renaming <class 'keras.layers.recurrent.LSTMCell'> to avoid naming conflicts when loading with `tf.keras.models.load_model`. If renaming is not possible, pass the object in the `custom_objects` parameter of the load function.\n",
            "WARNING:absl:<keras.layers.recurrent.LSTMCell object at 0x7fec662fae10> has the same name 'LSTMCell' as a built-in Keras object. Consider renaming <class 'keras.layers.recurrent.LSTMCell'> to avoid naming conflicts when loading with `tf.keras.models.load_model`. If renaming is not possible, pass the object in the `custom_objects` parameter of the load function.\n"
          ]
        },
        {
          "output_type": "stream",
          "name": "stdout",
          "text": [
            "\b\b\b\b\b\b\b\b\b\b\b\b\b\b\b\b\b\b\b\b\b\b\b\b\b\b\b\b\b\b\b\b\b\b\b\b\b\b\b\b\b\b\b\b\b\b\b\b\b\b\b\b\b\b\b\b\b\b\b\b\b\b\b\b\b\b\b\b\b\b\b\b\b\b\b\b\b\b\b\b\b\b\b\b\b\b\b\b\b\b\b\b\b\b\b\r7/7 [==============================] - 22s 4s/step - loss: 0.0146 - root_mean_squared_error: 0.1207 - val_loss: 0.0404 - val_root_mean_squared_error: 0.2010\n",
            "Epoch 4/100\n",
            "1/7 [===>..........................] - ETA: 0s - loss: 0.0378 - root_mean_squared_error: 0.1944"
          ]
        },
        {
          "output_type": "stream",
          "name": "stderr",
          "text": [
            "WARNING:absl:Found untraced functions such as lstm_cell_3_layer_call_fn, lstm_cell_3_layer_call_and_return_conditional_losses, lstm_cell_4_layer_call_fn, lstm_cell_4_layer_call_and_return_conditional_losses, lstm_cell_6_layer_call_fn while saving (showing 5 of 8). These functions will not be directly callable after loading.\n",
            "WARNING:absl:<keras.layers.recurrent.LSTMCell object at 0x7fec662fdf10> has the same name 'LSTMCell' as a built-in Keras object. Consider renaming <class 'keras.layers.recurrent.LSTMCell'> to avoid naming conflicts when loading with `tf.keras.models.load_model`. If renaming is not possible, pass the object in the `custom_objects` parameter of the load function.\n",
            "WARNING:absl:<keras.layers.recurrent.LSTMCell object at 0x7fed18439090> has the same name 'LSTMCell' as a built-in Keras object. Consider renaming <class 'keras.layers.recurrent.LSTMCell'> to avoid naming conflicts when loading with `tf.keras.models.load_model`. If renaming is not possible, pass the object in the `custom_objects` parameter of the load function.\n",
            "WARNING:absl:<keras.layers.recurrent.LSTMCell object at 0x7fec661d0950> has the same name 'LSTMCell' as a built-in Keras object. Consider renaming <class 'keras.layers.recurrent.LSTMCell'> to avoid naming conflicts when loading with `tf.keras.models.load_model`. If renaming is not possible, pass the object in the `custom_objects` parameter of the load function.\n",
            "WARNING:absl:<keras.layers.recurrent.LSTMCell object at 0x7fec662fae10> has the same name 'LSTMCell' as a built-in Keras object. Consider renaming <class 'keras.layers.recurrent.LSTMCell'> to avoid naming conflicts when loading with `tf.keras.models.load_model`. If renaming is not possible, pass the object in the `custom_objects` parameter of the load function.\n"
          ]
        },
        {
          "output_type": "stream",
          "name": "stdout",
          "text": [
            "\b\b\b\b\b\b\b\b\b\b\b\b\b\b\b\b\b\b\b\b\b\b\b\b\b\b\b\b\b\b\b\b\b\b\b\b\b\b\b\b\b\b\b\b\b\b\b\b\b\b\b\b\b\b\b\b\b\b\b\b\b\b\b\b\b\b\b\b\b\b\b\b\b\b\b\b\b\b\b\b\b\b\b\b\b\b\b\b\b\b\b\b\b\b\b\r7/7 [==============================] - 22s 4s/step - loss: 0.0398 - root_mean_squared_error: 0.1995 - val_loss: 0.0100 - val_root_mean_squared_error: 0.1001\n",
            "Epoch 5/100\n",
            "1/7 [===>..........................] - ETA: 0s - loss: 0.0103 - root_mean_squared_error: 0.1015"
          ]
        },
        {
          "output_type": "stream",
          "name": "stderr",
          "text": [
            "WARNING:absl:Found untraced functions such as lstm_cell_3_layer_call_fn, lstm_cell_3_layer_call_and_return_conditional_losses, lstm_cell_4_layer_call_fn, lstm_cell_4_layer_call_and_return_conditional_losses, lstm_cell_6_layer_call_fn while saving (showing 5 of 8). These functions will not be directly callable after loading.\n",
            "WARNING:absl:<keras.layers.recurrent.LSTMCell object at 0x7fec662fdf10> has the same name 'LSTMCell' as a built-in Keras object. Consider renaming <class 'keras.layers.recurrent.LSTMCell'> to avoid naming conflicts when loading with `tf.keras.models.load_model`. If renaming is not possible, pass the object in the `custom_objects` parameter of the load function.\n",
            "WARNING:absl:<keras.layers.recurrent.LSTMCell object at 0x7fed18439090> has the same name 'LSTMCell' as a built-in Keras object. Consider renaming <class 'keras.layers.recurrent.LSTMCell'> to avoid naming conflicts when loading with `tf.keras.models.load_model`. If renaming is not possible, pass the object in the `custom_objects` parameter of the load function.\n",
            "WARNING:absl:<keras.layers.recurrent.LSTMCell object at 0x7fec661d0950> has the same name 'LSTMCell' as a built-in Keras object. Consider renaming <class 'keras.layers.recurrent.LSTMCell'> to avoid naming conflicts when loading with `tf.keras.models.load_model`. If renaming is not possible, pass the object in the `custom_objects` parameter of the load function.\n",
            "WARNING:absl:<keras.layers.recurrent.LSTMCell object at 0x7fec662fae10> has the same name 'LSTMCell' as a built-in Keras object. Consider renaming <class 'keras.layers.recurrent.LSTMCell'> to avoid naming conflicts when loading with `tf.keras.models.load_model`. If renaming is not possible, pass the object in the `custom_objects` parameter of the load function.\n"
          ]
        },
        {
          "output_type": "stream",
          "name": "stdout",
          "text": [
            "\b\b\b\b\b\b\b\b\b\b\b\b\b\b\b\b\b\b\b\b\b\b\b\b\b\b\b\b\b\b\b\b\b\b\b\b\b\b\b\b\b\b\b\b\b\b\b\b\b\b\b\b\b\b\b\b\b\b\b\b\b\b\b\b\b\b\b\b\b\b\b\b\b\b\b\b\b\b\b\b\b\b\b\b\b\b\b\b\b\b\b\b\b\b\b\r7/7 [==============================] - 22s 4s/step - loss: 0.0034 - root_mean_squared_error: 0.0583 - val_loss: 0.0080 - val_root_mean_squared_error: 0.0892\n",
            "Epoch 6/100\n",
            "7/7 [==============================] - 0s 11ms/step - loss: 0.0078 - root_mean_squared_error: 0.0884 - val_loss: 0.0096 - val_root_mean_squared_error: 0.0981\n",
            "Epoch 7/100\n",
            "1/7 [===>..........................] - ETA: 0s - loss: 0.0061 - root_mean_squared_error: 0.0781"
          ]
        },
        {
          "output_type": "stream",
          "name": "stderr",
          "text": [
            "WARNING:absl:Found untraced functions such as lstm_cell_3_layer_call_fn, lstm_cell_3_layer_call_and_return_conditional_losses, lstm_cell_4_layer_call_fn, lstm_cell_4_layer_call_and_return_conditional_losses, lstm_cell_6_layer_call_fn while saving (showing 5 of 8). These functions will not be directly callable after loading.\n",
            "WARNING:absl:<keras.layers.recurrent.LSTMCell object at 0x7fec662fdf10> has the same name 'LSTMCell' as a built-in Keras object. Consider renaming <class 'keras.layers.recurrent.LSTMCell'> to avoid naming conflicts when loading with `tf.keras.models.load_model`. If renaming is not possible, pass the object in the `custom_objects` parameter of the load function.\n",
            "WARNING:absl:<keras.layers.recurrent.LSTMCell object at 0x7fed18439090> has the same name 'LSTMCell' as a built-in Keras object. Consider renaming <class 'keras.layers.recurrent.LSTMCell'> to avoid naming conflicts when loading with `tf.keras.models.load_model`. If renaming is not possible, pass the object in the `custom_objects` parameter of the load function.\n",
            "WARNING:absl:<keras.layers.recurrent.LSTMCell object at 0x7fec661d0950> has the same name 'LSTMCell' as a built-in Keras object. Consider renaming <class 'keras.layers.recurrent.LSTMCell'> to avoid naming conflicts when loading with `tf.keras.models.load_model`. If renaming is not possible, pass the object in the `custom_objects` parameter of the load function.\n",
            "WARNING:absl:<keras.layers.recurrent.LSTMCell object at 0x7fec662fae10> has the same name 'LSTMCell' as a built-in Keras object. Consider renaming <class 'keras.layers.recurrent.LSTMCell'> to avoid naming conflicts when loading with `tf.keras.models.load_model`. If renaming is not possible, pass the object in the `custom_objects` parameter of the load function.\n"
          ]
        },
        {
          "output_type": "stream",
          "name": "stdout",
          "text": [
            "\b\b\b\b\b\b\b\b\b\b\b\b\b\b\b\b\b\b\b\b\b\b\b\b\b\b\b\b\b\b\b\b\b\b\b\b\b\b\b\b\b\b\b\b\b\b\b\b\b\b\b\b\b\b\b\b\b\b\b\b\b\b\b\b\b\b\b\b\b\b\b\b\b\b\b\b\b\b\b\b\b\b\b\b\b\b\b\b\b\b\b\b\b\b\b\r7/7 [==============================] - 22s 4s/step - loss: 0.0034 - root_mean_squared_error: 0.0585 - val_loss: 4.0564e-04 - val_root_mean_squared_error: 0.0201\n",
            "Epoch 8/100\n",
            "7/7 [==============================] - 0s 11ms/step - loss: 0.0011 - root_mean_squared_error: 0.0336 - val_loss: 0.0012 - val_root_mean_squared_error: 0.0345\n",
            "Epoch 9/100\n",
            "1/7 [===>..........................] - ETA: 0s - loss: 0.0017 - root_mean_squared_error: 0.0410"
          ]
        },
        {
          "output_type": "stream",
          "name": "stderr",
          "text": [
            "WARNING:absl:Found untraced functions such as lstm_cell_3_layer_call_fn, lstm_cell_3_layer_call_and_return_conditional_losses, lstm_cell_4_layer_call_fn, lstm_cell_4_layer_call_and_return_conditional_losses, lstm_cell_6_layer_call_fn while saving (showing 5 of 8). These functions will not be directly callable after loading.\n",
            "WARNING:absl:<keras.layers.recurrent.LSTMCell object at 0x7fec662fdf10> has the same name 'LSTMCell' as a built-in Keras object. Consider renaming <class 'keras.layers.recurrent.LSTMCell'> to avoid naming conflicts when loading with `tf.keras.models.load_model`. If renaming is not possible, pass the object in the `custom_objects` parameter of the load function.\n",
            "WARNING:absl:<keras.layers.recurrent.LSTMCell object at 0x7fed18439090> has the same name 'LSTMCell' as a built-in Keras object. Consider renaming <class 'keras.layers.recurrent.LSTMCell'> to avoid naming conflicts when loading with `tf.keras.models.load_model`. If renaming is not possible, pass the object in the `custom_objects` parameter of the load function.\n",
            "WARNING:absl:<keras.layers.recurrent.LSTMCell object at 0x7fec661d0950> has the same name 'LSTMCell' as a built-in Keras object. Consider renaming <class 'keras.layers.recurrent.LSTMCell'> to avoid naming conflicts when loading with `tf.keras.models.load_model`. If renaming is not possible, pass the object in the `custom_objects` parameter of the load function.\n",
            "WARNING:absl:<keras.layers.recurrent.LSTMCell object at 0x7fec662fae10> has the same name 'LSTMCell' as a built-in Keras object. Consider renaming <class 'keras.layers.recurrent.LSTMCell'> to avoid naming conflicts when loading with `tf.keras.models.load_model`. If renaming is not possible, pass the object in the `custom_objects` parameter of the load function.\n"
          ]
        },
        {
          "output_type": "stream",
          "name": "stdout",
          "text": [
            "\b\b\b\b\b\b\b\b\b\b\b\b\b\b\b\b\b\b\b\b\b\b\b\b\b\b\b\b\b\b\b\b\b\b\b\b\b\b\b\b\b\b\b\b\b\b\b\b\b\b\b\b\b\b\b\b\b\b\b\b\b\b\b\b\b\b\b\b\b\b\b\b\b\b\b\b\b\b\b\b\b\b\b\b\b\b\b\b\b\b\b\b\b\b\b\r7/7 [==============================] - 22s 4s/step - loss: 0.0013 - root_mean_squared_error: 0.0363 - val_loss: 3.6149e-04 - val_root_mean_squared_error: 0.0190\n",
            "Epoch 10/100\n",
            "7/7 [==============================] - 0s 11ms/step - loss: 5.1510e-04 - root_mean_squared_error: 0.0227 - val_loss: 0.0013 - val_root_mean_squared_error: 0.0365\n",
            "Epoch 11/100\n",
            "7/7 [==============================] - 0s 12ms/step - loss: 6.3722e-04 - root_mean_squared_error: 0.0252 - val_loss: 5.6213e-04 - val_root_mean_squared_error: 0.0237\n",
            "Epoch 12/100\n",
            "1/7 [===>..........................] - ETA: 0s - loss: 4.0559e-04 - root_mean_squared_error: 0.0201"
          ]
        },
        {
          "output_type": "stream",
          "name": "stderr",
          "text": [
            "WARNING:absl:Found untraced functions such as lstm_cell_3_layer_call_fn, lstm_cell_3_layer_call_and_return_conditional_losses, lstm_cell_4_layer_call_fn, lstm_cell_4_layer_call_and_return_conditional_losses, lstm_cell_6_layer_call_fn while saving (showing 5 of 8). These functions will not be directly callable after loading.\n",
            "WARNING:absl:<keras.layers.recurrent.LSTMCell object at 0x7fec662fdf10> has the same name 'LSTMCell' as a built-in Keras object. Consider renaming <class 'keras.layers.recurrent.LSTMCell'> to avoid naming conflicts when loading with `tf.keras.models.load_model`. If renaming is not possible, pass the object in the `custom_objects` parameter of the load function.\n",
            "WARNING:absl:<keras.layers.recurrent.LSTMCell object at 0x7fed18439090> has the same name 'LSTMCell' as a built-in Keras object. Consider renaming <class 'keras.layers.recurrent.LSTMCell'> to avoid naming conflicts when loading with `tf.keras.models.load_model`. If renaming is not possible, pass the object in the `custom_objects` parameter of the load function.\n",
            "WARNING:absl:<keras.layers.recurrent.LSTMCell object at 0x7fec661d0950> has the same name 'LSTMCell' as a built-in Keras object. Consider renaming <class 'keras.layers.recurrent.LSTMCell'> to avoid naming conflicts when loading with `tf.keras.models.load_model`. If renaming is not possible, pass the object in the `custom_objects` parameter of the load function.\n",
            "WARNING:absl:<keras.layers.recurrent.LSTMCell object at 0x7fec662fae10> has the same name 'LSTMCell' as a built-in Keras object. Consider renaming <class 'keras.layers.recurrent.LSTMCell'> to avoid naming conflicts when loading with `tf.keras.models.load_model`. If renaming is not possible, pass the object in the `custom_objects` parameter of the load function.\n"
          ]
        },
        {
          "output_type": "stream",
          "name": "stdout",
          "text": [
            "\b\b\b\b\b\b\b\b\b\b\b\b\b\b\b\b\b\b\b\b\b\b\b\b\b\b\b\b\b\b\b\b\b\b\b\b\b\b\b\b\b\b\b\b\b\b\b\b\b\b\b\b\b\b\b\b\b\b\b\b\b\b\b\b\b\b\b\b\b\b\b\b\b\b\b\b\b\b\b\b\b\b\b\b\b\b\b\b\b\b\b\b\b\b\b\b\b\b\b\r7/7 [==============================] - 22s 4s/step - loss: 4.3131e-04 - root_mean_squared_error: 0.0208 - val_loss: 3.3635e-04 - val_root_mean_squared_error: 0.0183\n",
            "Epoch 13/100\n",
            "7/7 [==============================] - 0s 11ms/step - loss: 4.2897e-04 - root_mean_squared_error: 0.0207 - val_loss: 4.7419e-04 - val_root_mean_squared_error: 0.0218\n",
            "Epoch 14/100\n",
            "7/7 [==============================] - 0s 14ms/step - loss: 4.0589e-04 - root_mean_squared_error: 0.0201 - val_loss: 5.0490e-04 - val_root_mean_squared_error: 0.0225\n",
            "Epoch 15/100\n",
            "7/7 [==============================] - 0s 11ms/step - loss: 4.0387e-04 - root_mean_squared_error: 0.0201 - val_loss: 4.6146e-04 - val_root_mean_squared_error: 0.0215\n",
            "Epoch 16/100\n",
            "7/7 [==============================] - 0s 11ms/step - loss: 3.9837e-04 - root_mean_squared_error: 0.0200 - val_loss: 4.0793e-04 - val_root_mean_squared_error: 0.0202\n",
            "Epoch 17/100\n",
            "7/7 [==============================] - 0s 11ms/step - loss: 3.9189e-04 - root_mean_squared_error: 0.0198 - val_loss: 4.4560e-04 - val_root_mean_squared_error: 0.0211\n",
            "Epoch 18/100\n",
            "7/7 [==============================] - 0s 11ms/step - loss: 3.8443e-04 - root_mean_squared_error: 0.0196 - val_loss: 4.8968e-04 - val_root_mean_squared_error: 0.0221\n",
            "Epoch 19/100\n",
            "7/7 [==============================] - 0s 10ms/step - loss: 3.8402e-04 - root_mean_squared_error: 0.0196 - val_loss: 4.5308e-04 - val_root_mean_squared_error: 0.0213\n",
            "Epoch 20/100\n",
            "7/7 [==============================] - 0s 10ms/step - loss: 3.8104e-04 - root_mean_squared_error: 0.0195 - val_loss: 3.9541e-04 - val_root_mean_squared_error: 0.0199\n",
            "Epoch 21/100\n",
            "7/7 [==============================] - 0s 13ms/step - loss: 3.7937e-04 - root_mean_squared_error: 0.0195 - val_loss: 4.0231e-04 - val_root_mean_squared_error: 0.0201\n",
            "Epoch 22/100\n",
            "7/7 [==============================] - 0s 11ms/step - loss: 3.8156e-04 - root_mean_squared_error: 0.0195 - val_loss: 5.4314e-04 - val_root_mean_squared_error: 0.0233\n",
            "Epoch 23/100\n",
            "7/7 [==============================] - 0s 10ms/step - loss: 3.6962e-04 - root_mean_squared_error: 0.0192 - val_loss: 3.7345e-04 - val_root_mean_squared_error: 0.0193\n",
            "Epoch 24/100\n",
            "7/7 [==============================] - 0s 10ms/step - loss: 3.7627e-04 - root_mean_squared_error: 0.0194 - val_loss: 3.7990e-04 - val_root_mean_squared_error: 0.0195\n",
            "Epoch 25/100\n",
            "7/7 [==============================] - 0s 11ms/step - loss: 3.5766e-04 - root_mean_squared_error: 0.0189 - val_loss: 4.8785e-04 - val_root_mean_squared_error: 0.0221\n",
            "Epoch 26/100\n",
            "7/7 [==============================] - 0s 11ms/step - loss: 3.6208e-04 - root_mean_squared_error: 0.0190 - val_loss: 4.3977e-04 - val_root_mean_squared_error: 0.0210\n",
            "Epoch 27/100\n",
            "1/7 [===>..........................] - ETA: 0s - loss: 3.2049e-04 - root_mean_squared_error: 0.0179"
          ]
        },
        {
          "output_type": "stream",
          "name": "stderr",
          "text": [
            "WARNING:absl:Found untraced functions such as lstm_cell_3_layer_call_fn, lstm_cell_3_layer_call_and_return_conditional_losses, lstm_cell_4_layer_call_fn, lstm_cell_4_layer_call_and_return_conditional_losses, lstm_cell_6_layer_call_fn while saving (showing 5 of 8). These functions will not be directly callable after loading.\n",
            "WARNING:absl:<keras.layers.recurrent.LSTMCell object at 0x7fec662fdf10> has the same name 'LSTMCell' as a built-in Keras object. Consider renaming <class 'keras.layers.recurrent.LSTMCell'> to avoid naming conflicts when loading with `tf.keras.models.load_model`. If renaming is not possible, pass the object in the `custom_objects` parameter of the load function.\n",
            "WARNING:absl:<keras.layers.recurrent.LSTMCell object at 0x7fed18439090> has the same name 'LSTMCell' as a built-in Keras object. Consider renaming <class 'keras.layers.recurrent.LSTMCell'> to avoid naming conflicts when loading with `tf.keras.models.load_model`. If renaming is not possible, pass the object in the `custom_objects` parameter of the load function.\n",
            "WARNING:absl:<keras.layers.recurrent.LSTMCell object at 0x7fec661d0950> has the same name 'LSTMCell' as a built-in Keras object. Consider renaming <class 'keras.layers.recurrent.LSTMCell'> to avoid naming conflicts when loading with `tf.keras.models.load_model`. If renaming is not possible, pass the object in the `custom_objects` parameter of the load function.\n",
            "WARNING:absl:<keras.layers.recurrent.LSTMCell object at 0x7fec662fae10> has the same name 'LSTMCell' as a built-in Keras object. Consider renaming <class 'keras.layers.recurrent.LSTMCell'> to avoid naming conflicts when loading with `tf.keras.models.load_model`. If renaming is not possible, pass the object in the `custom_objects` parameter of the load function.\n"
          ]
        },
        {
          "output_type": "stream",
          "name": "stdout",
          "text": [
            "\b\b\b\b\b\b\b\b\b\b\b\b\b\b\b\b\b\b\b\b\b\b\b\b\b\b\b\b\b\b\b\b\b\b\b\b\b\b\b\b\b\b\b\b\b\b\b\b\b\b\b\b\b\b\b\b\b\b\b\b\b\b\b\b\b\b\b\b\b\b\b\b\b\b\b\b\b\b\b\b\b\b\b\b\b\b\b\b\b\b\b\b\b\b\b\b\b\b\b\r7/7 [==============================] - 22s 4s/step - loss: 3.5184e-04 - root_mean_squared_error: 0.0188 - val_loss: 3.2872e-04 - val_root_mean_squared_error: 0.0181\n",
            "Epoch 28/100\n",
            "7/7 [==============================] - 0s 11ms/step - loss: 3.6739e-04 - root_mean_squared_error: 0.0192 - val_loss: 3.8175e-04 - val_root_mean_squared_error: 0.0195\n",
            "Epoch 29/100\n",
            "7/7 [==============================] - 0s 10ms/step - loss: 3.3547e-04 - root_mean_squared_error: 0.0183 - val_loss: 4.8537e-04 - val_root_mean_squared_error: 0.0220\n",
            "Epoch 30/100\n",
            "7/7 [==============================] - 0s 13ms/step - loss: 3.4299e-04 - root_mean_squared_error: 0.0185 - val_loss: 4.3489e-04 - val_root_mean_squared_error: 0.0209\n",
            "Epoch 31/100\n",
            "7/7 [==============================] - 0s 10ms/step - loss: 3.2652e-04 - root_mean_squared_error: 0.0181 - val_loss: 3.6807e-04 - val_root_mean_squared_error: 0.0192\n",
            "Epoch 32/100\n",
            "7/7 [==============================] - 0s 11ms/step - loss: 3.3308e-04 - root_mean_squared_error: 0.0183 - val_loss: 3.4395e-04 - val_root_mean_squared_error: 0.0185\n",
            "Epoch 33/100\n",
            "7/7 [==============================] - 0s 11ms/step - loss: 3.2254e-04 - root_mean_squared_error: 0.0180 - val_loss: 4.1859e-04 - val_root_mean_squared_error: 0.0205\n",
            "Epoch 34/100\n",
            "7/7 [==============================] - 0s 14ms/step - loss: 3.1697e-04 - root_mean_squared_error: 0.0178 - val_loss: 3.8771e-04 - val_root_mean_squared_error: 0.0197\n",
            "Epoch 35/100\n",
            "7/7 [==============================] - 0s 11ms/step - loss: 3.1880e-04 - root_mean_squared_error: 0.0179 - val_loss: 3.5667e-04 - val_root_mean_squared_error: 0.0189\n",
            "Epoch 36/100\n",
            "7/7 [==============================] - 0s 13ms/step - loss: 3.0282e-04 - root_mean_squared_error: 0.0174 - val_loss: 4.2190e-04 - val_root_mean_squared_error: 0.0205\n",
            "Epoch 37/100\n",
            "7/7 [==============================] - 0s 11ms/step - loss: 3.0502e-04 - root_mean_squared_error: 0.0175 - val_loss: 3.7173e-04 - val_root_mean_squared_error: 0.0193\n",
            "Epoch 38/100\n",
            "7/7 [==============================] - 0s 11ms/step - loss: 3.0111e-04 - root_mean_squared_error: 0.0174 - val_loss: 3.6311e-04 - val_root_mean_squared_error: 0.0191\n",
            "Epoch 39/100\n",
            "7/7 [==============================] - 0s 11ms/step - loss: 2.9604e-04 - root_mean_squared_error: 0.0172 - val_loss: 3.8605e-04 - val_root_mean_squared_error: 0.0196\n",
            "Epoch 40/100\n",
            "7/7 [==============================] - 0s 11ms/step - loss: 2.8827e-04 - root_mean_squared_error: 0.0170 - val_loss: 3.4667e-04 - val_root_mean_squared_error: 0.0186\n",
            "Epoch 41/100\n",
            "7/7 [==============================] - 0s 14ms/step - loss: 2.8516e-04 - root_mean_squared_error: 0.0169 - val_loss: 3.8427e-04 - val_root_mean_squared_error: 0.0196\n",
            "Epoch 42/100\n",
            "7/7 [==============================] - 0s 11ms/step - loss: 2.8043e-04 - root_mean_squared_error: 0.0167 - val_loss: 4.0173e-04 - val_root_mean_squared_error: 0.0200\n",
            "Epoch 43/100\n",
            "7/7 [==============================] - 0s 14ms/step - loss: 2.8502e-04 - root_mean_squared_error: 0.0169 - val_loss: 3.6993e-04 - val_root_mean_squared_error: 0.0192\n",
            "Epoch 44/100\n",
            "1/7 [===>..........................] - ETA: 0s - loss: 2.1865e-04 - root_mean_squared_error: 0.0148"
          ]
        },
        {
          "output_type": "stream",
          "name": "stderr",
          "text": [
            "WARNING:absl:Found untraced functions such as lstm_cell_3_layer_call_fn, lstm_cell_3_layer_call_and_return_conditional_losses, lstm_cell_4_layer_call_fn, lstm_cell_4_layer_call_and_return_conditional_losses, lstm_cell_6_layer_call_fn while saving (showing 5 of 8). These functions will not be directly callable after loading.\n",
            "WARNING:absl:<keras.layers.recurrent.LSTMCell object at 0x7fec662fdf10> has the same name 'LSTMCell' as a built-in Keras object. Consider renaming <class 'keras.layers.recurrent.LSTMCell'> to avoid naming conflicts when loading with `tf.keras.models.load_model`. If renaming is not possible, pass the object in the `custom_objects` parameter of the load function.\n",
            "WARNING:absl:<keras.layers.recurrent.LSTMCell object at 0x7fed18439090> has the same name 'LSTMCell' as a built-in Keras object. Consider renaming <class 'keras.layers.recurrent.LSTMCell'> to avoid naming conflicts when loading with `tf.keras.models.load_model`. If renaming is not possible, pass the object in the `custom_objects` parameter of the load function.\n",
            "WARNING:absl:<keras.layers.recurrent.LSTMCell object at 0x7fec661d0950> has the same name 'LSTMCell' as a built-in Keras object. Consider renaming <class 'keras.layers.recurrent.LSTMCell'> to avoid naming conflicts when loading with `tf.keras.models.load_model`. If renaming is not possible, pass the object in the `custom_objects` parameter of the load function.\n",
            "WARNING:absl:<keras.layers.recurrent.LSTMCell object at 0x7fec662fae10> has the same name 'LSTMCell' as a built-in Keras object. Consider renaming <class 'keras.layers.recurrent.LSTMCell'> to avoid naming conflicts when loading with `tf.keras.models.load_model`. If renaming is not possible, pass the object in the `custom_objects` parameter of the load function.\n"
          ]
        },
        {
          "output_type": "stream",
          "name": "stdout",
          "text": [
            "\b\b\b\b\b\b\b\b\b\b\b\b\b\b\b\b\b\b\b\b\b\b\b\b\b\b\b\b\b\b\b\b\b\b\b\b\b\b\b\b\b\b\b\b\b\b\b\b\b\b\b\b\b\b\b\b\b\b\b\b\b\b\b\b\b\b\b\b\b\b\b\b\b\b\b\b\b\b\b\b\b\b\b\b\b\b\b\b\b\b\b\b\b\b\b\b\b\b\b\r7/7 [==============================] - 22s 4s/step - loss: 2.9065e-04 - root_mean_squared_error: 0.0170 - val_loss: 3.2763e-04 - val_root_mean_squared_error: 0.0181\n",
            "Epoch 45/100\n",
            "7/7 [==============================] - 0s 11ms/step - loss: 2.8545e-04 - root_mean_squared_error: 0.0169 - val_loss: 4.3654e-04 - val_root_mean_squared_error: 0.0209\n",
            "Epoch 46/100\n",
            "1/7 [===>..........................] - ETA: 0s - loss: 3.2515e-04 - root_mean_squared_error: 0.0180"
          ]
        },
        {
          "output_type": "stream",
          "name": "stderr",
          "text": [
            "WARNING:absl:Found untraced functions such as lstm_cell_3_layer_call_fn, lstm_cell_3_layer_call_and_return_conditional_losses, lstm_cell_4_layer_call_fn, lstm_cell_4_layer_call_and_return_conditional_losses, lstm_cell_6_layer_call_fn while saving (showing 5 of 8). These functions will not be directly callable after loading.\n",
            "WARNING:absl:<keras.layers.recurrent.LSTMCell object at 0x7fec662fdf10> has the same name 'LSTMCell' as a built-in Keras object. Consider renaming <class 'keras.layers.recurrent.LSTMCell'> to avoid naming conflicts when loading with `tf.keras.models.load_model`. If renaming is not possible, pass the object in the `custom_objects` parameter of the load function.\n",
            "WARNING:absl:<keras.layers.recurrent.LSTMCell object at 0x7fed18439090> has the same name 'LSTMCell' as a built-in Keras object. Consider renaming <class 'keras.layers.recurrent.LSTMCell'> to avoid naming conflicts when loading with `tf.keras.models.load_model`. If renaming is not possible, pass the object in the `custom_objects` parameter of the load function.\n",
            "WARNING:absl:<keras.layers.recurrent.LSTMCell object at 0x7fec661d0950> has the same name 'LSTMCell' as a built-in Keras object. Consider renaming <class 'keras.layers.recurrent.LSTMCell'> to avoid naming conflicts when loading with `tf.keras.models.load_model`. If renaming is not possible, pass the object in the `custom_objects` parameter of the load function.\n",
            "WARNING:absl:<keras.layers.recurrent.LSTMCell object at 0x7fec662fae10> has the same name 'LSTMCell' as a built-in Keras object. Consider renaming <class 'keras.layers.recurrent.LSTMCell'> to avoid naming conflicts when loading with `tf.keras.models.load_model`. If renaming is not possible, pass the object in the `custom_objects` parameter of the load function.\n"
          ]
        },
        {
          "output_type": "stream",
          "name": "stdout",
          "text": [
            "\b\b\b\b\b\b\b\b\b\b\b\b\b\b\b\b\b\b\b\b\b\b\b\b\b\b\b\b\b\b\b\b\b\b\b\b\b\b\b\b\b\b\b\b\b\b\b\b\b\b\b\b\b\b\b\b\b\b\b\b\b\b\b\b\b\b\b\b\b\b\b\b\b\b\b\b\b\b\b\b\b\b\b\b\b\b\b\b\b\b\b\b\b\b\b\b\b\b\b\r7/7 [==============================] - 22s 4s/step - loss: 2.6401e-04 - root_mean_squared_error: 0.0162 - val_loss: 3.1024e-04 - val_root_mean_squared_error: 0.0176\n",
            "Epoch 47/100\n",
            "7/7 [==============================] - 0s 10ms/step - loss: 2.7330e-04 - root_mean_squared_error: 0.0165 - val_loss: 3.8258e-04 - val_root_mean_squared_error: 0.0196\n",
            "Epoch 48/100\n",
            "7/7 [==============================] - 0s 13ms/step - loss: 2.5252e-04 - root_mean_squared_error: 0.0159 - val_loss: 3.1753e-04 - val_root_mean_squared_error: 0.0178\n",
            "Epoch 49/100\n",
            "7/7 [==============================] - 0s 11ms/step - loss: 2.7321e-04 - root_mean_squared_error: 0.0165 - val_loss: 3.3904e-04 - val_root_mean_squared_error: 0.0184\n",
            "Epoch 50/100\n",
            "7/7 [==============================] - 0s 10ms/step - loss: 2.4641e-04 - root_mean_squared_error: 0.0157 - val_loss: 3.7466e-04 - val_root_mean_squared_error: 0.0194\n",
            "Epoch 51/100\n",
            "7/7 [==============================] - 0s 11ms/step - loss: 2.5142e-04 - root_mean_squared_error: 0.0159 - val_loss: 3.3641e-04 - val_root_mean_squared_error: 0.0183\n",
            "Epoch 52/100\n",
            "7/7 [==============================] - 0s 11ms/step - loss: 2.4550e-04 - root_mean_squared_error: 0.0157 - val_loss: 3.1892e-04 - val_root_mean_squared_error: 0.0179\n",
            "Epoch 53/100\n",
            "7/7 [==============================] - 0s 13ms/step - loss: 2.3720e-04 - root_mean_squared_error: 0.0154 - val_loss: 3.7913e-04 - val_root_mean_squared_error: 0.0195\n",
            "Epoch 54/100\n",
            "7/7 [==============================] - 0s 11ms/step - loss: 2.3860e-04 - root_mean_squared_error: 0.0154 - val_loss: 3.1322e-04 - val_root_mean_squared_error: 0.0177\n",
            "Epoch 55/100\n",
            "7/7 [==============================] - 0s 12ms/step - loss: 2.3268e-04 - root_mean_squared_error: 0.0153 - val_loss: 3.5844e-04 - val_root_mean_squared_error: 0.0189\n",
            "Epoch 56/100\n",
            "7/7 [==============================] - 0s 11ms/step - loss: 2.4311e-04 - root_mean_squared_error: 0.0156 - val_loss: 3.5045e-04 - val_root_mean_squared_error: 0.0187\n",
            "Epoch 57/100\n",
            "7/7 [==============================] - 0s 11ms/step - loss: 2.3329e-04 - root_mean_squared_error: 0.0153 - val_loss: 3.1086e-04 - val_root_mean_squared_error: 0.0176\n",
            "Epoch 58/100\n",
            "7/7 [==============================] - 0s 11ms/step - loss: 2.1967e-04 - root_mean_squared_error: 0.0148 - val_loss: 3.9067e-04 - val_root_mean_squared_error: 0.0198\n",
            "Epoch 59/100\n",
            "1/7 [===>..........................] - ETA: 0s - loss: 2.5265e-04 - root_mean_squared_error: 0.0159"
          ]
        },
        {
          "output_type": "stream",
          "name": "stderr",
          "text": [
            "WARNING:absl:Found untraced functions such as lstm_cell_3_layer_call_fn, lstm_cell_3_layer_call_and_return_conditional_losses, lstm_cell_4_layer_call_fn, lstm_cell_4_layer_call_and_return_conditional_losses, lstm_cell_6_layer_call_fn while saving (showing 5 of 8). These functions will not be directly callable after loading.\n",
            "WARNING:absl:<keras.layers.recurrent.LSTMCell object at 0x7fec662fdf10> has the same name 'LSTMCell' as a built-in Keras object. Consider renaming <class 'keras.layers.recurrent.LSTMCell'> to avoid naming conflicts when loading with `tf.keras.models.load_model`. If renaming is not possible, pass the object in the `custom_objects` parameter of the load function.\n",
            "WARNING:absl:<keras.layers.recurrent.LSTMCell object at 0x7fed18439090> has the same name 'LSTMCell' as a built-in Keras object. Consider renaming <class 'keras.layers.recurrent.LSTMCell'> to avoid naming conflicts when loading with `tf.keras.models.load_model`. If renaming is not possible, pass the object in the `custom_objects` parameter of the load function.\n",
            "WARNING:absl:<keras.layers.recurrent.LSTMCell object at 0x7fec661d0950> has the same name 'LSTMCell' as a built-in Keras object. Consider renaming <class 'keras.layers.recurrent.LSTMCell'> to avoid naming conflicts when loading with `tf.keras.models.load_model`. If renaming is not possible, pass the object in the `custom_objects` parameter of the load function.\n",
            "WARNING:absl:<keras.layers.recurrent.LSTMCell object at 0x7fec662fae10> has the same name 'LSTMCell' as a built-in Keras object. Consider renaming <class 'keras.layers.recurrent.LSTMCell'> to avoid naming conflicts when loading with `tf.keras.models.load_model`. If renaming is not possible, pass the object in the `custom_objects` parameter of the load function.\n"
          ]
        },
        {
          "output_type": "stream",
          "name": "stdout",
          "text": [
            "\b\b\b\b\b\b\b\b\b\b\b\b\b\b\b\b\b\b\b\b\b\b\b\b\b\b\b\b\b\b\b\b\b\b\b\b\b\b\b\b\b\b\b\b\b\b\b\b\b\b\b\b\b\b\b\b\b\b\b\b\b\b\b\b\b\b\b\b\b\b\b\b\b\b\b\b\b\b\b\b\b\b\b\b\b\b\b\b\b\b\b\b\b\b\b\b\b\b\b\r7/7 [==============================] - 21s 4s/step - loss: 2.2046e-04 - root_mean_squared_error: 0.0148 - val_loss: 3.0666e-04 - val_root_mean_squared_error: 0.0175\n",
            "Epoch 60/100\n",
            "7/7 [==============================] - 0s 11ms/step - loss: 2.2423e-04 - root_mean_squared_error: 0.0150 - val_loss: 3.4583e-04 - val_root_mean_squared_error: 0.0186\n",
            "Epoch 61/100\n",
            "7/7 [==============================] - 0s 11ms/step - loss: 2.3029e-04 - root_mean_squared_error: 0.0152 - val_loss: 3.2797e-04 - val_root_mean_squared_error: 0.0181\n",
            "Epoch 62/100\n",
            "7/7 [==============================] - 0s 11ms/step - loss: 2.0381e-04 - root_mean_squared_error: 0.0143 - val_loss: 3.1030e-04 - val_root_mean_squared_error: 0.0176\n",
            "Epoch 63/100\n",
            "7/7 [==============================] - 0s 11ms/step - loss: 2.0107e-04 - root_mean_squared_error: 0.0142 - val_loss: 3.3499e-04 - val_root_mean_squared_error: 0.0183\n",
            "Epoch 64/100\n",
            "7/7 [==============================] - 0s 11ms/step - loss: 1.9781e-04 - root_mean_squared_error: 0.0141 - val_loss: 3.2039e-04 - val_root_mean_squared_error: 0.0179\n",
            "Epoch 65/100\n",
            "7/7 [==============================] - 0s 11ms/step - loss: 1.9487e-04 - root_mean_squared_error: 0.0140 - val_loss: 3.1937e-04 - val_root_mean_squared_error: 0.0179\n",
            "Epoch 66/100\n",
            "7/7 [==============================] - 0s 13ms/step - loss: 2.0975e-04 - root_mean_squared_error: 0.0145 - val_loss: 3.0893e-04 - val_root_mean_squared_error: 0.0176\n",
            "Epoch 67/100\n",
            "7/7 [==============================] - 0s 10ms/step - loss: 2.0502e-04 - root_mean_squared_error: 0.0143 - val_loss: 3.1154e-04 - val_root_mean_squared_error: 0.0177\n",
            "Epoch 68/100\n",
            "7/7 [==============================] - 0s 10ms/step - loss: 1.8614e-04 - root_mean_squared_error: 0.0136 - val_loss: 3.4353e-04 - val_root_mean_squared_error: 0.0185\n",
            "Epoch 69/100\n",
            "7/7 [==============================] - 0s 10ms/step - loss: 1.8666e-04 - root_mean_squared_error: 0.0137 - val_loss: 3.1009e-04 - val_root_mean_squared_error: 0.0176\n",
            "Epoch 70/100\n",
            "7/7 [==============================] - 0s 11ms/step - loss: 1.8478e-04 - root_mean_squared_error: 0.0136 - val_loss: 3.2432e-04 - val_root_mean_squared_error: 0.0180\n",
            "Epoch 71/100\n",
            "7/7 [==============================] - 0s 11ms/step - loss: 1.8694e-04 - root_mean_squared_error: 0.0137 - val_loss: 3.2911e-04 - val_root_mean_squared_error: 0.0181\n",
            "Epoch 72/100\n",
            "7/7 [==============================] - 0s 11ms/step - loss: 1.8303e-04 - root_mean_squared_error: 0.0135 - val_loss: 3.2081e-04 - val_root_mean_squared_error: 0.0179\n",
            "Epoch 73/100\n",
            "7/7 [==============================] - 0s 14ms/step - loss: 1.7412e-04 - root_mean_squared_error: 0.0132 - val_loss: 3.0756e-04 - val_root_mean_squared_error: 0.0175\n",
            "Epoch 74/100\n",
            "7/7 [==============================] - 0s 11ms/step - loss: 1.7681e-04 - root_mean_squared_error: 0.0133 - val_loss: 3.1323e-04 - val_root_mean_squared_error: 0.0177\n",
            "Epoch 75/100\n",
            "7/7 [==============================] - 0s 10ms/step - loss: 1.7045e-04 - root_mean_squared_error: 0.0131 - val_loss: 3.2345e-04 - val_root_mean_squared_error: 0.0180\n",
            "Epoch 76/100\n",
            "7/7 [==============================] - 0s 10ms/step - loss: 1.7318e-04 - root_mean_squared_error: 0.0132 - val_loss: 3.0776e-04 - val_root_mean_squared_error: 0.0175\n",
            "Epoch 77/100\n",
            "7/7 [==============================] - 0s 11ms/step - loss: 1.6489e-04 - root_mean_squared_error: 0.0128 - val_loss: 3.2468e-04 - val_root_mean_squared_error: 0.0180\n",
            "Epoch 78/100\n",
            "7/7 [==============================] - 0s 13ms/step - loss: 1.7099e-04 - root_mean_squared_error: 0.0131 - val_loss: 3.0757e-04 - val_root_mean_squared_error: 0.0175\n",
            "Epoch 79/100\n",
            "7/7 [==============================] - 0s 11ms/step - loss: 1.6789e-04 - root_mean_squared_error: 0.0130 - val_loss: 3.0909e-04 - val_root_mean_squared_error: 0.0176\n",
            "Epoch 80/100\n",
            "7/7 [==============================] - 0s 11ms/step - loss: 1.5913e-04 - root_mean_squared_error: 0.0126 - val_loss: 3.0906e-04 - val_root_mean_squared_error: 0.0176\n",
            "Epoch 81/100\n",
            "7/7 [==============================] - 0s 11ms/step - loss: 1.6055e-04 - root_mean_squared_error: 0.0127 - val_loss: 3.1250e-04 - val_root_mean_squared_error: 0.0177\n",
            "Epoch 82/100\n",
            "7/7 [==============================] - 0s 11ms/step - loss: 1.6547e-04 - root_mean_squared_error: 0.0129 - val_loss: 3.0844e-04 - val_root_mean_squared_error: 0.0176\n",
            "Epoch 83/100\n",
            "7/7 [==============================] - 0s 11ms/step - loss: 1.6701e-04 - root_mean_squared_error: 0.0129 - val_loss: 3.0846e-04 - val_root_mean_squared_error: 0.0176\n",
            "Epoch 84/100\n",
            "7/7 [==============================] - 0s 10ms/step - loss: 1.5480e-04 - root_mean_squared_error: 0.0124 - val_loss: 3.0832e-04 - val_root_mean_squared_error: 0.0176\n",
            "Epoch 85/100\n",
            "7/7 [==============================] - 0s 11ms/step - loss: 1.5738e-04 - root_mean_squared_error: 0.0125 - val_loss: 3.0894e-04 - val_root_mean_squared_error: 0.0176\n",
            "Epoch 86/100\n",
            "7/7 [==============================] - 0s 11ms/step - loss: 1.5331e-04 - root_mean_squared_error: 0.0124 - val_loss: 3.0931e-04 - val_root_mean_squared_error: 0.0176\n",
            "Epoch 87/100\n",
            "7/7 [==============================] - 0s 11ms/step - loss: 1.5717e-04 - root_mean_squared_error: 0.0125 - val_loss: 3.0883e-04 - val_root_mean_squared_error: 0.0176\n",
            "Epoch 88/100\n",
            "7/7 [==============================] - 0s 11ms/step - loss: 1.5465e-04 - root_mean_squared_error: 0.0124 - val_loss: 3.0900e-04 - val_root_mean_squared_error: 0.0176\n",
            "Epoch 89/100\n",
            "7/7 [==============================] - 0s 11ms/step - loss: 1.5079e-04 - root_mean_squared_error: 0.0123 - val_loss: 3.0905e-04 - val_root_mean_squared_error: 0.0176\n",
            "Epoch 90/100\n",
            "7/7 [==============================] - 0s 13ms/step - loss: 1.5288e-04 - root_mean_squared_error: 0.0124 - val_loss: 3.0990e-04 - val_root_mean_squared_error: 0.0176\n",
            "Epoch 91/100\n",
            "7/7 [==============================] - 0s 11ms/step - loss: 1.6187e-04 - root_mean_squared_error: 0.0127 - val_loss: 3.1022e-04 - val_root_mean_squared_error: 0.0176\n",
            "Epoch 92/100\n",
            "7/7 [==============================] - 0s 12ms/step - loss: 1.5464e-04 - root_mean_squared_error: 0.0124 - val_loss: 3.1174e-04 - val_root_mean_squared_error: 0.0177\n",
            "Epoch 93/100\n",
            "7/7 [==============================] - 0s 14ms/step - loss: 1.5118e-04 - root_mean_squared_error: 0.0123 - val_loss: 3.1073e-04 - val_root_mean_squared_error: 0.0176\n",
            "Epoch 94/100\n",
            "7/7 [==============================] - 0s 12ms/step - loss: 1.4388e-04 - root_mean_squared_error: 0.0120 - val_loss: 3.1818e-04 - val_root_mean_squared_error: 0.0178\n",
            "Epoch 95/100\n",
            "7/7 [==============================] - 0s 11ms/step - loss: 1.5036e-04 - root_mean_squared_error: 0.0123 - val_loss: 3.1602e-04 - val_root_mean_squared_error: 0.0178\n",
            "Epoch 96/100\n",
            "7/7 [==============================] - 0s 11ms/step - loss: 1.5641e-04 - root_mean_squared_error: 0.0125 - val_loss: 3.1760e-04 - val_root_mean_squared_error: 0.0178\n",
            "Epoch 97/100\n",
            "7/7 [==============================] - 0s 11ms/step - loss: 1.4406e-04 - root_mean_squared_error: 0.0120 - val_loss: 3.1072e-04 - val_root_mean_squared_error: 0.0176\n",
            "Epoch 98/100\n",
            "7/7 [==============================] - 0s 14ms/step - loss: 1.4232e-04 - root_mean_squared_error: 0.0119 - val_loss: 3.1148e-04 - val_root_mean_squared_error: 0.0176\n",
            "Epoch 99/100\n",
            "7/7 [==============================] - 0s 11ms/step - loss: 1.4669e-04 - root_mean_squared_error: 0.0121 - val_loss: 3.1197e-04 - val_root_mean_squared_error: 0.0177\n",
            "Epoch 100/100\n",
            "7/7 [==============================] - 0s 11ms/step - loss: 1.3847e-04 - root_mean_squared_error: 0.0118 - val_loss: 3.1045e-04 - val_root_mean_squared_error: 0.0176\n"
          ]
        },
        {
          "output_type": "execute_result",
          "data": {
            "text/plain": [
              "<keras.callbacks.History at 0x7fecd6c7b790>"
            ]
          },
          "metadata": {},
          "execution_count": 32
        }
      ],
      "source": [
        "model4.fit(X_train, y_train, validation_data=(X_val, y_val), epochs=100, callbacks=[cp4])"
      ]
    },
    {
      "cell_type": "code",
      "execution_count": 33,
      "metadata": {
        "colab": {
          "base_uri": "https://localhost:8080/"
        },
        "id": "6gx8a7V9XWUx",
        "outputId": "173f1df7-467b-48bc-82b6-5c5ae671cc34"
      },
      "outputs": [
        {
          "output_type": "stream",
          "name": "stderr",
          "text": [
            "WARNING:tensorflow:5 out of the last 17 calls to <function Model.make_predict_function.<locals>.predict_function at 0x7fec4af99170> triggered tf.function retracing. Tracing is expensive and the excessive number of tracings could be due to (1) creating @tf.function repeatedly in a loop, (2) passing tensors with different shapes, (3) passing Python objects instead of tensors. For (1), please define your @tf.function outside of the loop. For (2), @tf.function has experimental_relax_shapes=True option that relaxes argument shapes that can avoid unnecessary retracing. For (3), please refer to https://www.tensorflow.org/guide/function#controlling_retracing and https://www.tensorflow.org/api_docs/python/tf/function for  more details.\n"
          ]
        },
        {
          "output_type": "stream",
          "name": "stdout",
          "text": [
            "Mean Absolute error  0.014083784\n",
            "Mean Squared error  0.00035295062\n",
            "R2 score  0.5280103817734156\n"
          ]
        }
      ],
      "source": [
        "model4 = load_model('model4/')\n",
        "test4_predictions = model4.predict(X_test).flatten()\n",
        "print(\"Mean Absolute error \", mean_absolute_error(  y_test, test4_predictions  ))\n",
        "print(\"Mean Squared error \", mean_squared_error(  y_test, test4_predictions  ))\n",
        "print(\"R2 score \",r2_score(  y_test, test4_predictions  ))\n",
        "# print(\"Accuracy \",accuracy_score(  y_test, test_predictions  ))"
      ]
    },
    {
      "cell_type": "markdown",
      "source": [
        "# **Model with combination of Layers**"
      ],
      "metadata": {
        "id": "DAEw18319XpW"
      }
    },
    {
      "cell_type": "code",
      "execution_count": 34,
      "metadata": {
        "colab": {
          "base_uri": "https://localhost:8080/"
        },
        "id": "MDqrZQkpU6pB",
        "outputId": "9e1c7167-0ef6-4d34-87cf-0652b9831040"
      },
      "outputs": [
        {
          "output_type": "stream",
          "name": "stdout",
          "text": [
            "Model: \"sequential_4\"\n",
            "_________________________________________________________________\n",
            " Layer (type)                Output Shape              Param #   \n",
            "=================================================================\n",
            " conv1d_1 (Conv1D)           (None, 3, 64)             384       \n",
            "                                                                 \n",
            " conv1d_2 (Conv1D)           (None, 3, 128)            41088     \n",
            "                                                                 \n",
            " lstm_3 (LSTM)               (None, 3, 64)             49408     \n",
            "                                                                 \n",
            " lstm_4 (LSTM)               (None, 32)                12416     \n",
            "                                                                 \n",
            " dense_10 (Dense)            (None, 1)                 33        \n",
            "                                                                 \n",
            "=================================================================\n",
            "Total params: 103,329\n",
            "Trainable params: 103,329\n",
            "Non-trainable params: 0\n",
            "_________________________________________________________________\n"
          ]
        }
      ],
      "source": [
        "model5 = Sequential([\n",
        "               layers.Input((3, 1)),\n",
        "              layers.Conv1D(filters=64,kernel_size=5,strides=1,activation='relu',padding='same'),\n",
        "                layers.Conv1D(filters=128,kernel_size=5,strides=1,activation='relu',padding='same'),\n",
        "               layers.LSTM(64, return_sequences=True),\n",
        "              layers.LSTM(32),\n",
        "              layers.Dense(1),\n",
        "            ])\n",
        "cp5 = ModelCheckpoint('model5/', save_best_only=True)\n",
        "model5.compile(loss=MeanSquaredError(), \n",
        "              optimizer=Adam(learning_rate=0.001),\n",
        "              metrics=[RootMeanSquaredError()])\n",
        "\n",
        "model5.summary()"
      ]
    },
    {
      "cell_type": "code",
      "execution_count": 35,
      "metadata": {
        "colab": {
          "base_uri": "https://localhost:8080/"
        },
        "id": "fRqCl-NDXRhZ",
        "outputId": "28e2b8ac-d0fb-4179-a11a-29cd040689b3"
      },
      "outputs": [
        {
          "output_type": "stream",
          "name": "stdout",
          "text": [
            "Epoch 1/100\n",
            "7/7 [==============================] - ETA: 0s - loss: 0.6224 - root_mean_squared_error: 0.7889 "
          ]
        },
        {
          "output_type": "stream",
          "name": "stderr",
          "text": [
            "WARNING:absl:Found untraced functions such as lstm_cell_14_layer_call_fn, lstm_cell_14_layer_call_and_return_conditional_losses, lstm_cell_15_layer_call_fn, lstm_cell_15_layer_call_and_return_conditional_losses while saving (showing 4 of 4). These functions will not be directly callable after loading.\n",
            "WARNING:absl:<keras.layers.recurrent.LSTMCell object at 0x7fed19b4d750> has the same name 'LSTMCell' as a built-in Keras object. Consider renaming <class 'keras.layers.recurrent.LSTMCell'> to avoid naming conflicts when loading with `tf.keras.models.load_model`. If renaming is not possible, pass the object in the `custom_objects` parameter of the load function.\n",
            "WARNING:absl:<keras.layers.recurrent.LSTMCell object at 0x7fed9d65c510> has the same name 'LSTMCell' as a built-in Keras object. Consider renaming <class 'keras.layers.recurrent.LSTMCell'> to avoid naming conflicts when loading with `tf.keras.models.load_model`. If renaming is not possible, pass the object in the `custom_objects` parameter of the load function.\n"
          ]
        },
        {
          "output_type": "stream",
          "name": "stdout",
          "text": [
            "\b\b\b\b\b\b\b\b\b\b\b\b\b\b\b\b\b\b\b\b\b\b\b\b\b\b\b\b\b\b\b\b\b\b\b\b\b\b\b\b\b\b\b\b\b\b\b\b\b\b\b\b\b\b\b\b\b\b\b\b\b\b\b\b\b\b\b\b\b\b\b\b\b\b\b\b\b\b\b\b\b\b\b\b\b\b\b\b\b\b\b\b\b\b\b\r7/7 [==============================] - 11s 1s/step - loss: 0.6224 - root_mean_squared_error: 0.7889 - val_loss: 0.4061 - val_root_mean_squared_error: 0.6373\n",
            "Epoch 2/100\n",
            "1/7 [===>..........................] - ETA: 0s - loss: 0.3431 - root_mean_squared_error: 0.5857"
          ]
        },
        {
          "output_type": "stream",
          "name": "stderr",
          "text": [
            "WARNING:absl:Found untraced functions such as lstm_cell_14_layer_call_fn, lstm_cell_14_layer_call_and_return_conditional_losses, lstm_cell_15_layer_call_fn, lstm_cell_15_layer_call_and_return_conditional_losses while saving (showing 4 of 4). These functions will not be directly callable after loading.\n",
            "WARNING:absl:<keras.layers.recurrent.LSTMCell object at 0x7fed19b4d750> has the same name 'LSTMCell' as a built-in Keras object. Consider renaming <class 'keras.layers.recurrent.LSTMCell'> to avoid naming conflicts when loading with `tf.keras.models.load_model`. If renaming is not possible, pass the object in the `custom_objects` parameter of the load function.\n",
            "WARNING:absl:<keras.layers.recurrent.LSTMCell object at 0x7fed9d65c510> has the same name 'LSTMCell' as a built-in Keras object. Consider renaming <class 'keras.layers.recurrent.LSTMCell'> to avoid naming conflicts when loading with `tf.keras.models.load_model`. If renaming is not possible, pass the object in the `custom_objects` parameter of the load function.\n"
          ]
        },
        {
          "output_type": "stream",
          "name": "stdout",
          "text": [
            "\b\b\b\b\b\b\b\b\b\b\b\b\b\b\b\b\b\b\b\b\b\b\b\b\b\b\b\b\b\b\b\b\b\b\b\b\b\b\b\b\b\b\b\b\b\b\b\b\b\b\b\b\b\b\b\b\b\b\b\b\b\b\b\b\b\b\b\b\b\b\b\b\b\b\b\b\b\b\b\b\b\b\b\b\b\b\b\b\b\b\b\b\b\b\b\r7/7 [==============================] - 7s 1s/step - loss: 0.1466 - root_mean_squared_error: 0.3829 - val_loss: 0.0823 - val_root_mean_squared_error: 0.2869\n",
            "Epoch 3/100\n",
            "1/7 [===>..........................] - ETA: 0s - loss: 0.0789 - root_mean_squared_error: 0.2809"
          ]
        },
        {
          "output_type": "stream",
          "name": "stderr",
          "text": [
            "WARNING:absl:Found untraced functions such as lstm_cell_14_layer_call_fn, lstm_cell_14_layer_call_and_return_conditional_losses, lstm_cell_15_layer_call_fn, lstm_cell_15_layer_call_and_return_conditional_losses while saving (showing 4 of 4). These functions will not be directly callable after loading.\n",
            "WARNING:absl:<keras.layers.recurrent.LSTMCell object at 0x7fed19b4d750> has the same name 'LSTMCell' as a built-in Keras object. Consider renaming <class 'keras.layers.recurrent.LSTMCell'> to avoid naming conflicts when loading with `tf.keras.models.load_model`. If renaming is not possible, pass the object in the `custom_objects` parameter of the load function.\n",
            "WARNING:absl:<keras.layers.recurrent.LSTMCell object at 0x7fed9d65c510> has the same name 'LSTMCell' as a built-in Keras object. Consider renaming <class 'keras.layers.recurrent.LSTMCell'> to avoid naming conflicts when loading with `tf.keras.models.load_model`. If renaming is not possible, pass the object in the `custom_objects` parameter of the load function.\n"
          ]
        },
        {
          "output_type": "stream",
          "name": "stdout",
          "text": [
            "\b\b\b\b\b\b\b\b\b\b\b\b\b\b\b\b\b\b\b\b\b\b\b\b\b\b\b\b\b\b\b\b\b\b\b\b\b\b\b\b\b\b\b\b\b\b\b\b\b\b\b\b\b\b\b\b\b\b\b\b\b\b\b\b\b\b\b\b\b\b\b\b\b\b\b\b\b\b\b\b\b\b\b\b\b\b\b\b\b\b\b\b\b\b\b\r7/7 [==============================] - 8s 1s/step - loss: 0.0658 - root_mean_squared_error: 0.2566 - val_loss: 0.0028 - val_root_mean_squared_error: 0.0528\n",
            "Epoch 4/100\n",
            "7/7 [==============================] - 0s 9ms/step - loss: 0.0181 - root_mean_squared_error: 0.1344 - val_loss: 0.0369 - val_root_mean_squared_error: 0.1921\n",
            "Epoch 5/100\n",
            "1/7 [===>..........................] - ETA: 0s - loss: 0.0250 - root_mean_squared_error: 0.1582"
          ]
        },
        {
          "output_type": "stream",
          "name": "stderr",
          "text": [
            "WARNING:absl:Found untraced functions such as lstm_cell_14_layer_call_fn, lstm_cell_14_layer_call_and_return_conditional_losses, lstm_cell_15_layer_call_fn, lstm_cell_15_layer_call_and_return_conditional_losses while saving (showing 4 of 4). These functions will not be directly callable after loading.\n",
            "WARNING:absl:<keras.layers.recurrent.LSTMCell object at 0x7fed19b4d750> has the same name 'LSTMCell' as a built-in Keras object. Consider renaming <class 'keras.layers.recurrent.LSTMCell'> to avoid naming conflicts when loading with `tf.keras.models.load_model`. If renaming is not possible, pass the object in the `custom_objects` parameter of the load function.\n",
            "WARNING:absl:<keras.layers.recurrent.LSTMCell object at 0x7fed9d65c510> has the same name 'LSTMCell' as a built-in Keras object. Consider renaming <class 'keras.layers.recurrent.LSTMCell'> to avoid naming conflicts when loading with `tf.keras.models.load_model`. If renaming is not possible, pass the object in the `custom_objects` parameter of the load function.\n"
          ]
        },
        {
          "output_type": "stream",
          "name": "stdout",
          "text": [
            "\b\b\b\b\b\b\b\b\b\b\b\b\b\b\b\b\b\b\b\b\b\b\b\b\b\b\b\b\b\b\b\b\b\b\b\b\b\b\b\b\b\b\b\b\b\b\b\b\b\b\b\b\b\b\b\b\b\b\b\b\b\b\b\b\b\b\b\b\b\b\b\b\b\b\b\b\b\b\b\b\b\b\b\b\b\b\b\b\b\b\b\b\b\b\b\r7/7 [==============================] - 7s 1s/step - loss: 0.0138 - root_mean_squared_error: 0.1175 - val_loss: 3.5054e-04 - val_root_mean_squared_error: 0.0187\n",
            "Epoch 6/100\n",
            "7/7 [==============================] - 0s 9ms/step - loss: 0.0058 - root_mean_squared_error: 0.0758 - val_loss: 0.0020 - val_root_mean_squared_error: 0.0451\n",
            "Epoch 7/100\n",
            "7/7 [==============================] - 0s 9ms/step - loss: 0.0023 - root_mean_squared_error: 0.0476 - val_loss: 0.0058 - val_root_mean_squared_error: 0.0761\n",
            "Epoch 8/100\n",
            "7/7 [==============================] - 0s 9ms/step - loss: 0.0033 - root_mean_squared_error: 0.0575 - val_loss: 0.0025 - val_root_mean_squared_error: 0.0497\n",
            "Epoch 9/100\n",
            "7/7 [==============================] - 0s 9ms/step - loss: 0.0015 - root_mean_squared_error: 0.0381 - val_loss: 4.4632e-04 - val_root_mean_squared_error: 0.0211\n",
            "Epoch 10/100\n",
            "7/7 [==============================] - 0s 9ms/step - loss: 0.0017 - root_mean_squared_error: 0.0412 - val_loss: 0.0016 - val_root_mean_squared_error: 0.0398\n",
            "Epoch 11/100\n",
            "7/7 [==============================] - 0s 9ms/step - loss: 0.0015 - root_mean_squared_error: 0.0390 - val_loss: 0.0021 - val_root_mean_squared_error: 0.0455\n",
            "Epoch 12/100\n",
            "7/7 [==============================] - 0s 9ms/step - loss: 0.0012 - root_mean_squared_error: 0.0349 - val_loss: 3.5635e-04 - val_root_mean_squared_error: 0.0189\n",
            "Epoch 13/100\n",
            "7/7 [==============================] - 0s 9ms/step - loss: 0.0012 - root_mean_squared_error: 0.0344 - val_loss: 0.0016 - val_root_mean_squared_error: 0.0394\n",
            "Epoch 14/100\n",
            "7/7 [==============================] - 0s 9ms/step - loss: 0.0011 - root_mean_squared_error: 0.0335 - val_loss: 0.0012 - val_root_mean_squared_error: 0.0351\n",
            "Epoch 15/100\n",
            "7/7 [==============================] - 0s 10ms/step - loss: 0.0011 - root_mean_squared_error: 0.0325 - val_loss: 5.6656e-04 - val_root_mean_squared_error: 0.0238\n",
            "Epoch 16/100\n",
            "7/7 [==============================] - 0s 9ms/step - loss: 9.4022e-04 - root_mean_squared_error: 0.0307 - val_loss: 0.0014 - val_root_mean_squared_error: 0.0378\n",
            "Epoch 17/100\n",
            "7/7 [==============================] - 0s 9ms/step - loss: 9.3941e-04 - root_mean_squared_error: 0.0306 - val_loss: 7.4703e-04 - val_root_mean_squared_error: 0.0273\n",
            "Epoch 18/100\n",
            "7/7 [==============================] - 0s 9ms/step - loss: 9.0387e-04 - root_mean_squared_error: 0.0301 - val_loss: 9.1627e-04 - val_root_mean_squared_error: 0.0303\n",
            "Epoch 19/100\n",
            "7/7 [==============================] - 0s 9ms/step - loss: 8.8217e-04 - root_mean_squared_error: 0.0297 - val_loss: 7.6996e-04 - val_root_mean_squared_error: 0.0277\n",
            "Epoch 20/100\n",
            "7/7 [==============================] - 0s 12ms/step - loss: 8.4376e-04 - root_mean_squared_error: 0.0290 - val_loss: 0.0011 - val_root_mean_squared_error: 0.0325\n",
            "Epoch 21/100\n",
            "7/7 [==============================] - 0s 9ms/step - loss: 8.4867e-04 - root_mean_squared_error: 0.0291 - val_loss: 8.6231e-04 - val_root_mean_squared_error: 0.0294\n",
            "Epoch 22/100\n",
            "7/7 [==============================] - 0s 9ms/step - loss: 8.1968e-04 - root_mean_squared_error: 0.0286 - val_loss: 7.5011e-04 - val_root_mean_squared_error: 0.0274\n",
            "Epoch 23/100\n",
            "7/7 [==============================] - 0s 9ms/step - loss: 8.5715e-04 - root_mean_squared_error: 0.0293 - val_loss: 7.3809e-04 - val_root_mean_squared_error: 0.0272\n",
            "Epoch 24/100\n",
            "7/7 [==============================] - 0s 9ms/step - loss: 8.5173e-04 - root_mean_squared_error: 0.0292 - val_loss: 0.0010 - val_root_mean_squared_error: 0.0322\n",
            "Epoch 25/100\n",
            "7/7 [==============================] - 0s 9ms/step - loss: 7.4825e-04 - root_mean_squared_error: 0.0274 - val_loss: 6.2178e-04 - val_root_mean_squared_error: 0.0249\n",
            "Epoch 26/100\n",
            "7/7 [==============================] - 0s 9ms/step - loss: 7.3787e-04 - root_mean_squared_error: 0.0272 - val_loss: 9.8660e-04 - val_root_mean_squared_error: 0.0314\n",
            "Epoch 27/100\n",
            "7/7 [==============================] - 0s 9ms/step - loss: 7.4968e-04 - root_mean_squared_error: 0.0274 - val_loss: 6.3535e-04 - val_root_mean_squared_error: 0.0252\n",
            "Epoch 28/100\n",
            "7/7 [==============================] - 0s 9ms/step - loss: 7.5288e-04 - root_mean_squared_error: 0.0274 - val_loss: 7.7412e-04 - val_root_mean_squared_error: 0.0278\n",
            "Epoch 29/100\n",
            "7/7 [==============================] - 0s 10ms/step - loss: 7.2846e-04 - root_mean_squared_error: 0.0270 - val_loss: 8.3255e-04 - val_root_mean_squared_error: 0.0289\n",
            "Epoch 30/100\n",
            "7/7 [==============================] - 0s 9ms/step - loss: 6.5710e-04 - root_mean_squared_error: 0.0256 - val_loss: 4.7643e-04 - val_root_mean_squared_error: 0.0218\n",
            "Epoch 31/100\n",
            "7/7 [==============================] - 0s 10ms/step - loss: 6.6899e-04 - root_mean_squared_error: 0.0259 - val_loss: 7.1161e-04 - val_root_mean_squared_error: 0.0267\n",
            "Epoch 32/100\n",
            "7/7 [==============================] - 0s 9ms/step - loss: 6.1202e-04 - root_mean_squared_error: 0.0247 - val_loss: 5.5683e-04 - val_root_mean_squared_error: 0.0236\n",
            "Epoch 33/100\n",
            "7/7 [==============================] - 0s 9ms/step - loss: 6.0149e-04 - root_mean_squared_error: 0.0245 - val_loss: 6.5975e-04 - val_root_mean_squared_error: 0.0257\n",
            "Epoch 34/100\n",
            "7/7 [==============================] - 0s 11ms/step - loss: 5.7714e-04 - root_mean_squared_error: 0.0240 - val_loss: 5.9879e-04 - val_root_mean_squared_error: 0.0245\n",
            "Epoch 35/100\n",
            "7/7 [==============================] - 0s 9ms/step - loss: 5.6118e-04 - root_mean_squared_error: 0.0237 - val_loss: 6.1431e-04 - val_root_mean_squared_error: 0.0248\n",
            "Epoch 36/100\n",
            "7/7 [==============================] - 0s 9ms/step - loss: 5.4490e-04 - root_mean_squared_error: 0.0233 - val_loss: 6.6829e-04 - val_root_mean_squared_error: 0.0259\n",
            "Epoch 37/100\n",
            "7/7 [==============================] - 0s 9ms/step - loss: 5.4100e-04 - root_mean_squared_error: 0.0233 - val_loss: 7.4950e-04 - val_root_mean_squared_error: 0.0274\n",
            "Epoch 38/100\n",
            "7/7 [==============================] - 0s 9ms/step - loss: 5.3179e-04 - root_mean_squared_error: 0.0231 - val_loss: 4.8787e-04 - val_root_mean_squared_error: 0.0221\n",
            "Epoch 39/100\n",
            "7/7 [==============================] - 0s 9ms/step - loss: 5.0925e-04 - root_mean_squared_error: 0.0226 - val_loss: 6.0137e-04 - val_root_mean_squared_error: 0.0245\n",
            "Epoch 40/100\n",
            "7/7 [==============================] - 0s 11ms/step - loss: 4.8456e-04 - root_mean_squared_error: 0.0220 - val_loss: 5.7872e-04 - val_root_mean_squared_error: 0.0241\n",
            "Epoch 41/100\n",
            "7/7 [==============================] - 0s 9ms/step - loss: 4.6042e-04 - root_mean_squared_error: 0.0215 - val_loss: 5.7789e-04 - val_root_mean_squared_error: 0.0240\n",
            "Epoch 42/100\n",
            "7/7 [==============================] - 0s 9ms/step - loss: 4.5145e-04 - root_mean_squared_error: 0.0212 - val_loss: 5.5791e-04 - val_root_mean_squared_error: 0.0236\n",
            "Epoch 43/100\n",
            "7/7 [==============================] - 0s 10ms/step - loss: 4.5247e-04 - root_mean_squared_error: 0.0213 - val_loss: 4.7322e-04 - val_root_mean_squared_error: 0.0218\n",
            "Epoch 44/100\n",
            "7/7 [==============================] - 0s 9ms/step - loss: 4.1474e-04 - root_mean_squared_error: 0.0204 - val_loss: 3.7152e-04 - val_root_mean_squared_error: 0.0193\n",
            "Epoch 45/100\n",
            "7/7 [==============================] - 0s 9ms/step - loss: 4.4854e-04 - root_mean_squared_error: 0.0212 - val_loss: 5.9329e-04 - val_root_mean_squared_error: 0.0244\n",
            "Epoch 46/100\n",
            "1/7 [===>..........................] - ETA: 0s - loss: 4.7509e-04 - root_mean_squared_error: 0.0218"
          ]
        },
        {
          "output_type": "stream",
          "name": "stderr",
          "text": [
            "WARNING:absl:Found untraced functions such as lstm_cell_14_layer_call_fn, lstm_cell_14_layer_call_and_return_conditional_losses, lstm_cell_15_layer_call_fn, lstm_cell_15_layer_call_and_return_conditional_losses while saving (showing 4 of 4). These functions will not be directly callable after loading.\n",
            "WARNING:absl:<keras.layers.recurrent.LSTMCell object at 0x7fed19b4d750> has the same name 'LSTMCell' as a built-in Keras object. Consider renaming <class 'keras.layers.recurrent.LSTMCell'> to avoid naming conflicts when loading with `tf.keras.models.load_model`. If renaming is not possible, pass the object in the `custom_objects` parameter of the load function.\n",
            "WARNING:absl:<keras.layers.recurrent.LSTMCell object at 0x7fed9d65c510> has the same name 'LSTMCell' as a built-in Keras object. Consider renaming <class 'keras.layers.recurrent.LSTMCell'> to avoid naming conflicts when loading with `tf.keras.models.load_model`. If renaming is not possible, pass the object in the `custom_objects` parameter of the load function.\n"
          ]
        },
        {
          "output_type": "stream",
          "name": "stdout",
          "text": [
            "\b\b\b\b\b\b\b\b\b\b\b\b\b\b\b\b\b\b\b\b\b\b\b\b\b\b\b\b\b\b\b\b\b\b\b\b\b\b\b\b\b\b\b\b\b\b\b\b\b\b\b\b\b\b\b\b\b\b\b\b\b\b\b\b\b\b\b\b\b\b\b\b\b\b\b\b\b\b\b\b\b\b\b\b\b\b\b\b\b\b\b\b\b\b\b\b\b\b\b\r7/7 [==============================] - 7s 1s/step - loss: 3.8587e-04 - root_mean_squared_error: 0.0196 - val_loss: 3.4608e-04 - val_root_mean_squared_error: 0.0186\n",
            "Epoch 47/100\n",
            "7/7 [==============================] - 0s 9ms/step - loss: 4.1271e-04 - root_mean_squared_error: 0.0203 - val_loss: 4.9638e-04 - val_root_mean_squared_error: 0.0223\n",
            "Epoch 48/100\n",
            "7/7 [==============================] - 0s 8ms/step - loss: 3.6572e-04 - root_mean_squared_error: 0.0191 - val_loss: 4.3071e-04 - val_root_mean_squared_error: 0.0208\n",
            "Epoch 49/100\n",
            "7/7 [==============================] - 0s 9ms/step - loss: 3.5031e-04 - root_mean_squared_error: 0.0187 - val_loss: 3.9289e-04 - val_root_mean_squared_error: 0.0198\n",
            "Epoch 50/100\n",
            "7/7 [==============================] - 0s 9ms/step - loss: 3.3191e-04 - root_mean_squared_error: 0.0182 - val_loss: 3.6046e-04 - val_root_mean_squared_error: 0.0190\n",
            "Epoch 51/100\n",
            "7/7 [==============================] - 0s 9ms/step - loss: 3.3335e-04 - root_mean_squared_error: 0.0183 - val_loss: 4.6222e-04 - val_root_mean_squared_error: 0.0215\n",
            "Epoch 52/100\n",
            "1/7 [===>..........................] - ETA: 0s - loss: 2.4176e-04 - root_mean_squared_error: 0.0155"
          ]
        },
        {
          "output_type": "stream",
          "name": "stderr",
          "text": [
            "WARNING:absl:Found untraced functions such as lstm_cell_14_layer_call_fn, lstm_cell_14_layer_call_and_return_conditional_losses, lstm_cell_15_layer_call_fn, lstm_cell_15_layer_call_and_return_conditional_losses while saving (showing 4 of 4). These functions will not be directly callable after loading.\n",
            "WARNING:absl:<keras.layers.recurrent.LSTMCell object at 0x7fed19b4d750> has the same name 'LSTMCell' as a built-in Keras object. Consider renaming <class 'keras.layers.recurrent.LSTMCell'> to avoid naming conflicts when loading with `tf.keras.models.load_model`. If renaming is not possible, pass the object in the `custom_objects` parameter of the load function.\n",
            "WARNING:absl:<keras.layers.recurrent.LSTMCell object at 0x7fed9d65c510> has the same name 'LSTMCell' as a built-in Keras object. Consider renaming <class 'keras.layers.recurrent.LSTMCell'> to avoid naming conflicts when loading with `tf.keras.models.load_model`. If renaming is not possible, pass the object in the `custom_objects` parameter of the load function.\n"
          ]
        },
        {
          "output_type": "stream",
          "name": "stdout",
          "text": [
            "\b\b\b\b\b\b\b\b\b\b\b\b\b\b\b\b\b\b\b\b\b\b\b\b\b\b\b\b\b\b\b\b\b\b\b\b\b\b\b\b\b\b\b\b\b\b\b\b\b\b\b\b\b\b\b\b\b\b\b\b\b\b\b\b\b\b\b\b\b\b\b\b\b\b\b\b\b\b\b\b\b\b\b\b\b\b\b\b\b\b\b\b\b\b\b\b\b\b\b\r7/7 [==============================] - 8s 1s/step - loss: 3.0715e-04 - root_mean_squared_error: 0.0175 - val_loss: 3.1834e-04 - val_root_mean_squared_error: 0.0178\n",
            "Epoch 53/100\n",
            "7/7 [==============================] - 0s 9ms/step - loss: 3.2585e-04 - root_mean_squared_error: 0.0181 - val_loss: 5.1074e-04 - val_root_mean_squared_error: 0.0226\n",
            "Epoch 54/100\n",
            "7/7 [==============================] - 0s 9ms/step - loss: 2.9298e-04 - root_mean_squared_error: 0.0171 - val_loss: 3.4440e-04 - val_root_mean_squared_error: 0.0186\n",
            "Epoch 55/100\n",
            "7/7 [==============================] - 0s 9ms/step - loss: 2.7540e-04 - root_mean_squared_error: 0.0166 - val_loss: 4.2979e-04 - val_root_mean_squared_error: 0.0207\n",
            "Epoch 56/100\n",
            "7/7 [==============================] - 0s 9ms/step - loss: 2.7211e-04 - root_mean_squared_error: 0.0165 - val_loss: 3.2079e-04 - val_root_mean_squared_error: 0.0179\n",
            "Epoch 57/100\n",
            "7/7 [==============================] - 0s 9ms/step - loss: 2.6419e-04 - root_mean_squared_error: 0.0163 - val_loss: 3.7795e-04 - val_root_mean_squared_error: 0.0194\n",
            "Epoch 58/100\n",
            "7/7 [==============================] - 0s 9ms/step - loss: 2.5701e-04 - root_mean_squared_error: 0.0160 - val_loss: 3.4846e-04 - val_root_mean_squared_error: 0.0187\n",
            "Epoch 59/100\n",
            "7/7 [==============================] - 0s 9ms/step - loss: 2.3987e-04 - root_mean_squared_error: 0.0155 - val_loss: 3.3187e-04 - val_root_mean_squared_error: 0.0182\n",
            "Epoch 60/100\n",
            "7/7 [==============================] - 0s 11ms/step - loss: 2.3835e-04 - root_mean_squared_error: 0.0154 - val_loss: 3.6149e-04 - val_root_mean_squared_error: 0.0190\n",
            "Epoch 61/100\n",
            "7/7 [==============================] - 0s 9ms/step - loss: 2.3498e-04 - root_mean_squared_error: 0.0153 - val_loss: 4.3616e-04 - val_root_mean_squared_error: 0.0209\n",
            "Epoch 62/100\n",
            "1/7 [===>..........................] - ETA: 0s - loss: 2.3461e-04 - root_mean_squared_error: 0.0153"
          ]
        },
        {
          "output_type": "stream",
          "name": "stderr",
          "text": [
            "WARNING:absl:Found untraced functions such as lstm_cell_14_layer_call_fn, lstm_cell_14_layer_call_and_return_conditional_losses, lstm_cell_15_layer_call_fn, lstm_cell_15_layer_call_and_return_conditional_losses while saving (showing 4 of 4). These functions will not be directly callable after loading.\n",
            "WARNING:absl:<keras.layers.recurrent.LSTMCell object at 0x7fed19b4d750> has the same name 'LSTMCell' as a built-in Keras object. Consider renaming <class 'keras.layers.recurrent.LSTMCell'> to avoid naming conflicts when loading with `tf.keras.models.load_model`. If renaming is not possible, pass the object in the `custom_objects` parameter of the load function.\n",
            "WARNING:absl:<keras.layers.recurrent.LSTMCell object at 0x7fed9d65c510> has the same name 'LSTMCell' as a built-in Keras object. Consider renaming <class 'keras.layers.recurrent.LSTMCell'> to avoid naming conflicts when loading with `tf.keras.models.load_model`. If renaming is not possible, pass the object in the `custom_objects` parameter of the load function.\n"
          ]
        },
        {
          "output_type": "stream",
          "name": "stdout",
          "text": [
            "\b\b\b\b\b\b\b\b\b\b\b\b\b\b\b\b\b\b\b\b\b\b\b\b\b\b\b\b\b\b\b\b\b\b\b\b\b\b\b\b\b\b\b\b\b\b\b\b\b\b\b\b\b\b\b\b\b\b\b\b\b\b\b\b\b\b\b\b\b\b\b\b\b\b\b\b\b\b\b\b\b\b\b\b\b\b\b\b\b\b\b\b\b\b\b\b\b\b\b\r7/7 [==============================] - 7s 1s/step - loss: 2.7205e-04 - root_mean_squared_error: 0.0165 - val_loss: 3.0960e-04 - val_root_mean_squared_error: 0.0176\n",
            "Epoch 63/100\n",
            "7/7 [==============================] - 0s 10ms/step - loss: 2.3280e-04 - root_mean_squared_error: 0.0153 - val_loss: 3.7116e-04 - val_root_mean_squared_error: 0.0193\n",
            "Epoch 64/100\n",
            "7/7 [==============================] - 0s 9ms/step - loss: 2.1161e-04 - root_mean_squared_error: 0.0145 - val_loss: 3.7911e-04 - val_root_mean_squared_error: 0.0195\n",
            "Epoch 65/100\n",
            "7/7 [==============================] - 0s 9ms/step - loss: 2.4025e-04 - root_mean_squared_error: 0.0155 - val_loss: 3.2807e-04 - val_root_mean_squared_error: 0.0181\n",
            "Epoch 66/100\n",
            "1/7 [===>..........................] - ETA: 0s - loss: 2.8718e-04 - root_mean_squared_error: 0.0169"
          ]
        },
        {
          "output_type": "stream",
          "name": "stderr",
          "text": [
            "WARNING:absl:Found untraced functions such as lstm_cell_14_layer_call_fn, lstm_cell_14_layer_call_and_return_conditional_losses, lstm_cell_15_layer_call_fn, lstm_cell_15_layer_call_and_return_conditional_losses while saving (showing 4 of 4). These functions will not be directly callable after loading.\n",
            "WARNING:absl:<keras.layers.recurrent.LSTMCell object at 0x7fed19b4d750> has the same name 'LSTMCell' as a built-in Keras object. Consider renaming <class 'keras.layers.recurrent.LSTMCell'> to avoid naming conflicts when loading with `tf.keras.models.load_model`. If renaming is not possible, pass the object in the `custom_objects` parameter of the load function.\n",
            "WARNING:absl:<keras.layers.recurrent.LSTMCell object at 0x7fed9d65c510> has the same name 'LSTMCell' as a built-in Keras object. Consider renaming <class 'keras.layers.recurrent.LSTMCell'> to avoid naming conflicts when loading with `tf.keras.models.load_model`. If renaming is not possible, pass the object in the `custom_objects` parameter of the load function.\n"
          ]
        },
        {
          "output_type": "stream",
          "name": "stdout",
          "text": [
            "\b\b\b\b\b\b\b\b\b\b\b\b\b\b\b\b\b\b\b\b\b\b\b\b\b\b\b\b\b\b\b\b\b\b\b\b\b\b\b\b\b\b\b\b\b\b\b\b\b\b\b\b\b\b\b\b\b\b\b\b\b\b\b\b\b\b\b\b\b\b\b\b\b\b\b\b\b\b\b\b\b\b\b\b\b\b\b\b\b\b\b\b\b\b\b\b\b\b\b\r7/7 [==============================] - 8s 1s/step - loss: 2.5757e-04 - root_mean_squared_error: 0.0160 - val_loss: 3.0351e-04 - val_root_mean_squared_error: 0.0174\n",
            "Epoch 67/100\n",
            "7/7 [==============================] - 0s 9ms/step - loss: 2.4001e-04 - root_mean_squared_error: 0.0155 - val_loss: 5.2188e-04 - val_root_mean_squared_error: 0.0228\n",
            "Epoch 68/100\n",
            "7/7 [==============================] - 0s 9ms/step - loss: 2.3144e-04 - root_mean_squared_error: 0.0152 - val_loss: 3.1097e-04 - val_root_mean_squared_error: 0.0176\n",
            "Epoch 69/100\n",
            "7/7 [==============================] - 0s 9ms/step - loss: 1.8775e-04 - root_mean_squared_error: 0.0137 - val_loss: 3.2152e-04 - val_root_mean_squared_error: 0.0179\n",
            "Epoch 70/100\n",
            "7/7 [==============================] - 0s 9ms/step - loss: 1.7992e-04 - root_mean_squared_error: 0.0134 - val_loss: 3.5498e-04 - val_root_mean_squared_error: 0.0188\n",
            "Epoch 71/100\n",
            "7/7 [==============================] - 0s 9ms/step - loss: 1.8233e-04 - root_mean_squared_error: 0.0135 - val_loss: 3.2812e-04 - val_root_mean_squared_error: 0.0181\n",
            "Epoch 72/100\n",
            "7/7 [==============================] - 0s 10ms/step - loss: 2.0108e-04 - root_mean_squared_error: 0.0142 - val_loss: 3.7859e-04 - val_root_mean_squared_error: 0.0195\n",
            "Epoch 73/100\n",
            "7/7 [==============================] - 0s 12ms/step - loss: 1.8057e-04 - root_mean_squared_error: 0.0134 - val_loss: 3.0433e-04 - val_root_mean_squared_error: 0.0174\n",
            "Epoch 74/100\n",
            "1/7 [===>..........................] - ETA: 0s - loss: 1.4143e-04 - root_mean_squared_error: 0.0119"
          ]
        },
        {
          "output_type": "stream",
          "name": "stderr",
          "text": [
            "WARNING:absl:Found untraced functions such as lstm_cell_14_layer_call_fn, lstm_cell_14_layer_call_and_return_conditional_losses, lstm_cell_15_layer_call_fn, lstm_cell_15_layer_call_and_return_conditional_losses while saving (showing 4 of 4). These functions will not be directly callable after loading.\n",
            "WARNING:absl:<keras.layers.recurrent.LSTMCell object at 0x7fed19b4d750> has the same name 'LSTMCell' as a built-in Keras object. Consider renaming <class 'keras.layers.recurrent.LSTMCell'> to avoid naming conflicts when loading with `tf.keras.models.load_model`. If renaming is not possible, pass the object in the `custom_objects` parameter of the load function.\n",
            "WARNING:absl:<keras.layers.recurrent.LSTMCell object at 0x7fed9d65c510> has the same name 'LSTMCell' as a built-in Keras object. Consider renaming <class 'keras.layers.recurrent.LSTMCell'> to avoid naming conflicts when loading with `tf.keras.models.load_model`. If renaming is not possible, pass the object in the `custom_objects` parameter of the load function.\n"
          ]
        },
        {
          "output_type": "stream",
          "name": "stdout",
          "text": [
            "\b\b\b\b\b\b\b\b\b\b\b\b\b\b\b\b\b\b\b\b\b\b\b\b\b\b\b\b\b\b\b\b\b\b\b\b\b\b\b\b\b\b\b\b\b\b\b\b\b\b\b\b\b\b\b\b\b\b\b\b\b\b\b\b\b\b\b\b\b\b\b\b\b\b\b\b\b\b\b\b\b\b\b\b\b\b\b\b\b\b\b\b\b\b\b\b\b\b\b\r7/7 [==============================] - 7s 1s/step - loss: 1.6392e-04 - root_mean_squared_error: 0.0128 - val_loss: 3.0251e-04 - val_root_mean_squared_error: 0.0174\n",
            "Epoch 75/100\n",
            "7/7 [==============================] - 0s 9ms/step - loss: 1.6341e-04 - root_mean_squared_error: 0.0128 - val_loss: 3.2489e-04 - val_root_mean_squared_error: 0.0180\n",
            "Epoch 76/100\n",
            "7/7 [==============================] - 0s 9ms/step - loss: 1.5556e-04 - root_mean_squared_error: 0.0125 - val_loss: 3.0767e-04 - val_root_mean_squared_error: 0.0175\n",
            "Epoch 77/100\n",
            "7/7 [==============================] - 0s 9ms/step - loss: 1.5609e-04 - root_mean_squared_error: 0.0125 - val_loss: 3.0828e-04 - val_root_mean_squared_error: 0.0176\n",
            "Epoch 78/100\n",
            "7/7 [==============================] - 0s 9ms/step - loss: 1.5125e-04 - root_mean_squared_error: 0.0123 - val_loss: 3.0419e-04 - val_root_mean_squared_error: 0.0174\n",
            "Epoch 79/100\n",
            "7/7 [==============================] - 0s 9ms/step - loss: 1.4689e-04 - root_mean_squared_error: 0.0121 - val_loss: 3.4409e-04 - val_root_mean_squared_error: 0.0185\n",
            "Epoch 80/100\n",
            "7/7 [==============================] - 0s 10ms/step - loss: 1.5760e-04 - root_mean_squared_error: 0.0126 - val_loss: 3.5762e-04 - val_root_mean_squared_error: 0.0189\n",
            "Epoch 81/100\n",
            "7/7 [==============================] - 0s 9ms/step - loss: 1.6204e-04 - root_mean_squared_error: 0.0127 - val_loss: 3.1941e-04 - val_root_mean_squared_error: 0.0179\n",
            "Epoch 82/100\n",
            "7/7 [==============================] - 0s 12ms/step - loss: 1.4399e-04 - root_mean_squared_error: 0.0120 - val_loss: 3.1979e-04 - val_root_mean_squared_error: 0.0179\n",
            "Epoch 83/100\n",
            "7/7 [==============================] - 0s 9ms/step - loss: 1.5290e-04 - root_mean_squared_error: 0.0124 - val_loss: 3.2463e-04 - val_root_mean_squared_error: 0.0180\n",
            "Epoch 84/100\n",
            "7/7 [==============================] - 0s 9ms/step - loss: 1.3857e-04 - root_mean_squared_error: 0.0118 - val_loss: 3.0427e-04 - val_root_mean_squared_error: 0.0174\n",
            "Epoch 85/100\n",
            "7/7 [==============================] - 0s 9ms/step - loss: 1.3371e-04 - root_mean_squared_error: 0.0116 - val_loss: 3.0596e-04 - val_root_mean_squared_error: 0.0175\n",
            "Epoch 86/100\n",
            "7/7 [==============================] - 0s 9ms/step - loss: 1.3281e-04 - root_mean_squared_error: 0.0115 - val_loss: 3.7903e-04 - val_root_mean_squared_error: 0.0195\n",
            "Epoch 87/100\n",
            "1/7 [===>..........................] - ETA: 0s - loss: 1.9072e-04 - root_mean_squared_error: 0.0138"
          ]
        },
        {
          "output_type": "stream",
          "name": "stderr",
          "text": [
            "WARNING:absl:Found untraced functions such as lstm_cell_14_layer_call_fn, lstm_cell_14_layer_call_and_return_conditional_losses, lstm_cell_15_layer_call_fn, lstm_cell_15_layer_call_and_return_conditional_losses while saving (showing 4 of 4). These functions will not be directly callable after loading.\n",
            "WARNING:absl:<keras.layers.recurrent.LSTMCell object at 0x7fed19b4d750> has the same name 'LSTMCell' as a built-in Keras object. Consider renaming <class 'keras.layers.recurrent.LSTMCell'> to avoid naming conflicts when loading with `tf.keras.models.load_model`. If renaming is not possible, pass the object in the `custom_objects` parameter of the load function.\n",
            "WARNING:absl:<keras.layers.recurrent.LSTMCell object at 0x7fed9d65c510> has the same name 'LSTMCell' as a built-in Keras object. Consider renaming <class 'keras.layers.recurrent.LSTMCell'> to avoid naming conflicts when loading with `tf.keras.models.load_model`. If renaming is not possible, pass the object in the `custom_objects` parameter of the load function.\n"
          ]
        },
        {
          "output_type": "stream",
          "name": "stdout",
          "text": [
            "\b\b\b\b\b\b\b\b\b\b\b\b\b\b\b\b\b\b\b\b\b\b\b\b\b\b\b\b\b\b\b\b\b\b\b\b\b\b\b\b\b\b\b\b\b\b\b\b\b\b\b\b\b\b\b\b\b\b\b\b\b\b\b\b\b\b\b\b\b\b\b\b\b\b\b\b\b\b\b\b\b\b\b\b\b\b\b\b\b\b\b\b\b\b\b\b\b\b\b\r7/7 [==============================] - 8s 1s/step - loss: 2.0506e-04 - root_mean_squared_error: 0.0143 - val_loss: 3.0235e-04 - val_root_mean_squared_error: 0.0174\n",
            "Epoch 88/100\n",
            "7/7 [==============================] - 0s 9ms/step - loss: 1.8837e-04 - root_mean_squared_error: 0.0137 - val_loss: 4.2279e-04 - val_root_mean_squared_error: 0.0206\n",
            "Epoch 89/100\n",
            "7/7 [==============================] - 0s 9ms/step - loss: 1.9047e-04 - root_mean_squared_error: 0.0138 - val_loss: 3.5672e-04 - val_root_mean_squared_error: 0.0189\n",
            "Epoch 90/100\n",
            "7/7 [==============================] - 0s 9ms/step - loss: 1.4816e-04 - root_mean_squared_error: 0.0122 - val_loss: 3.2153e-04 - val_root_mean_squared_error: 0.0179\n",
            "Epoch 91/100\n",
            "7/7 [==============================] - 0s 13ms/step - loss: 1.4772e-04 - root_mean_squared_error: 0.0122 - val_loss: 3.2823e-04 - val_root_mean_squared_error: 0.0181\n",
            "Epoch 92/100\n",
            "7/7 [==============================] - 0s 9ms/step - loss: 1.4981e-04 - root_mean_squared_error: 0.0122 - val_loss: 3.4527e-04 - val_root_mean_squared_error: 0.0186\n",
            "Epoch 93/100\n",
            "7/7 [==============================] - 0s 9ms/step - loss: 1.4462e-04 - root_mean_squared_error: 0.0120 - val_loss: 3.8233e-04 - val_root_mean_squared_error: 0.0196\n",
            "Epoch 94/100\n",
            "7/7 [==============================] - 0s 9ms/step - loss: 1.4950e-04 - root_mean_squared_error: 0.0122 - val_loss: 3.1232e-04 - val_root_mean_squared_error: 0.0177\n",
            "Epoch 95/100\n",
            "7/7 [==============================] - 0s 10ms/step - loss: 1.2721e-04 - root_mean_squared_error: 0.0113 - val_loss: 3.0506e-04 - val_root_mean_squared_error: 0.0175\n",
            "Epoch 96/100\n",
            "7/7 [==============================] - 0s 9ms/step - loss: 1.2563e-04 - root_mean_squared_error: 0.0112 - val_loss: 3.0470e-04 - val_root_mean_squared_error: 0.0175\n",
            "Epoch 97/100\n",
            "7/7 [==============================] - 0s 9ms/step - loss: 1.3626e-04 - root_mean_squared_error: 0.0117 - val_loss: 3.9878e-04 - val_root_mean_squared_error: 0.0200\n",
            "Epoch 98/100\n",
            "7/7 [==============================] - 0s 9ms/step - loss: 1.4675e-04 - root_mean_squared_error: 0.0121 - val_loss: 3.0420e-04 - val_root_mean_squared_error: 0.0174\n",
            "Epoch 99/100\n",
            "7/7 [==============================] - 0s 10ms/step - loss: 1.2322e-04 - root_mean_squared_error: 0.0111 - val_loss: 3.3163e-04 - val_root_mean_squared_error: 0.0182\n",
            "Epoch 100/100\n",
            "7/7 [==============================] - 0s 12ms/step - loss: 1.2229e-04 - root_mean_squared_error: 0.0111 - val_loss: 3.3436e-04 - val_root_mean_squared_error: 0.0183\n"
          ]
        },
        {
          "output_type": "execute_result",
          "data": {
            "text/plain": [
              "<keras.callbacks.History at 0x7fec50401210>"
            ]
          },
          "metadata": {},
          "execution_count": 35
        }
      ],
      "source": [
        "model5.fit(X_train, y_train, validation_data=(X_val, y_val), epochs=100, callbacks=[cp5])"
      ]
    },
    {
      "cell_type": "code",
      "execution_count": 36,
      "metadata": {
        "colab": {
          "base_uri": "https://localhost:8080/"
        },
        "id": "so2oJxHZXaWW",
        "outputId": "584dfa3a-46ef-4e6f-e356-cc4177f755db"
      },
      "outputs": [
        {
          "output_type": "stream",
          "name": "stderr",
          "text": [
            "WARNING:tensorflow:5 out of the last 11 calls to <function Model.make_predict_function.<locals>.predict_function at 0x7fec4d0cbef0> triggered tf.function retracing. Tracing is expensive and the excessive number of tracings could be due to (1) creating @tf.function repeatedly in a loop, (2) passing tensors with different shapes, (3) passing Python objects instead of tensors. For (1), please define your @tf.function outside of the loop. For (2), @tf.function has experimental_relax_shapes=True option that relaxes argument shapes that can avoid unnecessary retracing. For (3), please refer to https://www.tensorflow.org/guide/function#controlling_retracing and https://www.tensorflow.org/api_docs/python/tf/function for  more details.\n"
          ]
        },
        {
          "output_type": "stream",
          "name": "stdout",
          "text": [
            "Mean Absolute error  0.014229314\n",
            "Mean Squared error  0.00034964454\n",
            "R2 score  0.5324314942164843\n"
          ]
        }
      ],
      "source": [
        "model5 = load_model('model5/')\n",
        "test5_predictions = model5.predict(X_test).flatten()\n",
        "print(\"Mean Absolute error \", mean_absolute_error(  y_test, test5_predictions  ))\n",
        "print(\"Mean Squared error \", mean_squared_error(  y_test, test5_predictions  ))\n",
        "print(\"R2 score \",r2_score(  y_test, test5_predictions  ))\n"
      ]
    },
    {
      "cell_type": "code",
      "execution_count": 37,
      "metadata": {
        "colab": {
          "base_uri": "https://localhost:8080/"
        },
        "id": "CCQcsXwSliZg",
        "outputId": "66ec055a-7eb6-4a43-a94b-4b6594823f2e"
      },
      "outputs": [
        {
          "output_type": "stream",
          "name": "stdout",
          "text": [
            "Model: \"sequential_5\"\n",
            "_________________________________________________________________\n",
            " Layer (type)                Output Shape              Param #   \n",
            "=================================================================\n",
            " conv1d_3 (Conv1D)           (None, 3, 64)             384       \n",
            "                                                                 \n",
            " conv1d_4 (Conv1D)           (None, 3, 128)            41088     \n",
            "                                                                 \n",
            " gru_1 (GRU)                 (None, 3, 64)             37248     \n",
            "                                                                 \n",
            " gru_2 (GRU)                 (None, 32)                9408      \n",
            "                                                                 \n",
            " dense_11 (Dense)            (None, 1)                 33        \n",
            "                                                                 \n",
            "=================================================================\n",
            "Total params: 88,161\n",
            "Trainable params: 88,161\n",
            "Non-trainable params: 0\n",
            "_________________________________________________________________\n"
          ]
        }
      ],
      "source": [
        "model6 = Sequential([\n",
        "               layers.Input((3, 1)),\n",
        "              layers.Conv1D(filters=64,kernel_size=5,strides=1,activation='relu',padding='same'),\n",
        "                layers.Conv1D(filters=128,kernel_size=5,strides=1,activation='relu',padding='same'),\n",
        "               layers.GRU(64, return_sequences=True),\n",
        "              layers.GRU(32),\n",
        "              layers.Dense(1),\n",
        "            ])\n",
        "cp6 = ModelCheckpoint('model6/', save_best_only=True)\n",
        "model6.compile(loss=MeanSquaredError(), \n",
        "              optimizer=Adam(learning_rate=0.001),\n",
        "              metrics=[RootMeanSquaredError()])\n",
        "\n",
        "model6.summary()"
      ]
    },
    {
      "cell_type": "code",
      "execution_count": 38,
      "metadata": {
        "colab": {
          "base_uri": "https://localhost:8080/"
        },
        "id": "oiCdQoHhlrNw",
        "outputId": "f1db3af3-9f2e-4d22-ecdb-fcabdb586f37"
      },
      "outputs": [
        {
          "output_type": "stream",
          "name": "stdout",
          "text": [
            "Epoch 1/100\n",
            "1/7 [===>..........................] - ETA: 20s - loss: 0.7608 - root_mean_squared_error: 0.8722"
          ]
        },
        {
          "output_type": "stream",
          "name": "stderr",
          "text": [
            "WARNING:absl:Found untraced functions such as gru_cell_3_layer_call_fn, gru_cell_3_layer_call_and_return_conditional_losses, gru_cell_4_layer_call_fn, gru_cell_4_layer_call_and_return_conditional_losses while saving (showing 4 of 4). These functions will not be directly callable after loading.\n",
            "WARNING:absl:<keras.layers.recurrent.GRUCell object at 0x7fec51167d90> has the same name 'GRUCell' as a built-in Keras object. Consider renaming <class 'keras.layers.recurrent.GRUCell'> to avoid naming conflicts when loading with `tf.keras.models.load_model`. If renaming is not possible, pass the object in the `custom_objects` parameter of the load function.\n",
            "WARNING:absl:<keras.layers.recurrent.GRUCell object at 0x7fee0a8e8e90> has the same name 'GRUCell' as a built-in Keras object. Consider renaming <class 'keras.layers.recurrent.GRUCell'> to avoid naming conflicts when loading with `tf.keras.models.load_model`. If renaming is not possible, pass the object in the `custom_objects` parameter of the load function.\n"
          ]
        },
        {
          "output_type": "stream",
          "name": "stdout",
          "text": [
            "\b\b\b\b\b\b\b\b\b\b\b\b\b\b\b\b\b\b\b\b\b\b\b\b\b\b\b\b\b\b\b\b\b\b\b\b\b\b\b\b\b\b\b\b\b\b\b\b\b\b\b\b\b\b\b\b\b\b\b\b\b\b\b\b\b\b\b\b\b\b\b\b\b\b\b\b\b\b\b\b\b\b\b\b\b\b\b\b\b\b\b\b\b\b\b\b\r7/7 [==============================] - 10s 1s/step - loss: 0.3900 - root_mean_squared_error: 0.6245 - val_loss: 0.0017 - val_root_mean_squared_error: 0.0410\n",
            "Epoch 2/100\n",
            "7/7 [==============================] - 0s 9ms/step - loss: 0.0653 - root_mean_squared_error: 0.2556 - val_loss: 0.0020 - val_root_mean_squared_error: 0.0443\n",
            "Epoch 3/100\n",
            "7/7 [==============================] - 0s 9ms/step - loss: 0.0129 - root_mean_squared_error: 0.1135 - val_loss: 0.0387 - val_root_mean_squared_error: 0.1968\n",
            "Epoch 4/100\n",
            "1/7 [===>..........................] - ETA: 0s - loss: 0.0312 - root_mean_squared_error: 0.1767"
          ]
        },
        {
          "output_type": "stream",
          "name": "stderr",
          "text": [
            "WARNING:absl:Found untraced functions such as gru_cell_3_layer_call_fn, gru_cell_3_layer_call_and_return_conditional_losses, gru_cell_4_layer_call_fn, gru_cell_4_layer_call_and_return_conditional_losses while saving (showing 4 of 4). These functions will not be directly callable after loading.\n",
            "WARNING:absl:<keras.layers.recurrent.GRUCell object at 0x7fec51167d90> has the same name 'GRUCell' as a built-in Keras object. Consider renaming <class 'keras.layers.recurrent.GRUCell'> to avoid naming conflicts when loading with `tf.keras.models.load_model`. If renaming is not possible, pass the object in the `custom_objects` parameter of the load function.\n",
            "WARNING:absl:<keras.layers.recurrent.GRUCell object at 0x7fee0a8e8e90> has the same name 'GRUCell' as a built-in Keras object. Consider renaming <class 'keras.layers.recurrent.GRUCell'> to avoid naming conflicts when loading with `tf.keras.models.load_model`. If renaming is not possible, pass the object in the `custom_objects` parameter of the load function.\n"
          ]
        },
        {
          "output_type": "stream",
          "name": "stdout",
          "text": [
            "\b\b\b\b\b\b\b\b\b\b\b\b\b\b\b\b\b\b\b\b\b\b\b\b\b\b\b\b\b\b\b\b\b\b\b\b\b\b\b\b\b\b\b\b\b\b\b\b\b\b\b\b\b\b\b\b\b\b\b\b\b\b\b\b\b\b\b\b\b\b\b\b\b\b\b\b\b\b\b\b\b\b\b\b\b\b\b\b\b\b\b\b\b\b\b\r7/7 [==============================] - 6s 1s/step - loss: 0.0148 - root_mean_squared_error: 0.1216 - val_loss: 4.4687e-04 - val_root_mean_squared_error: 0.0211\n",
            "Epoch 5/100\n",
            "7/7 [==============================] - 0s 9ms/step - loss: 0.0063 - root_mean_squared_error: 0.0791 - val_loss: 0.0017 - val_root_mean_squared_error: 0.0417\n",
            "Epoch 6/100\n",
            "7/7 [==============================] - 0s 9ms/step - loss: 0.0017 - root_mean_squared_error: 0.0414 - val_loss: 0.0055 - val_root_mean_squared_error: 0.0744\n",
            "Epoch 7/100\n",
            "7/7 [==============================] - 0s 9ms/step - loss: 0.0023 - root_mean_squared_error: 0.0482 - val_loss: 5.7642e-04 - val_root_mean_squared_error: 0.0240\n",
            "Epoch 8/100\n",
            "1/7 [===>..........................] - ETA: 0s - loss: 6.6489e-04 - root_mean_squared_error: 0.0258"
          ]
        },
        {
          "output_type": "stream",
          "name": "stderr",
          "text": [
            "WARNING:absl:Found untraced functions such as gru_cell_3_layer_call_fn, gru_cell_3_layer_call_and_return_conditional_losses, gru_cell_4_layer_call_fn, gru_cell_4_layer_call_and_return_conditional_losses while saving (showing 4 of 4). These functions will not be directly callable after loading.\n",
            "WARNING:absl:<keras.layers.recurrent.GRUCell object at 0x7fec51167d90> has the same name 'GRUCell' as a built-in Keras object. Consider renaming <class 'keras.layers.recurrent.GRUCell'> to avoid naming conflicts when loading with `tf.keras.models.load_model`. If renaming is not possible, pass the object in the `custom_objects` parameter of the load function.\n",
            "WARNING:absl:<keras.layers.recurrent.GRUCell object at 0x7fee0a8e8e90> has the same name 'GRUCell' as a built-in Keras object. Consider renaming <class 'keras.layers.recurrent.GRUCell'> to avoid naming conflicts when loading with `tf.keras.models.load_model`. If renaming is not possible, pass the object in the `custom_objects` parameter of the load function.\n"
          ]
        },
        {
          "output_type": "stream",
          "name": "stdout",
          "text": [
            "\b\b\b\b\b\b\b\b\b\b\b\b\b\b\b\b\b\b\b\b\b\b\b\b\b\b\b\b\b\b\b\b\b\b\b\b\b\b\b\b\b\b\b\b\b\b\b\b\b\b\b\b\b\b\b\b\b\b\b\b\b\b\b\b\b\b\b\b\b\b\b\b\b\b\b\b\b\b\b\b\b\b\b\b\b\b\b\b\b\b\b\b\b\b\b\b\b\b\b\r7/7 [==============================] - 7s 1s/step - loss: 0.0014 - root_mean_squared_error: 0.0375 - val_loss: 3.3313e-04 - val_root_mean_squared_error: 0.0183\n",
            "Epoch 9/100\n",
            "7/7 [==============================] - 0s 9ms/step - loss: 9.5591e-04 - root_mean_squared_error: 0.0309 - val_loss: 0.0021 - val_root_mean_squared_error: 0.0453\n",
            "Epoch 10/100\n",
            "7/7 [==============================] - 0s 8ms/step - loss: 9.1136e-04 - root_mean_squared_error: 0.0302 - val_loss: 4.7332e-04 - val_root_mean_squared_error: 0.0218\n",
            "Epoch 11/100\n",
            "7/7 [==============================] - 0s 9ms/step - loss: 8.9019e-04 - root_mean_squared_error: 0.0298 - val_loss: 7.4318e-04 - val_root_mean_squared_error: 0.0273\n",
            "Epoch 12/100\n",
            "7/7 [==============================] - 0s 9ms/step - loss: 8.8214e-04 - root_mean_squared_error: 0.0297 - val_loss: 0.0012 - val_root_mean_squared_error: 0.0348\n",
            "Epoch 13/100\n",
            "7/7 [==============================] - 0s 9ms/step - loss: 7.7476e-04 - root_mean_squared_error: 0.0278 - val_loss: 5.9277e-04 - val_root_mean_squared_error: 0.0243\n",
            "Epoch 14/100\n",
            "7/7 [==============================] - 0s 9ms/step - loss: 7.4628e-04 - root_mean_squared_error: 0.0273 - val_loss: 9.6925e-04 - val_root_mean_squared_error: 0.0311\n",
            "Epoch 15/100\n",
            "7/7 [==============================] - 0s 8ms/step - loss: 7.5226e-04 - root_mean_squared_error: 0.0274 - val_loss: 6.1377e-04 - val_root_mean_squared_error: 0.0248\n",
            "Epoch 16/100\n",
            "7/7 [==============================] - 0s 9ms/step - loss: 7.1770e-04 - root_mean_squared_error: 0.0268 - val_loss: 7.1414e-04 - val_root_mean_squared_error: 0.0267\n",
            "Epoch 17/100\n",
            "7/7 [==============================] - 0s 8ms/step - loss: 7.0908e-04 - root_mean_squared_error: 0.0266 - val_loss: 6.3671e-04 - val_root_mean_squared_error: 0.0252\n",
            "Epoch 18/100\n",
            "7/7 [==============================] - 0s 8ms/step - loss: 7.0118e-04 - root_mean_squared_error: 0.0265 - val_loss: 9.0989e-04 - val_root_mean_squared_error: 0.0302\n",
            "Epoch 19/100\n",
            "7/7 [==============================] - 0s 8ms/step - loss: 6.8561e-04 - root_mean_squared_error: 0.0262 - val_loss: 6.2980e-04 - val_root_mean_squared_error: 0.0251\n",
            "Epoch 20/100\n",
            "7/7 [==============================] - 0s 9ms/step - loss: 6.6928e-04 - root_mean_squared_error: 0.0259 - val_loss: 7.9833e-04 - val_root_mean_squared_error: 0.0283\n",
            "Epoch 21/100\n",
            "7/7 [==============================] - 0s 9ms/step - loss: 6.9520e-04 - root_mean_squared_error: 0.0264 - val_loss: 6.9102e-04 - val_root_mean_squared_error: 0.0263\n",
            "Epoch 22/100\n",
            "7/7 [==============================] - 0s 9ms/step - loss: 6.5167e-04 - root_mean_squared_error: 0.0255 - val_loss: 7.6154e-04 - val_root_mean_squared_error: 0.0276\n",
            "Epoch 23/100\n",
            "7/7 [==============================] - 0s 8ms/step - loss: 6.3632e-04 - root_mean_squared_error: 0.0252 - val_loss: 5.4336e-04 - val_root_mean_squared_error: 0.0233\n",
            "Epoch 24/100\n",
            "7/7 [==============================] - 0s 11ms/step - loss: 6.3239e-04 - root_mean_squared_error: 0.0251 - val_loss: 7.3058e-04 - val_root_mean_squared_error: 0.0270\n",
            "Epoch 25/100\n",
            "7/7 [==============================] - 0s 9ms/step - loss: 6.2663e-04 - root_mean_squared_error: 0.0250 - val_loss: 6.0017e-04 - val_root_mean_squared_error: 0.0245\n",
            "Epoch 26/100\n",
            "7/7 [==============================] - 0s 8ms/step - loss: 6.0395e-04 - root_mean_squared_error: 0.0246 - val_loss: 5.6701e-04 - val_root_mean_squared_error: 0.0238\n",
            "Epoch 27/100\n",
            "7/7 [==============================] - 0s 9ms/step - loss: 6.0969e-04 - root_mean_squared_error: 0.0247 - val_loss: 6.9474e-04 - val_root_mean_squared_error: 0.0264\n",
            "Epoch 28/100\n",
            "7/7 [==============================] - 0s 10ms/step - loss: 6.0774e-04 - root_mean_squared_error: 0.0247 - val_loss: 4.4998e-04 - val_root_mean_squared_error: 0.0212\n",
            "Epoch 29/100\n",
            "7/7 [==============================] - 0s 9ms/step - loss: 6.0322e-04 - root_mean_squared_error: 0.0246 - val_loss: 6.2898e-04 - val_root_mean_squared_error: 0.0251\n",
            "Epoch 30/100\n",
            "7/7 [==============================] - 0s 9ms/step - loss: 5.4705e-04 - root_mean_squared_error: 0.0234 - val_loss: 5.0487e-04 - val_root_mean_squared_error: 0.0225\n",
            "Epoch 31/100\n",
            "7/7 [==============================] - 0s 9ms/step - loss: 5.3585e-04 - root_mean_squared_error: 0.0231 - val_loss: 7.7138e-04 - val_root_mean_squared_error: 0.0278\n",
            "Epoch 32/100\n",
            "7/7 [==============================] - 0s 9ms/step - loss: 5.6844e-04 - root_mean_squared_error: 0.0238 - val_loss: 3.9889e-04 - val_root_mean_squared_error: 0.0200\n",
            "Epoch 33/100\n",
            "7/7 [==============================] - 0s 9ms/step - loss: 6.1368e-04 - root_mean_squared_error: 0.0248 - val_loss: 8.2654e-04 - val_root_mean_squared_error: 0.0287\n",
            "Epoch 34/100\n",
            "7/7 [==============================] - 0s 9ms/step - loss: 5.8318e-04 - root_mean_squared_error: 0.0241 - val_loss: 3.8317e-04 - val_root_mean_squared_error: 0.0196\n",
            "Epoch 35/100\n",
            "7/7 [==============================] - 0s 9ms/step - loss: 5.2236e-04 - root_mean_squared_error: 0.0229 - val_loss: 6.6386e-04 - val_root_mean_squared_error: 0.0258\n",
            "Epoch 36/100\n",
            "7/7 [==============================] - 0s 9ms/step - loss: 4.9171e-04 - root_mean_squared_error: 0.0222 - val_loss: 4.3844e-04 - val_root_mean_squared_error: 0.0209\n",
            "Epoch 37/100\n",
            "7/7 [==============================] - 0s 9ms/step - loss: 4.5642e-04 - root_mean_squared_error: 0.0214 - val_loss: 8.0255e-04 - val_root_mean_squared_error: 0.0283\n",
            "Epoch 38/100\n",
            "7/7 [==============================] - 0s 12ms/step - loss: 5.5485e-04 - root_mean_squared_error: 0.0236 - val_loss: 3.3509e-04 - val_root_mean_squared_error: 0.0183\n",
            "Epoch 39/100\n",
            "7/7 [==============================] - 0s 9ms/step - loss: 4.6330e-04 - root_mean_squared_error: 0.0215 - val_loss: 9.7466e-04 - val_root_mean_squared_error: 0.0312\n",
            "Epoch 40/100\n",
            "1/7 [===>..........................] - ETA: 0s - loss: 7.5232e-04 - root_mean_squared_error: 0.0274"
          ]
        },
        {
          "output_type": "stream",
          "name": "stderr",
          "text": [
            "WARNING:absl:Found untraced functions such as gru_cell_3_layer_call_fn, gru_cell_3_layer_call_and_return_conditional_losses, gru_cell_4_layer_call_fn, gru_cell_4_layer_call_and_return_conditional_losses while saving (showing 4 of 4). These functions will not be directly callable after loading.\n",
            "WARNING:absl:<keras.layers.recurrent.GRUCell object at 0x7fec51167d90> has the same name 'GRUCell' as a built-in Keras object. Consider renaming <class 'keras.layers.recurrent.GRUCell'> to avoid naming conflicts when loading with `tf.keras.models.load_model`. If renaming is not possible, pass the object in the `custom_objects` parameter of the load function.\n",
            "WARNING:absl:<keras.layers.recurrent.GRUCell object at 0x7fee0a8e8e90> has the same name 'GRUCell' as a built-in Keras object. Consider renaming <class 'keras.layers.recurrent.GRUCell'> to avoid naming conflicts when loading with `tf.keras.models.load_model`. If renaming is not possible, pass the object in the `custom_objects` parameter of the load function.\n"
          ]
        },
        {
          "output_type": "stream",
          "name": "stdout",
          "text": [
            "\b\b\b\b\b\b\b\b\b\b\b\b\b\b\b\b\b\b\b\b\b\b\b\b\b\b\b\b\b\b\b\b\b\b\b\b\b\b\b\b\b\b\b\b\b\b\b\b\b\b\b\b\b\b\b\b\b\b\b\b\b\b\b\b\b\b\b\b\b\b\b\b\b\b\b\b\b\b\b\b\b\b\b\b\b\b\b\b\b\b\b\b\b\b\b\b\b\b\b\r7/7 [==============================] - 6s 1s/step - loss: 5.4168e-04 - root_mean_squared_error: 0.0233 - val_loss: 3.1618e-04 - val_root_mean_squared_error: 0.0178\n",
            "Epoch 41/100\n",
            "7/7 [==============================] - 0s 9ms/step - loss: 5.0897e-04 - root_mean_squared_error: 0.0226 - val_loss: 8.1239e-04 - val_root_mean_squared_error: 0.0285\n",
            "Epoch 42/100\n",
            "7/7 [==============================] - 0s 12ms/step - loss: 4.4930e-04 - root_mean_squared_error: 0.0212 - val_loss: 3.3326e-04 - val_root_mean_squared_error: 0.0183\n",
            "Epoch 43/100\n",
            "7/7 [==============================] - 0s 9ms/step - loss: 4.1133e-04 - root_mean_squared_error: 0.0203 - val_loss: 5.6226e-04 - val_root_mean_squared_error: 0.0237\n",
            "Epoch 44/100\n",
            "7/7 [==============================] - 0s 11ms/step - loss: 3.9801e-04 - root_mean_squared_error: 0.0200 - val_loss: 3.8460e-04 - val_root_mean_squared_error: 0.0196\n",
            "Epoch 45/100\n",
            "7/7 [==============================] - 0s 12ms/step - loss: 3.7332e-04 - root_mean_squared_error: 0.0193 - val_loss: 4.6204e-04 - val_root_mean_squared_error: 0.0215\n",
            "Epoch 46/100\n",
            "7/7 [==============================] - 0s 10ms/step - loss: 3.5824e-04 - root_mean_squared_error: 0.0189 - val_loss: 3.8128e-04 - val_root_mean_squared_error: 0.0195\n",
            "Epoch 47/100\n",
            "7/7 [==============================] - 0s 9ms/step - loss: 3.5204e-04 - root_mean_squared_error: 0.0188 - val_loss: 4.1020e-04 - val_root_mean_squared_error: 0.0203\n",
            "Epoch 48/100\n",
            "7/7 [==============================] - 0s 9ms/step - loss: 3.4952e-04 - root_mean_squared_error: 0.0187 - val_loss: 4.9372e-04 - val_root_mean_squared_error: 0.0222\n",
            "Epoch 49/100\n",
            "7/7 [==============================] - 0s 9ms/step - loss: 3.3368e-04 - root_mean_squared_error: 0.0183 - val_loss: 3.3336e-04 - val_root_mean_squared_error: 0.0183\n",
            "Epoch 50/100\n",
            "7/7 [==============================] - 0s 12ms/step - loss: 3.4006e-04 - root_mean_squared_error: 0.0184 - val_loss: 5.9624e-04 - val_root_mean_squared_error: 0.0244\n",
            "Epoch 51/100\n",
            "7/7 [==============================] - 0s 9ms/step - loss: 3.4552e-04 - root_mean_squared_error: 0.0186 - val_loss: 3.3688e-04 - val_root_mean_squared_error: 0.0184\n",
            "Epoch 52/100\n",
            "7/7 [==============================] - 0s 9ms/step - loss: 3.1175e-04 - root_mean_squared_error: 0.0177 - val_loss: 3.6594e-04 - val_root_mean_squared_error: 0.0191\n",
            "Epoch 53/100\n",
            "7/7 [==============================] - 0s 9ms/step - loss: 2.9630e-04 - root_mean_squared_error: 0.0172 - val_loss: 4.5180e-04 - val_root_mean_squared_error: 0.0213\n",
            "Epoch 54/100\n",
            "1/7 [===>..........................] - ETA: 0s - loss: 2.9182e-04 - root_mean_squared_error: 0.0171"
          ]
        },
        {
          "output_type": "stream",
          "name": "stderr",
          "text": [
            "WARNING:absl:Found untraced functions such as gru_cell_3_layer_call_fn, gru_cell_3_layer_call_and_return_conditional_losses, gru_cell_4_layer_call_fn, gru_cell_4_layer_call_and_return_conditional_losses while saving (showing 4 of 4). These functions will not be directly callable after loading.\n",
            "WARNING:absl:<keras.layers.recurrent.GRUCell object at 0x7fec51167d90> has the same name 'GRUCell' as a built-in Keras object. Consider renaming <class 'keras.layers.recurrent.GRUCell'> to avoid naming conflicts when loading with `tf.keras.models.load_model`. If renaming is not possible, pass the object in the `custom_objects` parameter of the load function.\n",
            "WARNING:absl:<keras.layers.recurrent.GRUCell object at 0x7fee0a8e8e90> has the same name 'GRUCell' as a built-in Keras object. Consider renaming <class 'keras.layers.recurrent.GRUCell'> to avoid naming conflicts when loading with `tf.keras.models.load_model`. If renaming is not possible, pass the object in the `custom_objects` parameter of the load function.\n"
          ]
        },
        {
          "output_type": "stream",
          "name": "stdout",
          "text": [
            "\b\b\b\b\b\b\b\b\b\b\b\b\b\b\b\b\b\b\b\b\b\b\b\b\b\b\b\b\b\b\b\b\b\b\b\b\b\b\b\b\b\b\b\b\b\b\b\b\b\b\b\b\b\b\b\b\b\b\b\b\b\b\b\b\b\b\b\b\b\b\b\b\b\b\b\b\b\b\b\b\b\b\b\b\b\b\b\b\b\b\b\b\b\b\b\b\b\b\b\r7/7 [==============================] - 7s 1s/step - loss: 3.0543e-04 - root_mean_squared_error: 0.0175 - val_loss: 3.1160e-04 - val_root_mean_squared_error: 0.0177\n",
            "Epoch 55/100\n",
            "7/7 [==============================] - 0s 9ms/step - loss: 2.9513e-04 - root_mean_squared_error: 0.0172 - val_loss: 4.6576e-04 - val_root_mean_squared_error: 0.0216\n",
            "Epoch 56/100\n",
            "7/7 [==============================] - 0s 10ms/step - loss: 2.7121e-04 - root_mean_squared_error: 0.0165 - val_loss: 3.1490e-04 - val_root_mean_squared_error: 0.0177\n",
            "Epoch 57/100\n",
            "7/7 [==============================] - 0s 9ms/step - loss: 2.8021e-04 - root_mean_squared_error: 0.0167 - val_loss: 3.7756e-04 - val_root_mean_squared_error: 0.0194\n",
            "Epoch 58/100\n",
            "7/7 [==============================] - 0s 12ms/step - loss: 2.6703e-04 - root_mean_squared_error: 0.0163 - val_loss: 3.2787e-04 - val_root_mean_squared_error: 0.0181\n",
            "Epoch 59/100\n",
            "7/7 [==============================] - 0s 8ms/step - loss: 2.7799e-04 - root_mean_squared_error: 0.0167 - val_loss: 4.8525e-04 - val_root_mean_squared_error: 0.0220\n",
            "Epoch 60/100\n",
            "7/7 [==============================] - 0s 12ms/step - loss: 2.7650e-04 - root_mean_squared_error: 0.0166 - val_loss: 3.5179e-04 - val_root_mean_squared_error: 0.0188\n",
            "Epoch 61/100\n",
            "1/7 [===>..........................] - ETA: 0s - loss: 3.2205e-04 - root_mean_squared_error: 0.0179"
          ]
        },
        {
          "output_type": "stream",
          "name": "stderr",
          "text": [
            "WARNING:absl:Found untraced functions such as gru_cell_3_layer_call_fn, gru_cell_3_layer_call_and_return_conditional_losses, gru_cell_4_layer_call_fn, gru_cell_4_layer_call_and_return_conditional_losses while saving (showing 4 of 4). These functions will not be directly callable after loading.\n",
            "WARNING:absl:<keras.layers.recurrent.GRUCell object at 0x7fec51167d90> has the same name 'GRUCell' as a built-in Keras object. Consider renaming <class 'keras.layers.recurrent.GRUCell'> to avoid naming conflicts when loading with `tf.keras.models.load_model`. If renaming is not possible, pass the object in the `custom_objects` parameter of the load function.\n",
            "WARNING:absl:<keras.layers.recurrent.GRUCell object at 0x7fee0a8e8e90> has the same name 'GRUCell' as a built-in Keras object. Consider renaming <class 'keras.layers.recurrent.GRUCell'> to avoid naming conflicts when loading with `tf.keras.models.load_model`. If renaming is not possible, pass the object in the `custom_objects` parameter of the load function.\n"
          ]
        },
        {
          "output_type": "stream",
          "name": "stdout",
          "text": [
            "\b\b\b\b\b\b\b\b\b\b\b\b\b\b\b\b\b\b\b\b\b\b\b\b\b\b\b\b\b\b\b\b\b\b\b\b\b\b\b\b\b\b\b\b\b\b\b\b\b\b\b\b\b\b\b\b\b\b\b\b\b\b\b\b\b\b\b\b\b\b\b\b\b\b\b\b\b\b\b\b\b\b\b\b\b\b\b\b\b\b\b\b\b\b\b\b\b\b\b\r7/7 [==============================] - 6s 1s/step - loss: 2.4236e-04 - root_mean_squared_error: 0.0156 - val_loss: 3.1055e-04 - val_root_mean_squared_error: 0.0176\n",
            "Epoch 62/100\n",
            "7/7 [==============================] - 0s 9ms/step - loss: 2.3747e-04 - root_mean_squared_error: 0.0154 - val_loss: 4.8614e-04 - val_root_mean_squared_error: 0.0220\n",
            "Epoch 63/100\n",
            "7/7 [==============================] - 0s 8ms/step - loss: 2.3175e-04 - root_mean_squared_error: 0.0152 - val_loss: 3.1150e-04 - val_root_mean_squared_error: 0.0176\n",
            "Epoch 64/100\n",
            "7/7 [==============================] - 0s 9ms/step - loss: 2.3690e-04 - root_mean_squared_error: 0.0154 - val_loss: 3.1321e-04 - val_root_mean_squared_error: 0.0177\n",
            "Epoch 65/100\n",
            "7/7 [==============================] - 0s 9ms/step - loss: 2.4435e-04 - root_mean_squared_error: 0.0156 - val_loss: 4.6783e-04 - val_root_mean_squared_error: 0.0216\n",
            "Epoch 66/100\n",
            "7/7 [==============================] - 0s 8ms/step - loss: 2.6095e-04 - root_mean_squared_error: 0.0162 - val_loss: 3.5755e-04 - val_root_mean_squared_error: 0.0189\n",
            "Epoch 67/100\n",
            "7/7 [==============================] - 0s 9ms/step - loss: 2.2323e-04 - root_mean_squared_error: 0.0149 - val_loss: 3.1080e-04 - val_root_mean_squared_error: 0.0176\n",
            "Epoch 68/100\n",
            "7/7 [==============================] - 0s 10ms/step - loss: 2.0579e-04 - root_mean_squared_error: 0.0143 - val_loss: 3.2757e-04 - val_root_mean_squared_error: 0.0181\n",
            "Epoch 69/100\n",
            "7/7 [==============================] - 0s 11ms/step - loss: 2.0440e-04 - root_mean_squared_error: 0.0143 - val_loss: 3.4837e-04 - val_root_mean_squared_error: 0.0187\n",
            "Epoch 70/100\n",
            "1/7 [===>..........................] - ETA: 0s - loss: 2.7804e-04 - root_mean_squared_error: 0.0167"
          ]
        },
        {
          "output_type": "stream",
          "name": "stderr",
          "text": [
            "WARNING:absl:Found untraced functions such as gru_cell_3_layer_call_fn, gru_cell_3_layer_call_and_return_conditional_losses, gru_cell_4_layer_call_fn, gru_cell_4_layer_call_and_return_conditional_losses while saving (showing 4 of 4). These functions will not be directly callable after loading.\n",
            "WARNING:absl:<keras.layers.recurrent.GRUCell object at 0x7fec51167d90> has the same name 'GRUCell' as a built-in Keras object. Consider renaming <class 'keras.layers.recurrent.GRUCell'> to avoid naming conflicts when loading with `tf.keras.models.load_model`. If renaming is not possible, pass the object in the `custom_objects` parameter of the load function.\n",
            "WARNING:absl:<keras.layers.recurrent.GRUCell object at 0x7fee0a8e8e90> has the same name 'GRUCell' as a built-in Keras object. Consider renaming <class 'keras.layers.recurrent.GRUCell'> to avoid naming conflicts when loading with `tf.keras.models.load_model`. If renaming is not possible, pass the object in the `custom_objects` parameter of the load function.\n"
          ]
        },
        {
          "output_type": "stream",
          "name": "stdout",
          "text": [
            "\b\b\b\b\b\b\b\b\b\b\b\b\b\b\b\b\b\b\b\b\b\b\b\b\b\b\b\b\b\b\b\b\b\b\b\b\b\b\b\b\b\b\b\b\b\b\b\b\b\b\b\b\b\b\b\b\b\b\b\b\b\b\b\b\b\b\b\b\b\b\b\b\b\b\b\b\b\b\b\b\b\b\b\b\b\b\b\b\b\b\b\b\b\b\b\b\b\b\b\r7/7 [==============================] - 6s 1s/step - loss: 1.8008e-04 - root_mean_squared_error: 0.0134 - val_loss: 3.1023e-04 - val_root_mean_squared_error: 0.0176\n",
            "Epoch 71/100\n",
            "7/7 [==============================] - 0s 9ms/step - loss: 1.8734e-04 - root_mean_squared_error: 0.0137 - val_loss: 3.1811e-04 - val_root_mean_squared_error: 0.0178\n",
            "Epoch 72/100\n",
            "7/7 [==============================] - 0s 12ms/step - loss: 1.7987e-04 - root_mean_squared_error: 0.0134 - val_loss: 3.1045e-04 - val_root_mean_squared_error: 0.0176\n",
            "Epoch 73/100\n",
            "7/7 [==============================] - 0s 9ms/step - loss: 1.8032e-04 - root_mean_squared_error: 0.0134 - val_loss: 3.1048e-04 - val_root_mean_squared_error: 0.0176\n",
            "Epoch 74/100\n",
            "7/7 [==============================] - 0s 9ms/step - loss: 2.0454e-04 - root_mean_squared_error: 0.0143 - val_loss: 4.0988e-04 - val_root_mean_squared_error: 0.0202\n",
            "Epoch 75/100\n",
            "7/7 [==============================] - 0s 9ms/step - loss: 1.8959e-04 - root_mean_squared_error: 0.0138 - val_loss: 3.2889e-04 - val_root_mean_squared_error: 0.0181\n",
            "Epoch 76/100\n",
            "7/7 [==============================] - 0s 9ms/step - loss: 1.8919e-04 - root_mean_squared_error: 0.0138 - val_loss: 3.1707e-04 - val_root_mean_squared_error: 0.0178\n",
            "Epoch 77/100\n",
            "7/7 [==============================] - 0s 9ms/step - loss: 1.6367e-04 - root_mean_squared_error: 0.0128 - val_loss: 3.7034e-04 - val_root_mean_squared_error: 0.0192\n",
            "Epoch 78/100\n",
            "7/7 [==============================] - 0s 9ms/step - loss: 1.8176e-04 - root_mean_squared_error: 0.0135 - val_loss: 3.1060e-04 - val_root_mean_squared_error: 0.0176\n",
            "Epoch 79/100\n",
            "7/7 [==============================] - 0s 11ms/step - loss: 1.5466e-04 - root_mean_squared_error: 0.0124 - val_loss: 3.1645e-04 - val_root_mean_squared_error: 0.0178\n",
            "Epoch 80/100\n",
            "7/7 [==============================] - 0s 9ms/step - loss: 1.5079e-04 - root_mean_squared_error: 0.0123 - val_loss: 3.2791e-04 - val_root_mean_squared_error: 0.0181\n",
            "Epoch 81/100\n",
            "7/7 [==============================] - 0s 12ms/step - loss: 1.5153e-04 - root_mean_squared_error: 0.0123 - val_loss: 3.5886e-04 - val_root_mean_squared_error: 0.0189\n",
            "Epoch 82/100\n",
            "7/7 [==============================] - 0s 10ms/step - loss: 1.9045e-04 - root_mean_squared_error: 0.0138 - val_loss: 4.1581e-04 - val_root_mean_squared_error: 0.0204\n",
            "Epoch 83/100\n",
            "7/7 [==============================] - 0s 10ms/step - loss: 2.4587e-04 - root_mean_squared_error: 0.0157 - val_loss: 3.7119e-04 - val_root_mean_squared_error: 0.0193\n",
            "Epoch 84/100\n",
            "7/7 [==============================] - 0s 9ms/step - loss: 1.9656e-04 - root_mean_squared_error: 0.0140 - val_loss: 3.1919e-04 - val_root_mean_squared_error: 0.0179\n",
            "Epoch 85/100\n",
            "7/7 [==============================] - 0s 9ms/step - loss: 1.4985e-04 - root_mean_squared_error: 0.0122 - val_loss: 3.2795e-04 - val_root_mean_squared_error: 0.0181\n",
            "Epoch 86/100\n",
            "7/7 [==============================] - 0s 8ms/step - loss: 1.4259e-04 - root_mean_squared_error: 0.0119 - val_loss: 3.1197e-04 - val_root_mean_squared_error: 0.0177\n",
            "Epoch 87/100\n",
            "7/7 [==============================] - 0s 9ms/step - loss: 1.3699e-04 - root_mean_squared_error: 0.0117 - val_loss: 3.1121e-04 - val_root_mean_squared_error: 0.0176\n",
            "Epoch 88/100\n",
            "7/7 [==============================] - 0s 8ms/step - loss: 1.3592e-04 - root_mean_squared_error: 0.0117 - val_loss: 3.1459e-04 - val_root_mean_squared_error: 0.0177\n",
            "Epoch 89/100\n",
            "7/7 [==============================] - 0s 9ms/step - loss: 1.3719e-04 - root_mean_squared_error: 0.0117 - val_loss: 3.1626e-04 - val_root_mean_squared_error: 0.0178\n",
            "Epoch 90/100\n",
            "7/7 [==============================] - 0s 9ms/step - loss: 1.3810e-04 - root_mean_squared_error: 0.0118 - val_loss: 3.1915e-04 - val_root_mean_squared_error: 0.0179\n",
            "Epoch 91/100\n",
            "7/7 [==============================] - 0s 9ms/step - loss: 1.3285e-04 - root_mean_squared_error: 0.0115 - val_loss: 3.1455e-04 - val_root_mean_squared_error: 0.0177\n",
            "Epoch 92/100\n",
            "7/7 [==============================] - 0s 9ms/step - loss: 1.3842e-04 - root_mean_squared_error: 0.0118 - val_loss: 3.1562e-04 - val_root_mean_squared_error: 0.0178\n",
            "Epoch 93/100\n",
            "7/7 [==============================] - 0s 9ms/step - loss: 1.3800e-04 - root_mean_squared_error: 0.0117 - val_loss: 3.5847e-04 - val_root_mean_squared_error: 0.0189\n",
            "Epoch 94/100\n",
            "7/7 [==============================] - 0s 9ms/step - loss: 1.3943e-04 - root_mean_squared_error: 0.0118 - val_loss: 3.1166e-04 - val_root_mean_squared_error: 0.0177\n",
            "Epoch 95/100\n",
            "7/7 [==============================] - 0s 9ms/step - loss: 1.3639e-04 - root_mean_squared_error: 0.0117 - val_loss: 3.1145e-04 - val_root_mean_squared_error: 0.0176\n",
            "Epoch 96/100\n",
            "7/7 [==============================] - 0s 8ms/step - loss: 1.3083e-04 - root_mean_squared_error: 0.0114 - val_loss: 3.8307e-04 - val_root_mean_squared_error: 0.0196\n",
            "Epoch 97/100\n",
            "7/7 [==============================] - 0s 10ms/step - loss: 1.6027e-04 - root_mean_squared_error: 0.0127 - val_loss: 4.3559e-04 - val_root_mean_squared_error: 0.0209\n",
            "Epoch 98/100\n",
            "7/7 [==============================] - 0s 9ms/step - loss: 2.0387e-04 - root_mean_squared_error: 0.0143 - val_loss: 3.2063e-04 - val_root_mean_squared_error: 0.0179\n",
            "Epoch 99/100\n",
            "7/7 [==============================] - 0s 9ms/step - loss: 1.4425e-04 - root_mean_squared_error: 0.0120 - val_loss: 3.5384e-04 - val_root_mean_squared_error: 0.0188\n",
            "Epoch 100/100\n",
            "7/7 [==============================] - 0s 9ms/step - loss: 1.7241e-04 - root_mean_squared_error: 0.0131 - val_loss: 3.1714e-04 - val_root_mean_squared_error: 0.0178\n"
          ]
        },
        {
          "output_type": "execute_result",
          "data": {
            "text/plain": [
              "<keras.callbacks.History at 0x7fec51ffa4d0>"
            ]
          },
          "metadata": {},
          "execution_count": 38
        }
      ],
      "source": [
        "model6.fit(X_train, y_train, validation_data=(X_val, y_val), epochs=100, callbacks=[cp6])"
      ]
    },
    {
      "cell_type": "code",
      "execution_count": 39,
      "metadata": {
        "colab": {
          "base_uri": "https://localhost:8080/"
        },
        "id": "AviLb7Hdlv6i",
        "outputId": "42f52770-f3b0-47b0-a262-c1c5768bffe6"
      },
      "outputs": [
        {
          "output_type": "stream",
          "name": "stdout",
          "text": [
            "Mean Absolute error  0.014229512\n",
            "Mean Squared error  0.0003588334\n",
            "R2 score  0.52014346360404\n"
          ]
        }
      ],
      "source": [
        "model6 = load_model('model6/')\n",
        "test6_predictions = model6.predict(X_test).flatten()\n",
        "print(\"Mean Absolute error \", mean_absolute_error(  y_test, test6_predictions  ))\n",
        "print(\"Mean Squared error \", mean_squared_error(  y_test, test6_predictions  ))\n",
        "print(\"R2 score \",r2_score(  y_test, test6_predictions  ))"
      ]
    },
    {
      "cell_type": "markdown",
      "source": [
        "# **Model with Bidirectional-GRU Layers**"
      ],
      "metadata": {
        "id": "2wRPcAj9900J"
      }
    },
    {
      "cell_type": "code",
      "execution_count": 40,
      "metadata": {
        "colab": {
          "base_uri": "https://localhost:8080/"
        },
        "id": "ATIqJSU0mE3F",
        "outputId": "3bfd4068-3c62-4bb6-bc18-4b5866c7ae5c"
      },
      "outputs": [
        {
          "output_type": "stream",
          "name": "stdout",
          "text": [
            "Model: \"sequential_6\"\n",
            "_________________________________________________________________\n",
            " Layer (type)                Output Shape              Param #   \n",
            "=================================================================\n",
            " bidirectional_2 (Bidirectio  (None, 3, 128)           25728     \n",
            " nal)                                                            \n",
            "                                                                 \n",
            " bidirectional_3 (Bidirectio  (None, 64)               31104     \n",
            " nal)                                                            \n",
            "                                                                 \n",
            " dense_12 (Dense)            (None, 1)                 65        \n",
            "                                                                 \n",
            "=================================================================\n",
            "Total params: 56,897\n",
            "Trainable params: 56,897\n",
            "Non-trainable params: 0\n",
            "_________________________________________________________________\n"
          ]
        }
      ],
      "source": [
        "import tensorflow as tf\n",
        "\n",
        "model7 = Sequential([\n",
        "               layers.Input((3, 1)),\n",
        "               layers.Bidirectional( tf.keras.layers.GRU(64, return_sequences=True)),\n",
        "              layers.Bidirectional( tf.keras.layers.GRU(32)),\n",
        "              layers.Dense(1),\n",
        "            ])\n",
        "cp7 = ModelCheckpoint('model7/', save_best_only=True)\n",
        "model7.compile(loss=MeanSquaredError(), \n",
        "              optimizer=Adam(learning_rate=0.001),\n",
        "              metrics=[RootMeanSquaredError()])\n",
        "\n",
        "model7.summary()"
      ]
    },
    {
      "cell_type": "code",
      "execution_count": 41,
      "metadata": {
        "colab": {
          "base_uri": "https://localhost:8080/"
        },
        "id": "xJeer77_nadJ",
        "outputId": "223080fb-a343-4e5b-8ba0-c140a9d9b7bc"
      },
      "outputs": [
        {
          "output_type": "stream",
          "name": "stdout",
          "text": [
            "Epoch 1/100\n",
            "1/7 [===>..........................] - ETA: 29s - loss: 0.5296 - root_mean_squared_error: 0.7278"
          ]
        },
        {
          "output_type": "stream",
          "name": "stderr",
          "text": [
            "WARNING:absl:Found untraced functions such as gru_cell_8_layer_call_fn, gru_cell_8_layer_call_and_return_conditional_losses, gru_cell_9_layer_call_fn, gru_cell_9_layer_call_and_return_conditional_losses, gru_cell_11_layer_call_fn while saving (showing 5 of 8). These functions will not be directly callable after loading.\n",
            "WARNING:absl:<keras.layers.recurrent.GRUCell object at 0x7fec3fea30d0> has the same name 'GRUCell' as a built-in Keras object. Consider renaming <class 'keras.layers.recurrent.GRUCell'> to avoid naming conflicts when loading with `tf.keras.models.load_model`. If renaming is not possible, pass the object in the `custom_objects` parameter of the load function.\n",
            "WARNING:absl:<keras.layers.recurrent.GRUCell object at 0x7fec4feaad10> has the same name 'GRUCell' as a built-in Keras object. Consider renaming <class 'keras.layers.recurrent.GRUCell'> to avoid naming conflicts when loading with `tf.keras.models.load_model`. If renaming is not possible, pass the object in the `custom_objects` parameter of the load function.\n",
            "WARNING:absl:<keras.layers.recurrent.GRUCell object at 0x7fec3fe86650> has the same name 'GRUCell' as a built-in Keras object. Consider renaming <class 'keras.layers.recurrent.GRUCell'> to avoid naming conflicts when loading with `tf.keras.models.load_model`. If renaming is not possible, pass the object in the `custom_objects` parameter of the load function.\n",
            "WARNING:absl:<keras.layers.recurrent.GRUCell object at 0x7fec4a2d0990> has the same name 'GRUCell' as a built-in Keras object. Consider renaming <class 'keras.layers.recurrent.GRUCell'> to avoid naming conflicts when loading with `tf.keras.models.load_model`. If renaming is not possible, pass the object in the `custom_objects` parameter of the load function.\n"
          ]
        },
        {
          "output_type": "stream",
          "name": "stdout",
          "text": [
            "\b\b\b\b\b\b\b\b\b\b\b\b\b\b\b\b\b\b\b\b\b\b\b\b\b\b\b\b\b\b\b\b\b\b\b\b\b\b\b\b\b\b\b\b\b\b\b\b\b\b\b\b\b\b\b\b\b\b\b\b\b\b\b\b\b\b\b\b\b\b\b\b\b\b\b\b\b\b\b\b\b\b\b\b\b\b\b\b\b\b\b\b\b\b\b\b\r7/7 [==============================] - 25s 3s/step - loss: 0.2215 - root_mean_squared_error: 0.4707 - val_loss: 0.0081 - val_root_mean_squared_error: 0.0898\n",
            "Epoch 2/100\n",
            "7/7 [==============================] - 0s 14ms/step - loss: 0.0513 - root_mean_squared_error: 0.2265 - val_loss: 0.0330 - val_root_mean_squared_error: 0.1817\n",
            "Epoch 3/100\n",
            "7/7 [==============================] - 0s 13ms/step - loss: 0.0105 - root_mean_squared_error: 0.1024 - val_loss: 0.0122 - val_root_mean_squared_error: 0.1106\n",
            "Epoch 4/100\n",
            "7/7 [==============================] - 0s 10ms/step - loss: 0.0140 - root_mean_squared_error: 0.1184 - val_loss: 0.0125 - val_root_mean_squared_error: 0.1117\n",
            "Epoch 5/100\n",
            "1/7 [===>..........................] - ETA: 0s - loss: 0.0096 - root_mean_squared_error: 0.0982"
          ]
        },
        {
          "output_type": "stream",
          "name": "stderr",
          "text": [
            "WARNING:absl:Found untraced functions such as gru_cell_8_layer_call_fn, gru_cell_8_layer_call_and_return_conditional_losses, gru_cell_9_layer_call_fn, gru_cell_9_layer_call_and_return_conditional_losses, gru_cell_11_layer_call_fn while saving (showing 5 of 8). These functions will not be directly callable after loading.\n",
            "WARNING:absl:<keras.layers.recurrent.GRUCell object at 0x7fec3fea30d0> has the same name 'GRUCell' as a built-in Keras object. Consider renaming <class 'keras.layers.recurrent.GRUCell'> to avoid naming conflicts when loading with `tf.keras.models.load_model`. If renaming is not possible, pass the object in the `custom_objects` parameter of the load function.\n",
            "WARNING:absl:<keras.layers.recurrent.GRUCell object at 0x7fec4feaad10> has the same name 'GRUCell' as a built-in Keras object. Consider renaming <class 'keras.layers.recurrent.GRUCell'> to avoid naming conflicts when loading with `tf.keras.models.load_model`. If renaming is not possible, pass the object in the `custom_objects` parameter of the load function.\n",
            "WARNING:absl:<keras.layers.recurrent.GRUCell object at 0x7fec3fe86650> has the same name 'GRUCell' as a built-in Keras object. Consider renaming <class 'keras.layers.recurrent.GRUCell'> to avoid naming conflicts when loading with `tf.keras.models.load_model`. If renaming is not possible, pass the object in the `custom_objects` parameter of the load function.\n",
            "WARNING:absl:<keras.layers.recurrent.GRUCell object at 0x7fec4a2d0990> has the same name 'GRUCell' as a built-in Keras object. Consider renaming <class 'keras.layers.recurrent.GRUCell'> to avoid naming conflicts when loading with `tf.keras.models.load_model`. If renaming is not possible, pass the object in the `custom_objects` parameter of the load function.\n"
          ]
        },
        {
          "output_type": "stream",
          "name": "stdout",
          "text": [
            "\b\b\b\b\b\b\b\b\b\b\b\b\b\b\b\b\b\b\b\b\b\b\b\b\b\b\b\b\b\b\b\b\b\b\b\b\b\b\b\b\b\b\b\b\b\b\b\b\b\b\b\b\b\b\b\b\b\b\b\b\b\b\b\b\b\b\b\b\b\b\b\b\b\b\b\b\b\b\b\b\b\b\b\b\b\b\b\b\b\b\b\b\b\b\b\r7/7 [==============================] - 19s 3s/step - loss: 0.0037 - root_mean_squared_error: 0.0609 - val_loss: 0.0011 - val_root_mean_squared_error: 0.0338\n",
            "Epoch 6/100\n",
            "7/7 [==============================] - 0s 10ms/step - loss: 0.0032 - root_mean_squared_error: 0.0565 - val_loss: 0.0014 - val_root_mean_squared_error: 0.0376\n",
            "Epoch 7/100\n",
            "7/7 [==============================] - 0s 10ms/step - loss: 8.1156e-04 - root_mean_squared_error: 0.0285 - val_loss: 0.0017 - val_root_mean_squared_error: 0.0412\n",
            "Epoch 8/100\n",
            "7/7 [==============================] - 0s 11ms/step - loss: 0.0013 - root_mean_squared_error: 0.0354 - val_loss: 0.0011 - val_root_mean_squared_error: 0.0339\n",
            "Epoch 9/100\n",
            "1/7 [===>..........................] - ETA: 0s - loss: 4.9736e-04 - root_mean_squared_error: 0.0223"
          ]
        },
        {
          "output_type": "stream",
          "name": "stderr",
          "text": [
            "WARNING:absl:Found untraced functions such as gru_cell_8_layer_call_fn, gru_cell_8_layer_call_and_return_conditional_losses, gru_cell_9_layer_call_fn, gru_cell_9_layer_call_and_return_conditional_losses, gru_cell_11_layer_call_fn while saving (showing 5 of 8). These functions will not be directly callable after loading.\n",
            "WARNING:absl:<keras.layers.recurrent.GRUCell object at 0x7fec3fea30d0> has the same name 'GRUCell' as a built-in Keras object. Consider renaming <class 'keras.layers.recurrent.GRUCell'> to avoid naming conflicts when loading with `tf.keras.models.load_model`. If renaming is not possible, pass the object in the `custom_objects` parameter of the load function.\n",
            "WARNING:absl:<keras.layers.recurrent.GRUCell object at 0x7fec4feaad10> has the same name 'GRUCell' as a built-in Keras object. Consider renaming <class 'keras.layers.recurrent.GRUCell'> to avoid naming conflicts when loading with `tf.keras.models.load_model`. If renaming is not possible, pass the object in the `custom_objects` parameter of the load function.\n",
            "WARNING:absl:<keras.layers.recurrent.GRUCell object at 0x7fec3fe86650> has the same name 'GRUCell' as a built-in Keras object. Consider renaming <class 'keras.layers.recurrent.GRUCell'> to avoid naming conflicts when loading with `tf.keras.models.load_model`. If renaming is not possible, pass the object in the `custom_objects` parameter of the load function.\n",
            "WARNING:absl:<keras.layers.recurrent.GRUCell object at 0x7fec4a2d0990> has the same name 'GRUCell' as a built-in Keras object. Consider renaming <class 'keras.layers.recurrent.GRUCell'> to avoid naming conflicts when loading with `tf.keras.models.load_model`. If renaming is not possible, pass the object in the `custom_objects` parameter of the load function.\n"
          ]
        },
        {
          "output_type": "stream",
          "name": "stdout",
          "text": [
            "\b\b\b\b\b\b\b\b\b\b\b\b\b\b\b\b\b\b\b\b\b\b\b\b\b\b\b\b\b\b\b\b\b\b\b\b\b\b\b\b\b\b\b\b\b\b\b\b\b\b\b\b\b\b\b\b\b\b\b\b\b\b\b\b\b\b\b\b\b\b\b\b\b\b\b\b\b\b\b\b\b\b\b\b\b\b\b\b\b\b\b\b\b\b\b\b\b\b\b\r7/7 [==============================] - 19s 3s/step - loss: 4.8637e-04 - root_mean_squared_error: 0.0221 - val_loss: 3.7871e-04 - val_root_mean_squared_error: 0.0195\n",
            "Epoch 10/100\n",
            "7/7 [==============================] - 0s 10ms/step - loss: 5.6078e-04 - root_mean_squared_error: 0.0237 - val_loss: 3.9067e-04 - val_root_mean_squared_error: 0.0198\n",
            "Epoch 11/100\n",
            "7/7 [==============================] - 0s 10ms/step - loss: 4.0627e-04 - root_mean_squared_error: 0.0202 - val_loss: 7.4655e-04 - val_root_mean_squared_error: 0.0273\n",
            "Epoch 12/100\n",
            "1/7 [===>..........................] - ETA: 0s - loss: 4.7671e-04 - root_mean_squared_error: 0.0218"
          ]
        },
        {
          "output_type": "stream",
          "name": "stderr",
          "text": [
            "WARNING:absl:Found untraced functions such as gru_cell_8_layer_call_fn, gru_cell_8_layer_call_and_return_conditional_losses, gru_cell_9_layer_call_fn, gru_cell_9_layer_call_and_return_conditional_losses, gru_cell_11_layer_call_fn while saving (showing 5 of 8). These functions will not be directly callable after loading.\n",
            "WARNING:absl:<keras.layers.recurrent.GRUCell object at 0x7fec3fea30d0> has the same name 'GRUCell' as a built-in Keras object. Consider renaming <class 'keras.layers.recurrent.GRUCell'> to avoid naming conflicts when loading with `tf.keras.models.load_model`. If renaming is not possible, pass the object in the `custom_objects` parameter of the load function.\n",
            "WARNING:absl:<keras.layers.recurrent.GRUCell object at 0x7fec4feaad10> has the same name 'GRUCell' as a built-in Keras object. Consider renaming <class 'keras.layers.recurrent.GRUCell'> to avoid naming conflicts when loading with `tf.keras.models.load_model`. If renaming is not possible, pass the object in the `custom_objects` parameter of the load function.\n",
            "WARNING:absl:<keras.layers.recurrent.GRUCell object at 0x7fec3fe86650> has the same name 'GRUCell' as a built-in Keras object. Consider renaming <class 'keras.layers.recurrent.GRUCell'> to avoid naming conflicts when loading with `tf.keras.models.load_model`. If renaming is not possible, pass the object in the `custom_objects` parameter of the load function.\n",
            "WARNING:absl:<keras.layers.recurrent.GRUCell object at 0x7fec4a2d0990> has the same name 'GRUCell' as a built-in Keras object. Consider renaming <class 'keras.layers.recurrent.GRUCell'> to avoid naming conflicts when loading with `tf.keras.models.load_model`. If renaming is not possible, pass the object in the `custom_objects` parameter of the load function.\n"
          ]
        },
        {
          "output_type": "stream",
          "name": "stdout",
          "text": [
            "\b\b\b\b\b\b\b\b\b\b\b\b\b\b\b\b\b\b\b\b\b\b\b\b\b\b\b\b\b\b\b\b\b\b\b\b\b\b\b\b\b\b\b\b\b\b\b\b\b\b\b\b\b\b\b\b\b\b\b\b\b\b\b\b\b\b\b\b\b\b\b\b\b\b\b\b\b\b\b\b\b\b\b\b\b\b\b\b\b\b\b\b\b\b\b\b\b\b\b\r7/7 [==============================] - 18s 3s/step - loss: 3.7001e-04 - root_mean_squared_error: 0.0192 - val_loss: 3.5493e-04 - val_root_mean_squared_error: 0.0188\n",
            "Epoch 13/100\n",
            "1/7 [===>..........................] - ETA: 0s - loss: 3.0677e-04 - root_mean_squared_error: 0.0175"
          ]
        },
        {
          "output_type": "stream",
          "name": "stderr",
          "text": [
            "WARNING:absl:Found untraced functions such as gru_cell_8_layer_call_fn, gru_cell_8_layer_call_and_return_conditional_losses, gru_cell_9_layer_call_fn, gru_cell_9_layer_call_and_return_conditional_losses, gru_cell_11_layer_call_fn while saving (showing 5 of 8). These functions will not be directly callable after loading.\n",
            "WARNING:absl:<keras.layers.recurrent.GRUCell object at 0x7fec3fea30d0> has the same name 'GRUCell' as a built-in Keras object. Consider renaming <class 'keras.layers.recurrent.GRUCell'> to avoid naming conflicts when loading with `tf.keras.models.load_model`. If renaming is not possible, pass the object in the `custom_objects` parameter of the load function.\n",
            "WARNING:absl:<keras.layers.recurrent.GRUCell object at 0x7fec4feaad10> has the same name 'GRUCell' as a built-in Keras object. Consider renaming <class 'keras.layers.recurrent.GRUCell'> to avoid naming conflicts when loading with `tf.keras.models.load_model`. If renaming is not possible, pass the object in the `custom_objects` parameter of the load function.\n",
            "WARNING:absl:<keras.layers.recurrent.GRUCell object at 0x7fec3fe86650> has the same name 'GRUCell' as a built-in Keras object. Consider renaming <class 'keras.layers.recurrent.GRUCell'> to avoid naming conflicts when loading with `tf.keras.models.load_model`. If renaming is not possible, pass the object in the `custom_objects` parameter of the load function.\n",
            "WARNING:absl:<keras.layers.recurrent.GRUCell object at 0x7fec4a2d0990> has the same name 'GRUCell' as a built-in Keras object. Consider renaming <class 'keras.layers.recurrent.GRUCell'> to avoid naming conflicts when loading with `tf.keras.models.load_model`. If renaming is not possible, pass the object in the `custom_objects` parameter of the load function.\n"
          ]
        },
        {
          "output_type": "stream",
          "name": "stdout",
          "text": [
            "\b\b\b\b\b\b\b\b\b\b\b\b\b\b\b\b\b\b\b\b\b\b\b\b\b\b\b\b\b\b\b\b\b\b\b\b\b\b\b\b\b\b\b\b\b\b\b\b\b\b\b\b\b\b\b\b\b\b\b\b\b\b\b\b\b\b\b\b\b\b\b\b\b\b\b\b\b\b\b\b\b\b\b\b\b\b\b\b\b\b\b\b\b\b\b\b\b\b\b\r7/7 [==============================] - 20s 3s/step - loss: 3.5274e-04 - root_mean_squared_error: 0.0188 - val_loss: 3.4514e-04 - val_root_mean_squared_error: 0.0186\n",
            "Epoch 14/100\n",
            "7/7 [==============================] - 0s 10ms/step - loss: 3.2260e-04 - root_mean_squared_error: 0.0180 - val_loss: 4.6065e-04 - val_root_mean_squared_error: 0.0215\n",
            "Epoch 15/100\n",
            "7/7 [==============================] - 0s 10ms/step - loss: 3.4296e-04 - root_mean_squared_error: 0.0185 - val_loss: 4.1632e-04 - val_root_mean_squared_error: 0.0204\n",
            "Epoch 16/100\n",
            "1/7 [===>..........................] - ETA: 0s - loss: 3.1479e-04 - root_mean_squared_error: 0.0177"
          ]
        },
        {
          "output_type": "stream",
          "name": "stderr",
          "text": [
            "WARNING:absl:Found untraced functions such as gru_cell_8_layer_call_fn, gru_cell_8_layer_call_and_return_conditional_losses, gru_cell_9_layer_call_fn, gru_cell_9_layer_call_and_return_conditional_losses, gru_cell_11_layer_call_fn while saving (showing 5 of 8). These functions will not be directly callable after loading.\n",
            "WARNING:absl:<keras.layers.recurrent.GRUCell object at 0x7fec3fea30d0> has the same name 'GRUCell' as a built-in Keras object. Consider renaming <class 'keras.layers.recurrent.GRUCell'> to avoid naming conflicts when loading with `tf.keras.models.load_model`. If renaming is not possible, pass the object in the `custom_objects` parameter of the load function.\n",
            "WARNING:absl:<keras.layers.recurrent.GRUCell object at 0x7fec4feaad10> has the same name 'GRUCell' as a built-in Keras object. Consider renaming <class 'keras.layers.recurrent.GRUCell'> to avoid naming conflicts when loading with `tf.keras.models.load_model`. If renaming is not possible, pass the object in the `custom_objects` parameter of the load function.\n",
            "WARNING:absl:<keras.layers.recurrent.GRUCell object at 0x7fec3fe86650> has the same name 'GRUCell' as a built-in Keras object. Consider renaming <class 'keras.layers.recurrent.GRUCell'> to avoid naming conflicts when loading with `tf.keras.models.load_model`. If renaming is not possible, pass the object in the `custom_objects` parameter of the load function.\n",
            "WARNING:absl:<keras.layers.recurrent.GRUCell object at 0x7fec4a2d0990> has the same name 'GRUCell' as a built-in Keras object. Consider renaming <class 'keras.layers.recurrent.GRUCell'> to avoid naming conflicts when loading with `tf.keras.models.load_model`. If renaming is not possible, pass the object in the `custom_objects` parameter of the load function.\n"
          ]
        },
        {
          "output_type": "stream",
          "name": "stdout",
          "text": [
            "\b\b\b\b\b\b\b\b\b\b\b\b\b\b\b\b\b\b\b\b\b\b\b\b\b\b\b\b\b\b\b\b\b\b\b\b\b\b\b\b\b\b\b\b\b\b\b\b\b\b\b\b\b\b\b\b\b\b\b\b\b\b\b\b\b\b\b\b\b\b\b\b\b\b\b\b\b\b\b\b\b\b\b\b\b\b\b\b\b\b\b\b\b\b\b\b\b\b\b\r7/7 [==============================] - 19s 3s/step - loss: 3.4087e-04 - root_mean_squared_error: 0.0185 - val_loss: 3.1681e-04 - val_root_mean_squared_error: 0.0178\n",
            "Epoch 17/100\n",
            "7/7 [==============================] - 0s 14ms/step - loss: 3.2713e-04 - root_mean_squared_error: 0.0181 - val_loss: 4.6172e-04 - val_root_mean_squared_error: 0.0215\n",
            "Epoch 18/100\n",
            "7/7 [==============================] - 0s 11ms/step - loss: 3.2456e-04 - root_mean_squared_error: 0.0180 - val_loss: 4.6126e-04 - val_root_mean_squared_error: 0.0215\n",
            "Epoch 19/100\n",
            "7/7 [==============================] - 0s 14ms/step - loss: 3.1079e-04 - root_mean_squared_error: 0.0176 - val_loss: 3.3981e-04 - val_root_mean_squared_error: 0.0184\n",
            "Epoch 20/100\n",
            "7/7 [==============================] - 0s 10ms/step - loss: 3.0636e-04 - root_mean_squared_error: 0.0175 - val_loss: 4.0008e-04 - val_root_mean_squared_error: 0.0200\n",
            "Epoch 21/100\n",
            "7/7 [==============================] - 0s 10ms/step - loss: 3.0136e-04 - root_mean_squared_error: 0.0174 - val_loss: 4.4793e-04 - val_root_mean_squared_error: 0.0212\n",
            "Epoch 22/100\n",
            "7/7 [==============================] - 0s 10ms/step - loss: 2.9522e-04 - root_mean_squared_error: 0.0172 - val_loss: 4.0196e-04 - val_root_mean_squared_error: 0.0200\n",
            "Epoch 23/100\n",
            "7/7 [==============================] - 0s 11ms/step - loss: 2.9552e-04 - root_mean_squared_error: 0.0172 - val_loss: 3.9531e-04 - val_root_mean_squared_error: 0.0199\n",
            "Epoch 24/100\n",
            "7/7 [==============================] - 0s 10ms/step - loss: 2.8790e-04 - root_mean_squared_error: 0.0170 - val_loss: 3.4720e-04 - val_root_mean_squared_error: 0.0186\n",
            "Epoch 25/100\n",
            "7/7 [==============================] - 0s 10ms/step - loss: 2.7669e-04 - root_mean_squared_error: 0.0166 - val_loss: 4.0967e-04 - val_root_mean_squared_error: 0.0202\n",
            "Epoch 26/100\n",
            "7/7 [==============================] - 0s 10ms/step - loss: 2.7588e-04 - root_mean_squared_error: 0.0166 - val_loss: 3.9705e-04 - val_root_mean_squared_error: 0.0199\n",
            "Epoch 27/100\n",
            "7/7 [==============================] - 0s 10ms/step - loss: 2.7111e-04 - root_mean_squared_error: 0.0165 - val_loss: 3.8412e-04 - val_root_mean_squared_error: 0.0196\n",
            "Epoch 28/100\n",
            "7/7 [==============================] - 0s 10ms/step - loss: 2.7185e-04 - root_mean_squared_error: 0.0165 - val_loss: 3.3957e-04 - val_root_mean_squared_error: 0.0184\n",
            "Epoch 29/100\n",
            "7/7 [==============================] - 0s 11ms/step - loss: 2.5880e-04 - root_mean_squared_error: 0.0161 - val_loss: 3.9443e-04 - val_root_mean_squared_error: 0.0199\n",
            "Epoch 30/100\n",
            "7/7 [==============================] - 0s 10ms/step - loss: 2.6206e-04 - root_mean_squared_error: 0.0162 - val_loss: 3.9296e-04 - val_root_mean_squared_error: 0.0198\n",
            "Epoch 31/100\n",
            "7/7 [==============================] - 0s 10ms/step - loss: 2.5127e-04 - root_mean_squared_error: 0.0159 - val_loss: 3.2947e-04 - val_root_mean_squared_error: 0.0182\n",
            "Epoch 32/100\n",
            "7/7 [==============================] - 0s 13ms/step - loss: 2.7128e-04 - root_mean_squared_error: 0.0165 - val_loss: 3.4398e-04 - val_root_mean_squared_error: 0.0185\n",
            "Epoch 33/100\n",
            "7/7 [==============================] - 0s 10ms/step - loss: 2.5239e-04 - root_mean_squared_error: 0.0159 - val_loss: 3.9462e-04 - val_root_mean_squared_error: 0.0199\n",
            "Epoch 34/100\n",
            "1/7 [===>..........................] - ETA: 0s - loss: 1.4980e-04 - root_mean_squared_error: 0.0122"
          ]
        },
        {
          "output_type": "stream",
          "name": "stderr",
          "text": [
            "WARNING:absl:Found untraced functions such as gru_cell_8_layer_call_fn, gru_cell_8_layer_call_and_return_conditional_losses, gru_cell_9_layer_call_fn, gru_cell_9_layer_call_and_return_conditional_losses, gru_cell_11_layer_call_fn while saving (showing 5 of 8). These functions will not be directly callable after loading.\n",
            "WARNING:absl:<keras.layers.recurrent.GRUCell object at 0x7fec3fea30d0> has the same name 'GRUCell' as a built-in Keras object. Consider renaming <class 'keras.layers.recurrent.GRUCell'> to avoid naming conflicts when loading with `tf.keras.models.load_model`. If renaming is not possible, pass the object in the `custom_objects` parameter of the load function.\n",
            "WARNING:absl:<keras.layers.recurrent.GRUCell object at 0x7fec4feaad10> has the same name 'GRUCell' as a built-in Keras object. Consider renaming <class 'keras.layers.recurrent.GRUCell'> to avoid naming conflicts when loading with `tf.keras.models.load_model`. If renaming is not possible, pass the object in the `custom_objects` parameter of the load function.\n",
            "WARNING:absl:<keras.layers.recurrent.GRUCell object at 0x7fec3fe86650> has the same name 'GRUCell' as a built-in Keras object. Consider renaming <class 'keras.layers.recurrent.GRUCell'> to avoid naming conflicts when loading with `tf.keras.models.load_model`. If renaming is not possible, pass the object in the `custom_objects` parameter of the load function.\n",
            "WARNING:absl:<keras.layers.recurrent.GRUCell object at 0x7fec4a2d0990> has the same name 'GRUCell' as a built-in Keras object. Consider renaming <class 'keras.layers.recurrent.GRUCell'> to avoid naming conflicts when loading with `tf.keras.models.load_model`. If renaming is not possible, pass the object in the `custom_objects` parameter of the load function.\n"
          ]
        },
        {
          "output_type": "stream",
          "name": "stdout",
          "text": [
            "\b\b\b\b\b\b\b\b\b\b\b\b\b\b\b\b\b\b\b\b\b\b\b\b\b\b\b\b\b\b\b\b\b\b\b\b\b\b\b\b\b\b\b\b\b\b\b\b\b\b\b\b\b\b\b\b\b\b\b\b\b\b\b\b\b\b\b\b\b\b\b\b\b\b\b\b\b\b\b\b\b\b\b\b\b\b\b\b\b\b\b\b\b\b\b\b\b\b\b\r7/7 [==============================] - 19s 3s/step - loss: 2.3520e-04 - root_mean_squared_error: 0.0153 - val_loss: 3.0991e-04 - val_root_mean_squared_error: 0.0176\n",
            "Epoch 35/100\n",
            "7/7 [==============================] - 0s 10ms/step - loss: 2.6322e-04 - root_mean_squared_error: 0.0162 - val_loss: 3.5084e-04 - val_root_mean_squared_error: 0.0187\n",
            "Epoch 36/100\n",
            "7/7 [==============================] - 0s 10ms/step - loss: 2.3404e-04 - root_mean_squared_error: 0.0153 - val_loss: 3.6072e-04 - val_root_mean_squared_error: 0.0190\n",
            "Epoch 37/100\n",
            "7/7 [==============================] - 0s 10ms/step - loss: 2.3019e-04 - root_mean_squared_error: 0.0152 - val_loss: 3.4180e-04 - val_root_mean_squared_error: 0.0185\n",
            "Epoch 38/100\n",
            "7/7 [==============================] - 0s 10ms/step - loss: 2.2286e-04 - root_mean_squared_error: 0.0149 - val_loss: 3.3124e-04 - val_root_mean_squared_error: 0.0182\n",
            "Epoch 39/100\n",
            "7/7 [==============================] - 0s 10ms/step - loss: 2.2083e-04 - root_mean_squared_error: 0.0149 - val_loss: 3.2601e-04 - val_root_mean_squared_error: 0.0181\n",
            "Epoch 40/100\n",
            "7/7 [==============================] - 0s 11ms/step - loss: 2.1637e-04 - root_mean_squared_error: 0.0147 - val_loss: 3.7190e-04 - val_root_mean_squared_error: 0.0193\n",
            "Epoch 41/100\n",
            "7/7 [==============================] - 0s 13ms/step - loss: 2.3556e-04 - root_mean_squared_error: 0.0153 - val_loss: 3.1594e-04 - val_root_mean_squared_error: 0.0178\n",
            "Epoch 42/100\n",
            "7/7 [==============================] - 0s 10ms/step - loss: 2.2600e-04 - root_mean_squared_error: 0.0150 - val_loss: 3.1914e-04 - val_root_mean_squared_error: 0.0179\n",
            "Epoch 43/100\n",
            "7/7 [==============================] - 0s 10ms/step - loss: 2.1504e-04 - root_mean_squared_error: 0.0147 - val_loss: 3.3781e-04 - val_root_mean_squared_error: 0.0184\n",
            "Epoch 44/100\n",
            "1/7 [===>..........................] - ETA: 0s - loss: 2.4228e-04 - root_mean_squared_error: 0.0156"
          ]
        },
        {
          "output_type": "stream",
          "name": "stderr",
          "text": [
            "WARNING:absl:Found untraced functions such as gru_cell_8_layer_call_fn, gru_cell_8_layer_call_and_return_conditional_losses, gru_cell_9_layer_call_fn, gru_cell_9_layer_call_and_return_conditional_losses, gru_cell_11_layer_call_fn while saving (showing 5 of 8). These functions will not be directly callable after loading.\n",
            "WARNING:absl:<keras.layers.recurrent.GRUCell object at 0x7fec3fea30d0> has the same name 'GRUCell' as a built-in Keras object. Consider renaming <class 'keras.layers.recurrent.GRUCell'> to avoid naming conflicts when loading with `tf.keras.models.load_model`. If renaming is not possible, pass the object in the `custom_objects` parameter of the load function.\n",
            "WARNING:absl:<keras.layers.recurrent.GRUCell object at 0x7fec4feaad10> has the same name 'GRUCell' as a built-in Keras object. Consider renaming <class 'keras.layers.recurrent.GRUCell'> to avoid naming conflicts when loading with `tf.keras.models.load_model`. If renaming is not possible, pass the object in the `custom_objects` parameter of the load function.\n",
            "WARNING:absl:<keras.layers.recurrent.GRUCell object at 0x7fec3fe86650> has the same name 'GRUCell' as a built-in Keras object. Consider renaming <class 'keras.layers.recurrent.GRUCell'> to avoid naming conflicts when loading with `tf.keras.models.load_model`. If renaming is not possible, pass the object in the `custom_objects` parameter of the load function.\n",
            "WARNING:absl:<keras.layers.recurrent.GRUCell object at 0x7fec4a2d0990> has the same name 'GRUCell' as a built-in Keras object. Consider renaming <class 'keras.layers.recurrent.GRUCell'> to avoid naming conflicts when loading with `tf.keras.models.load_model`. If renaming is not possible, pass the object in the `custom_objects` parameter of the load function.\n"
          ]
        },
        {
          "output_type": "stream",
          "name": "stdout",
          "text": [
            "\b\b\b\b\b\b\b\b\b\b\b\b\b\b\b\b\b\b\b\b\b\b\b\b\b\b\b\b\b\b\b\b\b\b\b\b\b\b\b\b\b\b\b\b\b\b\b\b\b\b\b\b\b\b\b\b\b\b\b\b\b\b\b\b\b\b\b\b\b\b\b\b\b\b\b\b\b\b\b\b\b\b\b\b\b\b\b\b\b\b\b\b\b\b\b\b\b\b\b\r7/7 [==============================] - 19s 3s/step - loss: 2.0255e-04 - root_mean_squared_error: 0.0142 - val_loss: 3.0976e-04 - val_root_mean_squared_error: 0.0176\n",
            "Epoch 45/100\n",
            "7/7 [==============================] - 0s 10ms/step - loss: 2.0746e-04 - root_mean_squared_error: 0.0144 - val_loss: 3.6432e-04 - val_root_mean_squared_error: 0.0191\n",
            "Epoch 46/100\n",
            "7/7 [==============================] - 0s 10ms/step - loss: 2.3570e-04 - root_mean_squared_error: 0.0154 - val_loss: 3.1772e-04 - val_root_mean_squared_error: 0.0178\n",
            "Epoch 47/100\n",
            "7/7 [==============================] - 0s 10ms/step - loss: 2.0083e-04 - root_mean_squared_error: 0.0142 - val_loss: 3.2113e-04 - val_root_mean_squared_error: 0.0179\n",
            "Epoch 48/100\n",
            "7/7 [==============================] - 0s 10ms/step - loss: 2.0062e-04 - root_mean_squared_error: 0.0142 - val_loss: 3.3627e-04 - val_root_mean_squared_error: 0.0183\n",
            "Epoch 49/100\n",
            "7/7 [==============================] - 0s 11ms/step - loss: 1.8715e-04 - root_mean_squared_error: 0.0137 - val_loss: 3.1131e-04 - val_root_mean_squared_error: 0.0176\n",
            "Epoch 50/100\n",
            "7/7 [==============================] - 0s 10ms/step - loss: 1.8617e-04 - root_mean_squared_error: 0.0136 - val_loss: 3.2831e-04 - val_root_mean_squared_error: 0.0181\n",
            "Epoch 51/100\n",
            "7/7 [==============================] - 0s 10ms/step - loss: 1.8181e-04 - root_mean_squared_error: 0.0135 - val_loss: 3.2480e-04 - val_root_mean_squared_error: 0.0180\n",
            "Epoch 52/100\n",
            "7/7 [==============================] - 0s 10ms/step - loss: 1.8400e-04 - root_mean_squared_error: 0.0136 - val_loss: 3.2759e-04 - val_root_mean_squared_error: 0.0181\n",
            "Epoch 53/100\n",
            "7/7 [==============================] - 0s 10ms/step - loss: 1.8525e-04 - root_mean_squared_error: 0.0136 - val_loss: 3.2630e-04 - val_root_mean_squared_error: 0.0181\n",
            "Epoch 54/100\n",
            "7/7 [==============================] - 0s 10ms/step - loss: 1.8521e-04 - root_mean_squared_error: 0.0136 - val_loss: 3.1687e-04 - val_root_mean_squared_error: 0.0178\n",
            "Epoch 55/100\n",
            "7/7 [==============================] - 0s 10ms/step - loss: 1.8553e-04 - root_mean_squared_error: 0.0136 - val_loss: 3.2118e-04 - val_root_mean_squared_error: 0.0179\n",
            "Epoch 56/100\n",
            "7/7 [==============================] - 0s 10ms/step - loss: 1.8708e-04 - root_mean_squared_error: 0.0137 - val_loss: 3.1303e-04 - val_root_mean_squared_error: 0.0177\n",
            "Epoch 57/100\n",
            "7/7 [==============================] - 0s 10ms/step - loss: 1.7876e-04 - root_mean_squared_error: 0.0134 - val_loss: 3.1613e-04 - val_root_mean_squared_error: 0.0178\n",
            "Epoch 58/100\n",
            "7/7 [==============================] - 0s 10ms/step - loss: 1.7548e-04 - root_mean_squared_error: 0.0132 - val_loss: 3.1874e-04 - val_root_mean_squared_error: 0.0179\n",
            "Epoch 59/100\n",
            "7/7 [==============================] - 0s 10ms/step - loss: 1.6062e-04 - root_mean_squared_error: 0.0127 - val_loss: 3.1000e-04 - val_root_mean_squared_error: 0.0176\n",
            "Epoch 60/100\n",
            "7/7 [==============================] - 0s 10ms/step - loss: 1.5999e-04 - root_mean_squared_error: 0.0126 - val_loss: 3.1977e-04 - val_root_mean_squared_error: 0.0179\n",
            "Epoch 61/100\n",
            "7/7 [==============================] - 0s 10ms/step - loss: 1.6130e-04 - root_mean_squared_error: 0.0127 - val_loss: 3.1003e-04 - val_root_mean_squared_error: 0.0176\n",
            "Epoch 62/100\n",
            "7/7 [==============================] - 0s 10ms/step - loss: 1.5796e-04 - root_mean_squared_error: 0.0126 - val_loss: 3.1015e-04 - val_root_mean_squared_error: 0.0176\n",
            "Epoch 63/100\n",
            "7/7 [==============================] - 0s 10ms/step - loss: 1.5460e-04 - root_mean_squared_error: 0.0124 - val_loss: 3.1342e-04 - val_root_mean_squared_error: 0.0177\n",
            "Epoch 64/100\n",
            "7/7 [==============================] - 0s 13ms/step - loss: 1.5283e-04 - root_mean_squared_error: 0.0124 - val_loss: 3.1076e-04 - val_root_mean_squared_error: 0.0176\n",
            "Epoch 65/100\n",
            "7/7 [==============================] - 0s 10ms/step - loss: 1.5571e-04 - root_mean_squared_error: 0.0125 - val_loss: 3.1097e-04 - val_root_mean_squared_error: 0.0176\n",
            "Epoch 66/100\n",
            "7/7 [==============================] - 0s 10ms/step - loss: 1.4798e-04 - root_mean_squared_error: 0.0122 - val_loss: 3.1214e-04 - val_root_mean_squared_error: 0.0177\n",
            "Epoch 67/100\n",
            "7/7 [==============================] - 0s 10ms/step - loss: 1.4888e-04 - root_mean_squared_error: 0.0122 - val_loss: 3.1083e-04 - val_root_mean_squared_error: 0.0176\n",
            "Epoch 68/100\n",
            "7/7 [==============================] - 0s 10ms/step - loss: 1.4612e-04 - root_mean_squared_error: 0.0121 - val_loss: 3.1383e-04 - val_root_mean_squared_error: 0.0177\n",
            "Epoch 69/100\n",
            "7/7 [==============================] - 0s 10ms/step - loss: 1.5584e-04 - root_mean_squared_error: 0.0125 - val_loss: 3.1810e-04 - val_root_mean_squared_error: 0.0178\n",
            "Epoch 70/100\n",
            "7/7 [==============================] - 0s 13ms/step - loss: 1.5410e-04 - root_mean_squared_error: 0.0124 - val_loss: 3.1541e-04 - val_root_mean_squared_error: 0.0178\n",
            "Epoch 71/100\n",
            "7/7 [==============================] - 0s 10ms/step - loss: 1.4675e-04 - root_mean_squared_error: 0.0121 - val_loss: 3.1347e-04 - val_root_mean_squared_error: 0.0177\n",
            "Epoch 72/100\n",
            "7/7 [==============================] - 0s 10ms/step - loss: 1.4132e-04 - root_mean_squared_error: 0.0119 - val_loss: 3.1234e-04 - val_root_mean_squared_error: 0.0177\n",
            "Epoch 73/100\n",
            "7/7 [==============================] - 0s 10ms/step - loss: 1.4193e-04 - root_mean_squared_error: 0.0119 - val_loss: 3.1278e-04 - val_root_mean_squared_error: 0.0177\n",
            "Epoch 74/100\n",
            "7/7 [==============================] - 0s 11ms/step - loss: 1.4022e-04 - root_mean_squared_error: 0.0118 - val_loss: 3.1276e-04 - val_root_mean_squared_error: 0.0177\n",
            "Epoch 75/100\n",
            "7/7 [==============================] - 0s 10ms/step - loss: 1.3758e-04 - root_mean_squared_error: 0.0117 - val_loss: 3.1176e-04 - val_root_mean_squared_error: 0.0177\n",
            "Epoch 76/100\n",
            "7/7 [==============================] - 0s 10ms/step - loss: 1.3929e-04 - root_mean_squared_error: 0.0118 - val_loss: 3.2505e-04 - val_root_mean_squared_error: 0.0180\n",
            "Epoch 77/100\n",
            "7/7 [==============================] - 0s 10ms/step - loss: 1.3875e-04 - root_mean_squared_error: 0.0118 - val_loss: 3.1476e-04 - val_root_mean_squared_error: 0.0177\n",
            "Epoch 78/100\n",
            "7/7 [==============================] - 0s 10ms/step - loss: 1.4305e-04 - root_mean_squared_error: 0.0120 - val_loss: 3.3319e-04 - val_root_mean_squared_error: 0.0183\n",
            "Epoch 79/100\n",
            "7/7 [==============================] - 0s 10ms/step - loss: 1.3918e-04 - root_mean_squared_error: 0.0118 - val_loss: 3.1501e-04 - val_root_mean_squared_error: 0.0177\n",
            "Epoch 80/100\n",
            "7/7 [==============================] - 0s 10ms/step - loss: 1.3814e-04 - root_mean_squared_error: 0.0118 - val_loss: 3.2076e-04 - val_root_mean_squared_error: 0.0179\n",
            "Epoch 81/100\n",
            "7/7 [==============================] - 0s 10ms/step - loss: 1.3569e-04 - root_mean_squared_error: 0.0116 - val_loss: 3.1292e-04 - val_root_mean_squared_error: 0.0177\n",
            "Epoch 82/100\n",
            "7/7 [==============================] - 0s 10ms/step - loss: 1.3214e-04 - root_mean_squared_error: 0.0115 - val_loss: 3.1527e-04 - val_root_mean_squared_error: 0.0178\n",
            "Epoch 83/100\n",
            "7/7 [==============================] - 0s 10ms/step - loss: 1.3491e-04 - root_mean_squared_error: 0.0116 - val_loss: 3.4255e-04 - val_root_mean_squared_error: 0.0185\n",
            "Epoch 84/100\n",
            "7/7 [==============================] - 0s 13ms/step - loss: 1.4455e-04 - root_mean_squared_error: 0.0120 - val_loss: 3.1428e-04 - val_root_mean_squared_error: 0.0177\n",
            "Epoch 85/100\n",
            "7/7 [==============================] - 0s 12ms/step - loss: 1.3998e-04 - root_mean_squared_error: 0.0118 - val_loss: 3.2619e-04 - val_root_mean_squared_error: 0.0181\n",
            "Epoch 86/100\n",
            "7/7 [==============================] - 0s 13ms/step - loss: 1.2992e-04 - root_mean_squared_error: 0.0114 - val_loss: 3.1416e-04 - val_root_mean_squared_error: 0.0177\n",
            "Epoch 87/100\n",
            "7/7 [==============================] - 0s 10ms/step - loss: 1.2786e-04 - root_mean_squared_error: 0.0113 - val_loss: 3.3262e-04 - val_root_mean_squared_error: 0.0182\n",
            "Epoch 88/100\n",
            "7/7 [==============================] - 0s 10ms/step - loss: 1.3653e-04 - root_mean_squared_error: 0.0117 - val_loss: 3.1558e-04 - val_root_mean_squared_error: 0.0178\n",
            "Epoch 89/100\n",
            "7/7 [==============================] - 0s 10ms/step - loss: 1.4098e-04 - root_mean_squared_error: 0.0119 - val_loss: 3.8399e-04 - val_root_mean_squared_error: 0.0196\n",
            "Epoch 90/100\n",
            "7/7 [==============================] - 0s 10ms/step - loss: 1.4405e-04 - root_mean_squared_error: 0.0120 - val_loss: 3.1993e-04 - val_root_mean_squared_error: 0.0179\n",
            "Epoch 91/100\n",
            "7/7 [==============================] - 0s 10ms/step - loss: 1.4308e-04 - root_mean_squared_error: 0.0120 - val_loss: 3.3069e-04 - val_root_mean_squared_error: 0.0182\n",
            "Epoch 92/100\n",
            "7/7 [==============================] - 0s 10ms/step - loss: 1.3106e-04 - root_mean_squared_error: 0.0114 - val_loss: 3.1537e-04 - val_root_mean_squared_error: 0.0178\n",
            "Epoch 93/100\n",
            "7/7 [==============================] - 0s 10ms/step - loss: 1.2735e-04 - root_mean_squared_error: 0.0113 - val_loss: 3.3101e-04 - val_root_mean_squared_error: 0.0182\n",
            "Epoch 94/100\n",
            "7/7 [==============================] - 0s 10ms/step - loss: 1.2641e-04 - root_mean_squared_error: 0.0112 - val_loss: 3.1442e-04 - val_root_mean_squared_error: 0.0177\n",
            "Epoch 95/100\n",
            "7/7 [==============================] - 0s 10ms/step - loss: 1.2754e-04 - root_mean_squared_error: 0.0113 - val_loss: 3.4208e-04 - val_root_mean_squared_error: 0.0185\n",
            "Epoch 96/100\n",
            "7/7 [==============================] - 0s 10ms/step - loss: 1.3136e-04 - root_mean_squared_error: 0.0115 - val_loss: 3.2270e-04 - val_root_mean_squared_error: 0.0180\n",
            "Epoch 97/100\n",
            "7/7 [==============================] - 0s 10ms/step - loss: 1.3657e-04 - root_mean_squared_error: 0.0117 - val_loss: 3.1400e-04 - val_root_mean_squared_error: 0.0177\n",
            "Epoch 98/100\n",
            "7/7 [==============================] - 0s 10ms/step - loss: 1.2760e-04 - root_mean_squared_error: 0.0113 - val_loss: 3.2853e-04 - val_root_mean_squared_error: 0.0181\n",
            "Epoch 99/100\n",
            "7/7 [==============================] - 0s 11ms/step - loss: 1.2456e-04 - root_mean_squared_error: 0.0112 - val_loss: 3.1435e-04 - val_root_mean_squared_error: 0.0177\n",
            "Epoch 100/100\n",
            "7/7 [==============================] - 0s 11ms/step - loss: 1.2952e-04 - root_mean_squared_error: 0.0114 - val_loss: 3.4569e-04 - val_root_mean_squared_error: 0.0186\n"
          ]
        },
        {
          "output_type": "execute_result",
          "data": {
            "text/plain": [
              "<keras.callbacks.History at 0x7fec4c43ad90>"
            ]
          },
          "metadata": {},
          "execution_count": 41
        }
      ],
      "source": [
        "model7.fit(X_train, y_train, validation_data=(X_val, y_val), epochs=100, callbacks=[cp7])"
      ]
    },
    {
      "cell_type": "code",
      "execution_count": 43,
      "metadata": {
        "colab": {
          "base_uri": "https://localhost:8080/"
        },
        "id": "Gwggnatkmdr9",
        "outputId": "11bd29c5-0228-4c99-b94b-9d57872a8d41"
      },
      "outputs": [
        {
          "output_type": "stream",
          "name": "stdout",
          "text": [
            "Mean Absolute error  0.014141436\n",
            "Mean Squared error  0.0003553832\n",
            "R2 score  0.5247573157814164\n"
          ]
        }
      ],
      "source": [
        "model7 = load_model('model7/')\n",
        "test7_predictions = model7.predict(X_test).flatten()\n",
        "print(\"Mean Absolute error \", mean_absolute_error(  y_test, test7_predictions  ))\n",
        "print(\"Mean Squared error \", mean_squared_error(  y_test, test7_predictions  ))\n",
        "print(\"R2 score \",r2_score(  y_test, test7_predictions  ))\n",
        "# print(\"Accuracy \",accuracy_score(  y_test, test7_predictions  ))"
      ]
    }
  ],
  "metadata": {
    "accelerator": "GPU",
    "colab": {
      "collapsed_sections": [],
      "provenance": [],
      "include_colab_link": true
    },
    "kernelspec": {
      "display_name": "Python 3",
      "name": "python3"
    },
    "language_info": {
      "name": "python"
    }
  },
  "nbformat": 4,
  "nbformat_minor": 0
}